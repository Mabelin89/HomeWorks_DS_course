{
 "cells": [
  {
   "cell_type": "markdown",
   "metadata": {
    "id": "JSlmzb2uQHrX",
    "pycharm": {
     "name": "#%% md\n"
    }
   },
   "source": [
    "# Домашняя работа: Обучаем собственную Seq2seq модель"
   ]
  },
  {
   "cell_type": "markdown",
   "metadata": {
    "id": "5PEYCjfwQHrc",
    "pycharm": {
     "name": "#%% md\n"
    }
   },
   "source": [
    "#### Установим зависимости.\n",
    "\n",
    "В конце вы получите сообщение \"You must restart the runtime in order to use newly installed versions.\". Нажмите кнопку \"RESTART RUNTIME\"."
   ]
  },
  {
   "cell_type": "code",
   "execution_count": null,
   "metadata": {
    "id": "fr9Flx-CQHrf",
    "colab": {
     "base_uri": "https://localhost:8080/"
    },
    "outputId": "c84d4329-bb7e-44d3-d37f-8f5dd24ca3f5",
    "pycharm": {
     "name": "#%%\n"
    }
   },
   "outputs": [
    {
     "output_type": "stream",
     "name": "stdout",
     "text": [
      "Requirement already satisfied: transformers in /usr/local/lib/python3.10/dist-packages (4.35.0)\n",
      "Requirement already satisfied: torch in /usr/local/lib/python3.10/dist-packages (2.1.0+cu118)\n",
      "Requirement already satisfied: torchtext in /usr/local/lib/python3.10/dist-packages (0.16.0)\n",
      "Requirement already satisfied: portalocker in /usr/local/lib/python3.10/dist-packages (2.8.2)\n",
      "Requirement already satisfied: filelock in /usr/local/lib/python3.10/dist-packages (from transformers) (3.12.4)\n",
      "Requirement already satisfied: huggingface-hub<1.0,>=0.16.4 in /usr/local/lib/python3.10/dist-packages (from transformers) (0.17.3)\n",
      "Requirement already satisfied: numpy>=1.17 in /usr/local/lib/python3.10/dist-packages (from transformers) (1.23.5)\n",
      "Requirement already satisfied: packaging>=20.0 in /usr/local/lib/python3.10/dist-packages (from transformers) (23.2)\n",
      "Requirement already satisfied: pyyaml>=5.1 in /usr/local/lib/python3.10/dist-packages (from transformers) (6.0.1)\n",
      "Requirement already satisfied: regex!=2019.12.17 in /usr/local/lib/python3.10/dist-packages (from transformers) (2023.6.3)\n",
      "Requirement already satisfied: requests in /usr/local/lib/python3.10/dist-packages (from transformers) (2.31.0)\n",
      "Requirement already satisfied: tokenizers<0.15,>=0.14 in /usr/local/lib/python3.10/dist-packages (from transformers) (0.14.1)\n",
      "Requirement already satisfied: safetensors>=0.3.1 in /usr/local/lib/python3.10/dist-packages (from transformers) (0.4.0)\n",
      "Requirement already satisfied: tqdm>=4.27 in /usr/local/lib/python3.10/dist-packages (from transformers) (4.66.1)\n",
      "Requirement already satisfied: typing-extensions in /usr/local/lib/python3.10/dist-packages (from torch) (4.5.0)\n",
      "Requirement already satisfied: sympy in /usr/local/lib/python3.10/dist-packages (from torch) (1.12)\n",
      "Requirement already satisfied: networkx in /usr/local/lib/python3.10/dist-packages (from torch) (3.2)\n",
      "Requirement already satisfied: jinja2 in /usr/local/lib/python3.10/dist-packages (from torch) (3.1.2)\n",
      "Requirement already satisfied: fsspec in /usr/local/lib/python3.10/dist-packages (from torch) (2023.6.0)\n",
      "Requirement already satisfied: triton==2.1.0 in /usr/local/lib/python3.10/dist-packages (from torch) (2.1.0)\n",
      "Requirement already satisfied: torchdata==0.7.0 in /usr/local/lib/python3.10/dist-packages (from torchtext) (0.7.0)\n",
      "Requirement already satisfied: urllib3>=1.25 in /usr/local/lib/python3.10/dist-packages (from torchdata==0.7.0->torchtext) (2.0.7)\n",
      "Requirement already satisfied: MarkupSafe>=2.0 in /usr/local/lib/python3.10/dist-packages (from jinja2->torch) (2.1.3)\n",
      "Requirement already satisfied: charset-normalizer<4,>=2 in /usr/local/lib/python3.10/dist-packages (from requests->transformers) (3.3.1)\n",
      "Requirement already satisfied: idna<4,>=2.5 in /usr/local/lib/python3.10/dist-packages (from requests->transformers) (3.4)\n",
      "Requirement already satisfied: certifi>=2017.4.17 in /usr/local/lib/python3.10/dist-packages (from requests->transformers) (2023.7.22)\n",
      "Requirement already satisfied: mpmath>=0.19 in /usr/local/lib/python3.10/dist-packages (from sympy->torch) (1.3.0)\n"
     ]
    }
   ],
   "source": [
    "# Установим зависимости\n",
    "!pip install transformers torch torchtext portalocker"
   ]
  },
  {
   "cell_type": "markdown",
   "metadata": {
    "id": "nX1s-VUYQHri",
    "pycharm": {
     "name": "#%% md\n"
    }
   },
   "source": [
    "## Данные"
   ]
  },
  {
   "cell_type": "markdown",
   "metadata": {
    "id": "fOBmbnc6QHrj",
    "pycharm": {
     "name": "#%% md\n"
    }
   },
   "source": [
    "Будем использовать англоязычный [датасет PennTreebank](https://pytorch.org/text/stable/datasets.html#penntreebank), доступный во фреймворке `torchtext`.\n",
    "\n",
    "Для начала заглянем в датасет и посмотрим, что представляет из себя пример из датасета."
   ]
  },
  {
   "cell_type": "code",
   "execution_count": null,
   "metadata": {
    "id": "s7CV_oreQHrl",
    "pycharm": {
     "name": "#%%\n"
    }
   },
   "outputs": [],
   "source": [
    "import os\n",
    "\n",
    "os.environ[\"CUDA_VISIBLE_DEVICES\"]=\"0\""
   ]
  },
  {
   "cell_type": "code",
   "execution_count": null,
   "metadata": {
    "id": "2I7QDkUJQHrn",
    "outputId": "6a8efdbe-948d-481a-ca1d-d37c0201f3ef",
    "colab": {
     "base_uri": "https://localhost:8080/"
    },
    "pycharm": {
     "name": "#%%\n"
    }
   },
   "outputs": [
    {
     "output_type": "stream",
     "name": "stdout",
     "text": [
      "aer banknote berlitz calloway centrust cluett fromstein gitano guterman hydro-quebec ipo kia memotec mlx nahb punts rake regatta rubens sim snack-food ssangyong swapo wachter\n",
      "pierre <unk> N years old will join the board as a nonexecutive director nov. N\n",
      "mr. <unk> is chairman of <unk> n.v. the dutch publishing group\n",
      "rudolph <unk> N years old and former chairman of consolidated gold fields plc was named a nonexecutive director of this british industrial conglomerate\n",
      "a form of asbestos once used to make kent cigarette filters has caused a high percentage of cancer deaths among a group of workers exposed to it more than N years ago researchers reported\n"
     ]
    }
   ],
   "source": [
    "from torchtext.datasets import PennTreebank\n",
    "\n",
    "\n",
    "# создадим итератор по данным, загрузив готовый датасет PennTreebank из torchtext,\n",
    "# причем для начала, только обучающую train подвыборку, используя аргумент split\n",
    "train_iter = PennTreebank(split='train')\n",
    "# определим небольшое число примеров для демонстрации\n",
    "nsamples = 5\n",
    "# создадим переменную для сохранения текста примеров в единый текст\n",
    "# в дальнейшем мы его заиспользуем для проверки паайплайна предобработки текста\n",
    "training_samples_example = \"\"\n",
    "\n",
    "\n",
    "for line in train_iter:\n",
    "    print(line)\n",
    "    training_samples_example += line\n",
    "    nsamples -= 1\n",
    "    if nsamples == 0:\n",
    "        break"
   ]
  },
  {
   "cell_type": "code",
   "execution_count": null,
   "metadata": {
    "id": "X2R9B4XlQHrt",
    "outputId": "6643262a-3e1e-45a8-f197-767bcdc02761",
    "colab": {
     "base_uri": "https://localhost:8080/",
     "height": 87
    },
    "pycharm": {
     "name": "#%%\n"
    }
   },
   "outputs": [
    {
     "output_type": "execute_result",
     "data": {
      "text/plain": [
       "'aer banknote berlitz calloway centrust cluett fromstein gitano guterman hydro-quebec ipo kia memotec mlx nahb punts rake regatta rubens sim snack-food ssangyong swapo wachterpierre <unk> N years old will join the board as a nonexecutive director nov. Nmr. <unk> is chairman of <unk> n.v. the dutch publishing grouprudolph <unk> N years old and former chairman of consolidated gold fields plc was named a nonexecutive director of this british industrial conglomeratea form of asbestos once used to make kent cigarette filters has caused a high percentage of cancer deaths among a group of workers exposed to it more than N years ago researchers reported'"
      ],
      "application/vnd.google.colaboratory.intrinsic+json": {
       "type": "string"
      }
     },
     "metadata": {},
     "execution_count": 38
    }
   ],
   "source": [
    "# посмотрим, как выглядят эти примеры, соединенные в одну строку\n",
    "training_samples_example"
   ]
  },
  {
   "cell_type": "markdown",
   "metadata": {
    "id": "AFCKojszQHsH",
    "pycharm": {
     "name": "#%% md\n"
    }
   },
   "source": [
    "В данном тюториале мы собиаремся решать задачу sequence-to-sequence -- задачу предсказания следующего токена по предыдущим, то есть фактически задачу языкового моделирования. Поэтому нам не понадобятся пайплайны предобработки меток классов -- у нас их попросту нет. Поэтому далее мы переходим к предобработке текстов датасета."
   ]
  },
  {
   "cell_type": "markdown",
   "metadata": {
    "id": "ivqOU3QZQHsO",
    "pycharm": {
     "name": "#%% md\n"
    }
   },
   "source": [
    "## Токенизация\n",
    "\n",
    "Для построения словаря, нам необходимо определить токенизатор данных -- модель, которая будетразделять единый текст на токены -- наиболее популярные единицы языка.\n",
    "\n",
    "В данном тюториале будем использовать базовый токенизатор для английского языка из библиотеки  `torchtext`."
   ]
  },
  {
   "cell_type": "code",
   "execution_count": null,
   "metadata": {
    "id": "KAhzTIscQHsU",
    "outputId": "eebb5497-097a-4253-9c2f-35fb473d0aa3",
    "colab": {
     "base_uri": "https://localhost:8080/"
    },
    "pycharm": {
     "name": "#%%\n"
    }
   },
   "outputs": [
    {
     "output_type": "stream",
     "name": "stdout",
     "text": [
      "ORIGINAL SAMPLE:\n",
      "aer banknote berlitz calloway centrust cluett fromstein gitano guterman hydro-quebec ipo kia memotec mlx nahb punts rake regatta rubens sim snack-food ssangyong swapo wachter\n",
      "TOKENIZED SAMPLE:\n",
      "['aer', 'banknote', 'berlitz', 'calloway', 'centrust', 'cluett', 'fromstein', 'gitano', 'guterman', 'hydro-quebec', 'ipo', 'kia', 'memotec', 'mlx', 'nahb', 'punts', 'rake', 'regatta', 'rubens', 'sim', 'snack-food', 'ssangyong', 'swapo', 'wachter']\n",
      "ORIGINAL SAMPLE:\n",
      "pierre <unk> N years old will join the board as a nonexecutive director nov. N\n",
      "TOKENIZED SAMPLE:\n",
      "['pierre', '<unk>', 'n', 'years', 'old', 'will', 'join', 'the', 'board', 'as', 'a', 'nonexecutive', 'director', 'nov', '.', 'n']\n",
      "ORIGINAL SAMPLE:\n",
      "mr. <unk> is chairman of <unk> n.v. the dutch publishing group\n",
      "TOKENIZED SAMPLE:\n",
      "['mr', '.', '<unk>', 'is', 'chairman', 'of', '<unk>', 'n', '.', 'v', '.', 'the', 'dutch', 'publishing', 'group']\n",
      "ORIGINAL SAMPLE:\n",
      "rudolph <unk> N years old and former chairman of consolidated gold fields plc was named a nonexecutive director of this british industrial conglomerate\n",
      "TOKENIZED SAMPLE:\n",
      "['rudolph', '<unk>', 'n', 'years', 'old', 'and', 'former', 'chairman', 'of', 'consolidated', 'gold', 'fields', 'plc', 'was', 'named', 'a', 'nonexecutive', 'director', 'of', 'this', 'british', 'industrial', 'conglomerate']\n",
      "ORIGINAL SAMPLE:\n",
      "a form of asbestos once used to make kent cigarette filters has caused a high percentage of cancer deaths among a group of workers exposed to it more than N years ago researchers reported\n",
      "TOKENIZED SAMPLE:\n",
      "['a', 'form', 'of', 'asbestos', 'once', 'used', 'to', 'make', 'kent', 'cigarette', 'filters', 'has', 'caused', 'a', 'high', 'percentage', 'of', 'cancer', 'deaths', 'among', 'a', 'group', 'of', 'workers', 'exposed', 'to', 'it', 'more', 'than', 'n', 'years', 'ago', 'researchers', 'reported']\n"
     ]
    },
    {
     "output_type": "stream",
     "name": "stderr",
     "text": [
      "/usr/local/lib/python3.10/dist-packages/torch/utils/data/datapipes/iter/combining.py:333: UserWarning: Some child DataPipes are not exhausted when __iter__ is called. We are resetting the buffer and each child DataPipe will read from the start again.\n",
      "  warnings.warn(\"Some child DataPipes are not exhausted when __iter__ is called. We are resetting \"\n"
     ]
    }
   ],
   "source": [
    "from torchtext.data.utils import get_tokenizer\n",
    "\n",
    "\n",
    "# загрузим базовый англоязычный basic_english токенизатор с помощью get_tokenizer\n",
    "tokenizer = get_tokenizer('basic_english')# ВАШ КОД ЗДЕСЬ\n",
    "# определим небольшое число примеров для демонстрации\n",
    "nsamples = 5\n",
    "\n",
    "for line in train_iter:\n",
    "    # получим из строки line токены с помощью tokenizer\n",
    "    tokenized_line = tokenizer(line)# ВАШ КОД ЗДЕСЬ\n",
    "    # распечатаем полученную информацию\n",
    "    print(f\"ORIGINAL SAMPLE:\\n{line}\")\n",
    "    print(f\"TOKENIZED SAMPLE:\\n{tokenized_line}\")\n",
    "    nsamples -= 1\n",
    "    if nsamples == 0:\n",
    "        break"
   ]
  },
  {
   "cell_type": "markdown",
   "metadata": {
    "id": "KhTiy_OBQHsW",
    "pycharm": {
     "name": "#%% md\n"
    }
   },
   "source": [
    "## Словарь\n",
    "\n",
    "Теперь нам необходимо собрать словарь -- структуру данных, содержащую проиндексированные токены, которые мы сможем использовать для векторизации текстов -- представлении текстов в удобном машиночитаемом формате. Для сбора словаря, так как нас интересуют непосредственно те слова, которые есть в нашем датасете (но при этом, мы не можем использовать слова из тестовой подвыборки датасета при создлании словаря), то будем строить словарь на основе итерирования по токенам по обучающей выборки.\n",
    "\n",
    "В данном тюториале мы попрбуем два разных способа создать словарь на основе итератора по текстам. Оба способа создадут **идентичные по содержащимся токенам словари**.\n",
    "\n",
    "**Первый способ** заключается в использование `Counter` для сбора токенов и инициализации  `torchtext.vocab.Vocab` на основе собранного `Counter`."
   ]
  },
  {
   "cell_type": "code",
   "execution_count": null,
   "metadata": {
    "id": "bOaQ23igQHsY",
    "outputId": "4912ff37-7224-461c-e7d3-0e473d31567e",
    "colab": {
     "base_uri": "https://localhost:8080/"
    },
    "pycharm": {
     "name": "#%%\n"
    }
   },
   "outputs": [
    {
     "output_type": "stream",
     "name": "stdout",
     "text": [
      "Vocaublary size: 9922\n"
     ]
    }
   ],
   "source": [
    "from collections import Counter\n",
    "from torchtext.vocab import Vocab\n",
    "\n",
    "\n",
    "# создадим итератор по данным, загрузив готовый датасет PennTreebank из torchtext,\n",
    "# причем для начала, только обучающую train подвыборку, используя аргумент split\n",
    "train_iter = PennTreebank(split='train')# ВАШ КОД ЗДЕСЬ\n",
    "# создадим инстанс Counter\n",
    "counter = Counter()# ВАШ КОД ЗДЕСЬ\n",
    "\n",
    "for line in train_iter:\n",
    "    # итерируясь по данным, токенизируем текст в каждом примере в датасете\n",
    "    tokens = tokenizer(line)# ВАШ КОД ЗДЕСЬ\n",
    "    # добавим полученные токены в наш counter с помощью метода update\n",
    "    # ВАШ КОД ЗДЕСЬ\n",
    "    counter.update(tokens)\n",
    "\n",
    "# теперь создадим Vocab на основе нашего counter\n",
    "vocab = Vocab(counter)\n",
    "# посомтрим на размер собранного словаря\n",
    "print(f\"Vocaublary size: {vocab.__len__()}\")"
   ]
  },
  {
   "cell_type": "code",
   "source": [
    "counter.items()"
   ],
   "metadata": {
    "colab": {
     "base_uri": "https://localhost:8080/"
    },
    "id": "tSf__F_NqFJn",
    "outputId": "7ca6d669-4e98-41c5-d257-30446a6df682",
    "pycharm": {
     "name": "#%%\n"
    }
   },
   "execution_count": null,
   "outputs": [
    {
     "output_type": "execute_result",
     "data": {
      "text/plain": [
       "dict_items([('aer', 1), ('banknote', 1), ('berlitz', 1), ('calloway', 1), ('centrust', 1), ('cluett', 1), ('fromstein', 1), ('gitano', 1), ('guterman', 1), ('hydro-quebec', 1), ('ipo', 1), ('kia', 1), ('memotec', 1), ('mlx', 1), ('nahb', 1), ('punts', 1), ('rake', 1), ('regatta', 1), ('rubens', 1), ('sim', 1), ('snack-food', 1), ('ssangyong', 1), ('swapo', 1), ('wachter', 1), ('pierre', 6), ('<unk>', 45020), ('n', 36079), ('years', 1241), ('old', 268), ('will', 3270), ('join', 45), ('the', 50770), ('board', 612), ('as', 4833), ('a', 21519), ('nonexecutive', 6), ('director', 359), ('nov', 259), ('.', 16723), ('mr', 4326), ('is', 7337), ('chairman', 635), ('of', 24400), ('v', 37), ('dutch', 28), ('publishing', 64), ('group', 928), ('rudolph', 8), ('and', 17474), ('former', 306), ('consolidated', 37), ('gold', 165), ('fields', 44), ('plc', 114), ('was', 4073), ('named', 210), ('this', 2438), ('british', 337), ('industrial', 243), ('conglomerate', 22), ('form', 115), ('asbestos', 27), ('once', 219), ('used', 372), ('to', 23638), ('make', 646), ('kent', 11), ('cigarette', 18), ('filters', 11), ('has', 3494), ('caused', 110), ('high', 400), ('percentage', 142), ('cancer', 107), ('deaths', 32), ('among', 444), ('workers', 247), ('exposed', 19), ('it', 6112), ('more', 2065), ('than', 1731), ('ago', 468), ('researchers', 85), ('reported', 430), ('fiber', 8), ('unusually', 20), ('enters', 9), ('with', 4585), ('even', 773), ('brief', 34), ('exposures', 7), ('causing', 37), ('symptoms', 14), ('that', 8931), ('show', 228), ('up', 1785), ('decades', 29), ('later', 227), ('said', 6027), ('inc', 1372), ('unit', 547), ('new', 2793), ('york-based', 35), ('corp', 1474), ('makes', 192), ('cigarettes', 23), ('stopped', 53), ('using', 164), ('in', 18000), ('its', 3846), ('although', 284), ('preliminary', 50), ('findings', 27), ('were', 2009), ('year', 2379), ('latest', 227), ('results', 302), ('appear', 80), ('today', 321), (\"'\", 14755), ('s', 11774), ('england', 69), ('journal', 119), ('medicine', 27), ('forum', 6), ('likely', 282), ('bring', 93), ('attention', 73), ('problem', 246), ('an', 3477), ('story', 76), ('we', 1397), ('re', 359), ('talking', 52), ('about', 2220), ('before', 585), ('anyone', 71), ('heard', 39), ('having', 150), ('any', 827), ('questionable', 12), ('properties', 80), ('there', 1068), ('no', 922), ('our', 416), ('products', 481), ('now', 875), ('neither', 74), ('nor', 73), ('who', 1695), ('studied', 18), ('aware', 34), ('research', 327), ('on', 5650), ('smokers', 7), ('have', 3245), ('useful', 19), ('information', 206), ('whether', 283), ('users', 40), ('are', 3914), ('at', 4894), ('risk', 168), ('james', 192), ('boston', 166), ('institute', 142), ('dr', 111), ('led', 165), ('team', 140), ('from', 4724), ('national', 568), ('medical', 141), ('schools', 62), ('harvard', 24), ('university', 183), ('spokeswoman', 104), ('very', 385), ('modest', 71), ('amounts', 76), ('making', 249), ('paper', 264), ('for', 8927), ('early', 369), ('1950s', 13), ('replaced', 28), ('different', 140), ('type', 45), ('billion', 1881), ('sold', 402), ('company', 2680), ('men', 115), ('worked', 75), ('closely', 97), ('substance', 13), ('died', 43), ('three', 665), ('times', 250), ('expected', 545), ('number', 341), ('four', 300), ('five', 378), ('surviving', 10), ('diseases', 17), ('including', 445), ('recently', 281), ('total', 301), ('malignant', 8), ('lung', 14), ('far', 344), ('higher', 453), ('rate', 579), ('striking', 19), ('finding', 53), ('those', 606), ('us', 216), ('study', 116), ('west', 278), ('mass', 93), ('factory', 48), ('appears', 79), ('be', 3923), ('highest', 64), ('western', 167), ('industrialized', 11), ('countries', 161), ('he', 3632), ('plant', 262), ('which', 2362), ('owned', 107), ('by', 4915), ('&', 1069), ('co', 1128), ('under', 719), ('contract', 328), ('probably', 159), ('support', 254), ('argue', 49), ('u', 1930), ('should', 457), ('regulate', 11), ('class', 76), ('common', 395), ('kind', 115), ('found', 196), ('most', 981), ('other', 1566), ('buildings', 62), ('one', 1764), ('few', 376), ('nations', 63), ('does', 525), ('t', 3500), ('standard', 147), ('regulation', 28), ('smooth', 13), ('fibers', 13), ('such', 1010), ('classified', 10), ('according', 442), ('professor', 48), ('vermont', 15), ('college', 69), ('easily', 45), ('rejected', 74), ('body', 31), ('explained', 20), ('july', 191), ('environmental', 99), ('protection', 114), ('agency', 338), ('imposed', 28), ('gradual', 7), ('ban', 47), ('virtually', 57), ('all', 1227), ('uses', 54), ('almost', 213), ('remaining', 72), ('outlawed', 6), ('made', 577), ('areas', 124), ('particularly', 138), ('dusty', 5), ('where', 386), ('dumped', 21), ('large', 275), ('imported', 29), ('material', 60), ('into', 961), ('huge', 131), ('poured', 9), ('cotton', 26), ('mixed', 57), ('dry', 15), ('process', 136), ('described', 44), ('clouds', 7), ('blue', 33), ('dust', 8), ('hung', 6), ('over', 952), ('parts', 116), ('though', 318), ('fans', 29), ('area', 238), ('question', 136), ('some', 1668), ('managers', 186), ('contracted', 13), ('phillips', 53), ('vice', 412), ('president', 1246), ('human', 86), ('resources', 102), ('but', 3541), ('you', 790), ('recognize', 19), ('these', 617), ('events', 70), ('took', 236), ('place', 164), ('bearing', 12), ('work', 426), ('force', 204), ('yields', 118), ('money-market', 22), ('mutual', 76), ('funds', 475), ('continued', 179), ('slide', 42), ('amid', 62), ('signs', 60), ('portfolio', 159), ('expect', 209), ('further', 269), ('declines', 84), ('interest', 679), ('rates', 532), ('average', 467), ('seven-day', 14), ('compound', 19), ('yield', 409), ('taxable', 24), ('tracked', 9), ('money', 569), ('fund', 342), ('report', 406), ('eased', 31), ('fraction', 9), ('point', 281), ('week', 720), ('ended', 319), ('tuesday', 225), ('assume', 41), ('reinvestment', 11), ('dividends', 72), ('current', 371), ('continues', 103), ('maturity', 67), ('investments', 145), ('day', 363), ('days', 533), ('longest', 7), ('since', 595), ('august', 265), ('donoghue', 7), ('longer', 119), ('maturities', 18), ('thought', 115), ('indicate', 44), ('declining', 63), ('because', 1159), ('they', 2562), ('permit', 26), ('retain', 38), ('relatively', 80), ('period', 303), ('shorter', 7), ('considered', 110), ('sign', 86), ('rising', 95), ('can', 996), ('capture', 9), ('sooner', 16), ('open', 162), ('only', 1028), ('institutions', 132), ('stronger', 51), ('indicator', 15), ('watch', 43), ('market', 2005), ('reached', 156), ('nevertheless', 30), ('editor', 59), ('may', 954), ('again', 194), ('down', 747), ('recent', 493), ('rises', 16), ('short-term', 113), ('six-month', 49), ('treasury', 357), ('bills', 177), ('monday', 273), ('auction', 113), ('example', 226), ('rose', 747), ('despite', 222), ('investors', 761), ('continue', 272), ('pour', 6), ('cash', 368), ('assets', 341), ('grew', 65), ('$', 7541), ('during', 463), ('typically', 71), ('money-fund', 6), ('beat', 32), ('comparable', 49), ('vary', 27), ('go', 272), ('after', 1137), ('top', 208), ('currently', 221), ('yielding', 18), ('well', 462), ('dreyfus', 11), ('world-wide', 74), ('dollar', 314), ('had', 1850), ('earlier', 652), ('invests', 5), ('heavily', 72), ('dollar-denominated', 8), ('securities', 714), ('overseas', 102), ('management', 370), ('fees', 137), ('boosts', 14), ('simple', 43), ('30-day', 21), ('fell', 459), ('slid', 32), ('j', 232), ('p', 109), ('grace', 23), ('holds', 88), ('elected', 85), ('succeeds', 48), ('d', 329), ('formerly', 39), ('resigned', 85), ('energy', 140), ('seven', 120), ('seats', 55), ('pacific', 158), ('first', 1189), ('financial', 635), ('shareholders', 185), ('approved', 159), ('acquisition', 226), ('royal', 33), ('ltd', 264), ('toronto', 46), ('share', 1511), ('or', 2704), ('million', 4627), ('thrift', 101), ('holding', 224), ('expects', 260), ('obtain', 45), ('regulatory', 75), ('approval', 149), ('complete', 69), ('transaction', 191), ('year-end', 18), ('international', 467), ('completed', 137), ('sale', 419), ('controls', 66), ('operations', 424), ('italian', 24), ('state-owned', 25), ('interests', 139), ('mechanical', 7), ('engineering', 80), ('industry', 602), ('based', 335), ('ohio', 65), ('computerized', 11), ('systems', 252), ('employs', 19), ('people', 794), ('annual', 284), ('revenue', 484), ('federal', 872), ('government', 885), ('suspended', 51), ('sales', 1126), ('savings', 145), ('bonds', 691), ('congress', 350), ('lifted', 19), ('ceiling', 46), ('debt', 452), ('until', 329), ('acts', 31), ('authority', 81), ('issue', 489), ('obligations', 17), ('borrowing', 31), ('dropped', 193), ('midnight', 12), ('trillion', 58), ('legislation', 135), ('lift', 24), ('fight', 71), ('cutting', 51), ('capital-gains', 75), ('taxes', 114), ('house', 551), ('voted', 51), ('raise', 172), ('senate', 228), ('act', 142), ('next', 682), ('earliest', 8), ('default', 39), ('if', 1281), ('then', 422), ('clark', 13), ('senior', 240), ('general', 482), ('manager', 179), ('marketing', 179), ('arm', 31), ('japanese', 527), ('auto', 176), ('maker', 304), ('mazda', 13), ('motor', 110), ('position', 205), ('oversee', 7), ('service', 309), ('previously', 150), ('chrysler', 50), ('division', 203), ('been', 1667), ('executive', 601), ('when', 1272), ('time', 847), ('their', 1838), ('nation', 215), ('manufacturing', 147), ('jet', 16), ('off', 545), ('resort', 27), ('towns', 10), ('like', 550), ('hot', 32), ('springs', 14), ('not', 1451), ('association', 240), ('manufacturers', 117), ('settled', 63), ('capital', 498), ('indianapolis', 15), ('fall', 175), ('meeting', 225), ('city', 351), ('decided', 97), ('treat', 20), ('guests', 12), ('royalty', 7), ('rock', 31), ('stars', 11), ('owners', 82), ('idea', 92), ('course', 121), ('prove', 49), ('corporate', 295), ('decision', 206), ('makers', 141), ('buckle', 6), ('belt', 7), ('so', 844), ('good', 372), ('expand', 59), ('receiving', 23), ('end', 409), ('message', 35), ('officials', 574), ('giants', 44), ('du', 33), ('pont', 31), ('along', 154), ('lesser', 9), ('steel', 182), ('valley', 83), ('queen', 7), ('executives', 220), ('joined', 48), ('mayor', 55), ('william', 138), ('h', 75), ('iii', 25), ('evening', 22), ('guest', 8), ('victor', 14), ('champagne', 7), ('followed', 92), ('morning', 87), ('police', 74), ('wives', 9), ('traffic', 59), ('red', 108), ('lights', 14), ('governor', 34), ('could', 1136), ('welcomed', 11), ('special', 166), ('buffet', 5), ('breakfast', 10), ('held', 253), ('museum', 20), ('food', 174), ('drinks', 9), ('banned', 22), ('everyday', 9), ('visitors', 27), ('honor', 20), ('out', 1060), ('drivers', 18), ('crews', 9), ('official', 235), ('announcer', 11), ('exhibition', 11), ('race', 37), ('fortune', 10), ('cars', 155), ('pointed', 21), ('still', 611), ('space', 112), ('machines', 143), ('another', 457), ('sponsor', 13), ('name', 133), ('two', 1184), ('back', 476), ('downtown', 25), ('squeezed', 18), ('meetings', 51), ('hotel', 59), ('buses', 11), ('dinner', 16), ('block', 105), ('away', 182), ('indiana', 13), ('nine', 214), ('hottest', 10), ('chefs', 6), ('town', 58), ('fed', 191), ('them', 699), ('knowing', 12), ('free', 134), ('eat', 15), ('gave', 86), ('standing', 33), ('say', 755), ('treatment', 76), ('return', 217), ('future', 215), ('looking', 148), ('forward', 24), ('winter', 34), ('february', 56), ('south', 245), ('korea', 64), ('registered', 32), ('trade', 431), ('deficit', 132), ('october', 210), ('reflecting', 80), ('country', 292), ('economic', 410), ('figures', 166), ('released', 63), ('wednesday', 120), ('ministry', 85), ('showed', 110), ('fifth', 33), ('monthly', 69), ('setback', 20), ('casting', 13), ('cloud', 7), ('economy', 295), ('exports', 109), ('stood', 29), ('mere', 17), ('increase', 397), ('while', 740), ('imports', 115), ('increased', 283), ('sharply', 103), ('last', 1255), ('boom', 36), ('began', 200), ('prolonged', 15), ('labor', 155), ('disputes', 15), ('conflicts', 13), ('sluggish', 35), ('would', 2308), ('remain', 154), ('target', 79), ('gloomy', 7), ('forecast', 70), ('recorded', 37), ('surplus', 32), ('january', 94), ('accumulated', 6), ('same', 331), ('newsweek', 10), ('trying', 198), ('keep', 186), ('pace', 53), ('rival', 45), ('magazine', 138), ('announced', 256), ('advertising', 173), ('introduce', 36), ('incentive', 22), ('plan', 525), ('advertisers', 59), ('ad', 156), ('washington', 213), ('post', 98), ('second', 312), ('offered', 220), ('plans', 412), ('give', 243), ('discounts', 18), ('maintaining', 18), ('increasing', 110), ('spending', 215), ('become', 247), ('permanent', 31), ('news', 333), ('underscore', 6), ('fierce', 10), ('competition', 125), ('between', 509), ('warner', 188), ('b', 154), ('world', 431), ('alan', 58), ('full', 171), ('page', 22), ('cost', 289), ('mid-october', 17), ('lowered', 44), ('guaranteed', 42), ('circulation', 30), ('base', 111), ('lower', 413), ('effectively', 31), ('per', 105), ('subscriber', 6), ('costs', 365), ('yet', 266), ('announce', 35), ('credit', 295), ('credits', 29), ('renewal', 6), ('reward', 14), ('bonuses', 20), ('meet', 122), ('exceed', 35), ('long', 296), ('spent', 93), ('attempt', 105), ('shore', 18), ('decline', 230), ('pages', 50), ('months', 710), ('totaled', 80), ('drop', 226), ('publishers', 21), ('bureau', 70), ('what', 772), ('matters', 46), ('paying', 95), ('department', 409), ('doing', 129), ('fine', 55), ('both', 506), ('gaining', 14), ('without', 298), ('heavy', 140), ('use', 366), ('electronic', 81), ('subscribers', 24), ('telephones', 5), ('watches', 12), ('however', 416), ('none', 52), ('big', 688), ('gains', 195), ('audit', 28), ('largest', 256), ('decrease', 17), ('six', 288), ('flat', 86), ('electric', 116), ('system', 360), ('bowed', 5), ('bidding', 69), ('public', 360), ('hampshire', 42), ('saying', 150), ('risks', 70), ('too', 335), ('potential', 167), ('justify', 15), ('offer', 448), ('move', 316), ('leaves', 26), ('united', 192), ('illuminating', 14), ('northeast', 36), ('utilities', 59), ('outside', 129), ('bidders', 25), ('ps', 25), ('also', 1617), ('proposed', 219), ('internal', 78), ('reorganization', 73), ('chapter', 71), ('bankruptcy', 106), ('proceedings', 44), ('independent', 131), ('acquire', 125), ('below', 172), ('value', 333), ('places', 33), ('bid', 381), ('says', 2092), ('worth', 111), ('haven', 17), ('conn', 63), ('hartford', 15), ('values', 60), ('john', 263), ('rowe', 20), ('chief', 605), ('officer', 344), ('equity', 174), ('suffer', 30), ('forecasts', 41), ('related', 126), ('growth', 400), ('electricity', 24), ('demand', 244), ('improved', 80), ('operating', 340), ('did', 627), ('come', 246), ('true', 66), ('raising', 73), ('seemed', 55), ('substantial', 79), ('persistent', 15), ('rewards', 13), ('way', 416), ('got', 183), ('hard', 152), ('take', 448), ('added', 352), ('noted', 164), ('political', 271), ('concerns', 131), ('worried', 46), ('matter', 88), ('owns', 130), ('emerges', 8), ('attracts', 7), ('just', 605), ('factors', 72), ('withdraw', 18), ('wilbur', 8), ('ross', 44), ('jr', 96), ('rothschild', 24), ('adviser', 57), ('troubled', 66), ('holders', 161), ('withdrawal', 22), ('might', 358), ('speed', 56), ('fact', 163), ('increases', 156), ('against', 526), ('around', 272), ('complicated', 22), ('negotiations', 74), ('state', 644), ('asserted', 15), ('field', 97), ('less', 396), ('separately', 84), ('commission', 225), ('turned', 114), ('request', 60), ('seeking', 133), ('possible', 220), ('purchase', 219), ('hopes', 98), ('review', 82), ('ferc', 1), ('summer', 111), ('court', 444), ('shares', 1246), ('closed', 394), ('yesterday', 722), ('cents', 826), ('york', 961), ('stock', 1611), ('exchange', 786), ('composite', 247), ('trading', 1159), ('norman', 15), ('toys', 10), ('r', 120), ('frederick', 19), ('banking', 190), ('directors', 144), ('consumer', 187), ('electronics', 80), ('appliances', 13), ('retailing', 39), ('chain', 82), ('succeed', 42), ('daniel', 37), ('m', 310), ('retired', 35), ('circuit', 44), ('robert', 213), ('undersecretary', 6), ('commonwealth', 29), ('edison', 32), ('ordered', 55), ('refund', 20), ('illegal', 45), ('collected', 10), ('overruns', 7), ('nuclear', 60), ('power', 305), ('illinois', 35), ('commerce', 87), ('groups', 150), ('ever', 132), ('required', 112), ('local', 188), ('utility', 52), ('judge', 262), ('richard', 125), ('curry', 10), ('refunds', 12), ('each', 442), ('customers', 207), ('received', 212), ('april', 128), ('moved', 83), ('begin', 128), ('feb', 21), ('appeals', 52), ('attempts', 24), ('his', 1852), ('order', 206), ('pool', 24), ('through', 611), ('round', 31), ('already', 342), ('appealing', 8), ('underlying', 46), ('considering', 72), ('exact', 18), ('amount', 201), ('determined', 50), ('actual', 91), ('dec', 127), ('ruling', 86), ('slash', 13), ('earnings', 647), ('spokesman', 339), ('tracking', 13), ('whose', 174), ('addresses', 6), ('changed', 112), ('past', 420), ('administrative', 43), ('nightmare', 7), ('near', 114), ('ill', 47), ('disputed', 14), ('pay', 384), ('courts', 51), ('upheld', 12), ('challenge', 53), ('supreme', 93), ('construction', 180), ('expenses', 92), ('collecting', 11), ('subject', 113), ('ruled', 39), ('plus', 59), ('additional', 187), ('calculations', 20), ('month', 546), ('set', 272), ('faces', 57), ('appellate', 15), ('estimated', 236), ('hope', 92), ('precedent', 10), ('case', 334), ('involving', 65), ('rule', 92), ('poor', 123), ('performance', 141), ('i', 1287), ('japan', 459), ('domestic', 154), ('trucks', 60), ('units', 182), ('record', 243), ('automobile', 28), ('dealers', 163), ('strong', 261), ('year-to-year', 6), ('september', 332), ('setting', 45), ('records', 48), ('every', 203), ('march', 175), ('compared', 282), ('previous', 192), ('inched', 10), ('passenger', 19), ('medium-sized', 12), ('benefited', 19), ('price', 767), ('reductions', 26), ('arising', 5), ('introduction', 22), ('consumption', 35), ('tax', 437), ('doubled', 32), ('texas', 223), ('instruments', 54), ('opened', 85), ('manufacture', 14), ('control', 296), ('devices', 60), ('located', 24), ('miles', 76), ('seoul', 22), ('help', 313), ('diversifying', 8), ('produce', 111), ('vehicles', 65), ('household', 42), ('survival', 16), ('spinoff', 21), ('cray', 66), ('computer', 420), ('fledgling', 10), ('supercomputer', 18), ('business', 1031), ('depend', 11), ('creativity', 11), ('designer', 17), ('seymour', 7), ('development', 240), ('initial', 101), ('machine', 104), ('tied', 42), ('directly', 99), ('balance', 60), ('sheet', 29), ('documents', 60), ('filed', 207), ('pending', 69), ('disclosed', 125), ('financing', 181), ('providing', 47), ('firm', 479), ('project', 135), ('heads', 36), ('scrapped', 10), ('working', 162), ('cray-3', 10), ('least', 341), ('fully', 93), ('operational', 22), ('prototype', 6), ('moreover', 87), ('orders', 235), ('several', 394), ('prospects', 44), ('many', 922), ('anticipated', 40), ('attached', 25), ('much', 726), ('choice', 44), ('gregory', 5), ('interview', 86), ('theory', 36), ('him', 339), ('want', 292), ('include', 204), ('anticipates', 14), ('perhaps', 111), ('beginning', 116), ('called', 303), ('scenario', 30), ('filing', 113), ('details', 68), ('jump', 45), ('close', 327), ('analysts', 551), ('link', 26), ('note', 114), ('presence', 43), ('complicate', 6), ('valuation', 9), ('investor', 216), ('gary', 27), ('minneapolis', 26), ('concept', 32), ('either', 154), ('believe', 174), ('do', 1011), ('besides', 33), ('age', 101), ('tricky', 7), ('chip', 46), ('technology', 217), ('sec', 94), ('describe', 12), ('chips', 64), ('being', 443), ('fragile', 11), ('minute', 20), ('require', 87), ('handling', 37), ('equipment', 197), ('addition', 221), ('contain', 21), ('processors', 10), ('twice', 50), ('face', 164), ('intense', 29), ('roll', 40), ('direct', 88), ('competitor', 21), ('compete', 31), ('hitachi', 18), ('nec', 36), ('fujitsu', 34), ('believes', 98), ('fewer', 58), ('priced', 249), ('presumably', 6), ('range', 124), ('terms', 211), ('stockholders', 23), ('receive', 116), ('own', 471), ('distribution', 56), ('occur', 26), ('weeks', 250), ('instead', 183), ('companies', 870), ('leave', 85), ('marketplace', 29), ('decide', 53), ('applied', 37), ('nasdaq', 77), ('calculate', 4), ('book', 81), ('primarily', 66), ('drain', 14), ('sheets', 15), ('clearly', 68), ('why', 142), ('favored', 18), ('able', 186), ('profit', 524), ('half', 272), ('rather', 169), ('posted', 171), ('hand', 103), ('existed', 7), ('incurred', 18), ('loss', 385), ('comment', 226), ('colorado', 23), ('colo', 11), ('contractor', 25), ('arrangement', 32), ('regarded', 20), ('father', 39), ('paid', 221), ('messrs', 39), ('includes', 136), ('neil', 9), ('joseph', 50), ('malcolm', 30), ('software', 110), ('douglas', 39), ('hardware', 23), ('came', 199), ('stevens', 15), ('positions', 75), ('donald', 38), ('arthur', 31), ('hatch', 6), ('eastern', 148), ('claiming', 20), ('success', 74), ('removed', 19), ('taiwan', 32), ('saudi', 23), ('arabia', 13), ('list', 74), ('watching', 30), ('allegedly', 27), ('failing', 25), ('patents', 16), ('rights', 204), ('china', 170), ('thailand', 6), ('india', 35), ('brazil', 32), ('mexico', 72), ('so-called', 76), ('priority', 36), ('result', 257), ('interim', 17), ('representative', 27), ('carla', 5), ('hills', 39), ('law', 358), ('accelerated', 8), ('investigations', 18), ('stiff', 13), ('sanctions', 25), ('improve', 93), ('intellectual', 14), ('property', 134), ('spring', 87), ('mrs', 165), ('she', 553), ('placed', 60), ('degrees', 10), ('scrutiny', 15), ('genuine', 14), ('progress', 38), ('touchy', 6), ('growing', 139), ('citizens', 39), ('negotiators', 15), ('inadequate', 14), ('hurting', 12), ('themselves', 125), ('discouraging', 11), ('scientists', 70), ('authors', 16), ('high-technology', 7), ('firms', 285), ('investing', 44), ('best', 182), ('creating', 40), ('task', 49), ('enforcement', 36), ('teams', 30), ('officers', 34), ('prosecutors', 64), ('trained', 9), ('pursue', 42), ('movie', 64), ('instituted', 10), ('effective', 93), ('procedures', 33), ('aid', 125), ('copyright', 17), ('agreement', 315), ('trademark', 6), ('introducing', 10), ('protect', 54), ('foreign', 397), ('producers', 128), ('unauthorized', 9), ('films', 18), ('measure', 128), ('taipei', 14), ('small', 339), ('showing', 61), ('part', 461), ('vowed', 13), ('enact', 7), ('compatible', 8), ('standards', 74), ('apply', 38), ('literary', 9), ('works', 79), ('completely', 25), ('hook', 7), ('italy', 50), ('canada', 149), ('greece', 11), ('spain', 37), ('concern', 347), ('deemed', 9), ('pose', 7), ('problems', 295), ('american', 636), ('patent', 47), ('hoffman', 17), ('lawyer', 76), ('specializing', 8), ('cases', 159), ('threat', 59), ('combined', 66), ('recognition', 25), ('protecting', 14), ('prompted', 37), ('improvements', 24), ('tells', 26), ('efforts', 155), ('craft', 7), ('concerned', 69), ('disturbing', 9), ('developments', 28), ('turkey', 23), ('continuing', 107), ('slow', 88), ('malaysia', 25), ('elaborate', 36), ('reports', 165), ('complained', 36), ('videocassette', 7), ('pharmaceutical', 51), ('requires', 39), ('bad', 123), ('enough', 200), ('merit', 12), ('investigation', 77), ('provision', 87), ('argentina', 7), ('ask', 52), ('creditor', 18), ('banks', 394), ('developing', 64), ('declaration', 10), ('minister', 104), ('believed', 66), ('action', 185), ('latin', 32), ('little', 320), ('reach', 76), ('reduction', 69), ('external', 11), ('met', 79), ('assistant', 62), ('secretary', 150), ('david', 157), ('mulford', 10), ('negotiator', 5), ('carlos', 18), ('office', 352), ('feels', 16), ('significant', 123), ('principal', 68), ('solved', 8), ('wants', 132), ('centennial', 13), ('wall', 316), ('street', 327), ('century', 58), ('stand', 73), ('milestones', 11), ('history', 113), ('computers', 191), ('personal', 172), ('computing', 19), ('launched', 63), ('apple', 67), ('ii', 52), ('commodore', 18), ('pet', 11), ('tandy', 21), ('crude', 53), ('television', 142), ('sets', 43), ('screens', 15), ('data', 236), ('major', 646), ('advance', 62), ('built', 98), ('garage', 6), ('stephen', 53), ('steven', 27), ('jobs', 93), ('club', 47), ('affordable', 6), ('pcs', 16), ('triggered', 40), ('explosive', 6), ('product', 211), ('desktop', 13), ('models', 52), ('home', 327), ('mainframe', 30), ('unlike', 59), ('types', 43), ('store', 76), ('memories', 27), ('faster', 40), ('memory', 37), ('capacity', 94), ('greater', 86), ('counterparts', 16), ('pioneer', 20), ('pc', 18), ('gates', 16), ('paul', 66), ('allen', 31), ('developed', 84), ('became', 111), ('billionaire', 9), ('ibm', 158), ('adapted', 11), ('versions', 22), ('f', 62), ('seagate', 9), ('disk', 32), ('drives', 47), ('dennis', 24), ('dale', 9), ('atlanta', 38), ('engineers', 33), ('allow', 122), ('via', 168), ('telephone', 149), ('leader', 127), ('entered', 45), ('shipments', 41), ('annually', 57), ('australian', 57), ('pharmaceuticals', 24), ('affiliate', 40), ('acquired', 145), ('sells', 63), ('label', 12), ('voting', 42), ('stake', 327), ('together', 88), ('convertible', 114), ('preferred', 108), ('holdings', 123), ('gives', 69), ('right', 273), ('oil', 366), ('production', 291), ('australia', 84), ('bass', 20), ('raised', 144), ('barrels', 54), ('launch', 43), ('scheduled', 130), ('brought', 94), ('esso', 6), ('exxon', 60), ('broken', 32), ('hill', 47), ('operate', 53), ('joint', 136), ('venture', 133), ('started', 123), ('output', 71), ('gradually', 15), ('reaches', 18), ('reserves', 132), ('start', 122), ('producing', 53), ('southern', 82), ('optical', 20), ('subsidiary', 165), ('thomas', 83), ('sloan', 11), ('following', 189), ('buy-out', 185), ('shearson', 116), ('lehman', 85), ('hutton', 77), ('itself', 159), ('certain', 248), ('businesses', 246), ('program', 588), ('white', 240), ('bush', 383), ('duty-free', 7), ('produced', 96), ('quantities', 16), ('virgin', 8), ('islands', 15), ('response', 95), ('petition', 12), ('changes', 213), ('preferences', 10), ('denied', 48), ('requested', 28), ('covered', 45), ('tariff', 13), ('grant', 26), ('status', 40), ('categories', 19), ('injury', 12), ('producer', 64), ('seller', 20), ('assembled', 11), ('philippines', 25), ('main', 96), ('beneficiaries', 16), ('eligible', 21), ('aide', 33), ('magna', 8), ('mcalpine', 8), ('frank', 62), ('stepping', 11), ('turn', 130), ('manufacturer', 44), ('effort', 160), ('reduce', 151), ('overhead', 16), ('curb', 27), ('satisfactory', 7), ('level', 229), ('achieved', 33), ('maintained', 27), ('finance', 189), ('ambitious', 19), ('expansion', 64), ('left', 156), ('excess', 46), ('load', 27), ('automotive', 63), ('downturn', 36), ('steady', 37), ('cut', 280), ('quarterly', 99), ('dividend', 154), ('52-week', 7), ('canadian', 146), ('dollars', 181), ('us$', 67), ('c$', 68), ('founder', 43), ('controlling', 27), ('shareholder', 106), ('seek', 111), ('unsuccessfully', 7), ('seat', 34), ('parliament', 36), ('resume', 37), ('influential', 16), ('role', 136), ('running', 95), ('throughout', 57), ('organization', 90), ('personally', 15), ('restructuring', 166), ('consulting', 63), ('career', 40), ('clients', 141), ('lord', 8), ('english', 33), ('chemical', 150), ('nearly', 241), ('bought', 159), ('mortgage', 187), ('totaling', 35), ('purchases', 78), ('fannie', 50), ('mae', 64), ('o', 41), ('maxwell', 37), ('conference', 124), ('institutional', 84), ('rest', 95), ('went', 137), ('france', 109), ('hong', 136), ('kong', 129), ('snapped', 14), ('similar', 153), ('mortgage-backed', 23), ('put', 310), ('blackstone', 8), ('investment', 614), ('bank', 846), ('jointly', 48), ('goldman', 64), ('sachs', 60), ('daiwa', 33), ('seven-year', 10), ('offering', 294), ('fixed-rate', 27), ('floating-rate', 8), ('linked', 31), ('london', 258), ('interbank', 28), ('key', 126), ('advantages', 14), ('designed', 98), ('eliminate', 36), ('prepayment', 6), ('forces', 84), ('channel', 36), ('payments', 149), ('semiannual', 9), ('reducing', 41), ('burden', 27), ('addressing', 9), ('extremely', 50), ('attractive', 38), ('boosted', 55), ('outstanding', 198), ('rapid', 35), ('purchasers', 11), ('buying', 289), ('issued', 122), ('l', 96), ('expanding', 35), ('members', 237), ('ltv', 34), ('agreed', 301), ('extend', 39), ('aerospace', 51), ('exclusive', 33), ('file', 49), ('code', 39), ('giving', 71), ('creditors', 109), ('lawsuits', 44), ('debts', 25), ('giant', 98), ('montedison', 12), ('indirect', 10), ('tender', 57), ('erbamont', 11), ('incorporated', 8), ('netherlands', 20), ('advertised', 6), ('editions', 6), ('expire', 32), ('november', 71), ('currencies', 39), ('drawing', 16), ('hefty', 23), ('marks', 143), ('sixth', 18), ('consecutive', 43), ('reflects', 59), ('intensity', 8), ('intervention', 19), ('june', 174), ('currency', 132), ('temporarily', 45), ('surged', 58), ('above', 173), ('yen', 384), ('announcement', 105), ('follows', 54), ('sharper', 7), ('pick', 41), ('craze', 6), ('sweeping', 24), ('rash', 9), ('closed-end', 11), ('publicly', 75), ('traded', 118), ('portfolios', 36), ('invest', 46), ('stocks', 609), ('single', 94), ('regulators', 99), ('triple', 9), ('charles', 75), ('e', 74), ('simon', 8), ('washington-based', 6), ('turf', 10), ('ranged', 13), ('chile', 7), ('portugal', 7), ('philippine', 15), ('capped', 28), ('visit', 42), ('aquino', 8), ('head', 170), ('kicked', 10), ('here', 300), ('province', 15), ('anything', 109), ('how', 399), ('guinea', 9), ('george', 106), ('foot', 27), ('managing', 82), ('partner', 102), ('associates', 95), ('explosion', 11), ('mania', 6), ('1920s', 7), ('narrowly', 13), ('focused', 23), ('wildly', 10), ('popular', 72), ('crash', 105), ('traditional', 68), ('issuing', 14), ('fixed', 72), ('surge', 47), ('brings', 15), ('soon', 170), ('listed', 63), ('account', 171), ('billions', 35), ('claims', 183), ('available', 159), ('runs', 60), ('michael', 136), ('porter', 7), ('analyst', 287), ('smith', 95), ('barney', 27), ('harris', 33), ('upham', 19), ('behind', 95), ('individual', 148), ('scrambled', 11), ('find', 160), ('brokers', 114), ('easy', 66), ('sell', 492), ('stretching', 8), ('wide', 55), ('planners', 34), ('often', 212), ('urge', 17), ('diversify', 8), ('hold', 129), ('emerging', 27), ('markets', 480), ('mature', 27), ('get', 482), ('taste', 15), ('burned', 11), ('gyrations', 27), ('prices', 785), ('tend', 45), ('swing', 13), ('broader', 32), ('oct', 330), ('instance', 86), ('plunged', 63), ('clobbered', 6), ('wild', 30), ('frenzy', 12), ('historically', 16), ('fat', 22), ('premiums', 30), ('discount', 90), ('late', 343), ('premium', 84), ('reason', 124), ('climbed', 78), ('partially', 8), ('specialists', 44), ('european', 190), ('skyrocketed', 6), ('startling', 7), ('targeted', 18), ('long-term', 158), ('play', 95), ('integration', 16), ('invested', 41), ('jumped', 108), ('alarmed', 8), ('see', 279), ('rich', 49), ('newly', 44), ('reflect', 53), ('increasingly', 66), ('global', 66), ('suggests', 48), ('asia', 41), ('europe', 198), ('exposure', 41), ('viewpoint', 6), ('cast', 29), ('nonetheless', 26), ('plenty', 30), ('levels', 137), ('buy', 492), ('depositary', 17), ('receipts', 27), ('adrs', 7), ('represent', 49), ('essentially', 35), ('insist', 35), ('jumping', 8), ('advice', 33), ('folks', 12), ('party', 149), ('better', 218), ('ready', 56), ('quickly', 120), ('soviet', 273), ('union', 327), ('technical', 64), ('talks', 152), ('repayment', 8), ('moscow', 69), ('russian', 21), ('owed', 28), ('repaid', 12), ('clear', 149), ('soviets', 74), ('happen', 48), ('permitted', 27), ('branch', 44), ('affairs', 59), ('unless', 93), ('settle', 51), ('lent', 10), ('short-lived', 6), ('democratic', 113), ('communists', 16), ('seized', 15), ('johnson', 85), ('amended', 16), ('americans', 107), ('monetary', 71), ('belongs', 9), ('stressed', 11), ('satisfying', 6), ('legal', 166), ('obstacles', 12), ('hundreds', 60), ('millions', 44), ('war', 111), ('reflection', 9), ('manufactured', 14), ('goods', 135), ('failed', 138), ('rise', 219), ('meanwhile', 162), ('purchasing', 51), ('survey', 96), ('indicated', 80), ('index', 440), ('reading', 36), ('sector', 101), ('generally', 118), ('factories', 25), ('booked', 5), ('defense', 204), ('contractors', 22), ('fallen', 45), ('separate', 95), ('ran', 38), ('significantly', 57), ('private', 197), ('building', 223), ('activity', 135), ('adjusted', 59), ('remove', 27), ('effects', 60), ('usual', 57), ('seasonal', 22), ('patterns', 14), ('inflation', 175), ('kenneth', 22), ('economist', 88), ('society', 72), ('cleveland', 32), ('revive', 26), ('residential', 25), ('slack', 9), ('asked', 177), ('draw', 28), ('blank', 10), ('measures', 79), ('slowly', 22), ('reserve', 150), ('economists', 95), ('predicting', 24), ('slip', 15), ('recession', 113), ('cite', 9), ('lack', 72), ('imbalances', 10), ('provide', 188), ('warning', 40), ('signals', 16), ('inventories', 39), ('watched', 25), ('clues', 8), ('buildup', 10), ('cutbacks', 11), ('lead', 138), ('front', 52), ('soft', 34), ('landing', 19), ('elliott', 6), ('donaldson', 32), ('lufkin', 30), ('jenrette', 26), ('excessive', 17), ('slowdown', 61), ('leading', 134), ('intended', 51), ('climbing', 11), ('durable', 25), ('backlogs', 7), ('unfilled', 6), ('helped', 145), ('strength', 67), ('excluding', 41), ('declined', 256), ('accounts', 121), ('bankers', 107), ('predicted', 60), ('eventually', 73), ('boost', 113), ('single-family', 8), ('homes', 68), ('adjusting', 9), ('change', 247), ('contrast', 51), ('mcgraw-hill', 13), ('dodge', 15), ('contracts', 168), ('awarded', 39), ('counts', 21), ('slowing', 63), ('imminent', 15), ('committee', 281), ('materials', 79), ('pitney', 7), ('bowes', 7), ('stamford', 19), ('low', 176), ('evidence', 104), ('export', 71), ('purchased', 61), ('vendors', 6), ('delivering', 9), ('consider', 117), ('pressures', 32), ('suppliers', 21), ('handle', 38), ('delivery', 109), ('provided', 80), ('indicators', 28), ('difference', 65), ('reporting', 44), ('improvement', 70), ('particular', 70), ('worsening', 7), ('polled', 10), ('import', 44), ('acknowledging', 6), ('trend', 71), ('suspect', 21), ('going', 323), ('items', 70), ('short', 157), ('supply', 117), ('numbered', 6), ('dozen', 60), ('included', 167), ('milk', 28), ('odd', 17), ('thing', 122), ('row', 23), ('shortage', 21), ('blamed', 28), ('dairy', 7), ('exceptionally', 6), ('coupled', 11), ('quotas', 14), ('contributed', 83), ('article', 103), ('seasonally', 26), ('judging', 7), ('sheep', 6), ('chase', 46), ('baby', 24), ('boomers', 10), ('sides', 56), ('lot', 187), ('novel', 24), ('entirely', 27), ('especially', 127), ('characters', 25), ('drink', 17), ('dogs', 14), ('bugs', 17), ('bunny', 6), ('reruns', 6), ('read', 78), ('talk', 88), ('worry', 49), ('careers', 9), ('reader', 15), ('engaging', 9), ('recognizing', 6), ('contemporary', 13), ('author', 28), ('belong', 11), ('school', 150), ('writers', 17), ('notion', 21), ('unique', 10), ('outsiders', 12), ('carries', 38), ('implicit', 7), ('relations', 66), ('think', 328), ('plot', 12), ('rooted', 5), ('reality', 22), ('funny', 14), ('hero', 9), ('snow', 7), ('search', 25), ('star', 55), ('stanford', 9), ('degree', 24), ('girlfriend', 7), ('sassy', 12), ('mark', 102), ('her', 462), ('meets', 8), ('christian', 16), ('offers', 78), ('god', 16), ('phone', 60), ('man', 122), ('sweet', 12), ('figure', 89), ('wears', 7), ('else', 74), ('40-year-old', 7), ('norwegian', 7), ('wood', 28), ('seems', 122), ('copies', 26), ('published', 39), ('tokyo', 181), ('pack', 12), ('charts', 7), ('books', 56), ('written', 48), ('language', 45), ('usually', 106), ('carry', 67), ('macmillan', 13), ('baseball', 56), ('version', 77), ('call', 137), ('game', 99), ('describes', 16), ('mirror', 12), ('harmony', 6), ('spirit', 17), ('player', 36), ('commitment', 40), ('practice', 76), ('image', 77), ('important', 185), ('polls', 26), ('soul', 5), ('male', 22), ('symbol', 22), ('played', 54), ('ball', 16), ('bat', 4), ('balls', 6), ('stadium', 30), ('strike', 96), ('zone', 7), ('depending', 26), ('size', 101), ('ties', 43), ('shame', 7), ('defeat', 15), ('players', 65), ('must', 261), ('strict', 17), ('rules', 121), ('conduct', 32), ('lives', 45), ('always', 128), ('wear', 17), ('road', 46), ('amusing', 7), ('fare', 21), ('enormous', 41), ('sums', 9), ('plate', 13), ('run', 178), ('complaint', 24), ('whom', 59), ('sony', 93), ('regret', 8), ('parties', 66), ('sometimes', 82), ('vicious', 7), ('mundane', 5), ('aspects', 25), ('employees', 234), ('assigned', 17), ('lunch', 19), ('partners', 119), ('style', 47), ('overtime', 13), ('solidarity', 19), ('letting', 17), ('young', 129), ('employee', 63), ('responsibility', 47), ('frustrating', 5), ('science', 30), ('ultimately', 45), ('lesson', 13), ('fired', 27), ('committed', 42), ('social', 77), ('crime', 66), ('appointment', 22), ('venerable', 7), ('never', 188), ('certainly', 67), ('learned', 35), ('something', 138), ('ms', 222), ('deputy', 56), ('editorial', 37), ('features', 27), ('corners', 7), ('globe', 20), ('becoming', 40), ('tobacco', 37), ('smoke', 17), ('singapore', 46), ('entering', 16), ('restaurants', 33), ('stores', 169), ('sports', 84), ('centers', 64), ('clubs', 11), ('exempt', 12), ('smoking', 22), ('bars', 8), ('except', 63), ('hours', 123), ('bans', 9), ('theaters', 8), ('elevators', 9), ('hospitals', 25), ('fast-food', 36), ('prime', 114), ('kuala', 7), ('lumpur', 7), ('urged', 43), ('visiting', 9), ('restricts', 6), ('designated', 13), ('indicates', 35), ('consumers', 94), ('carried', 39), ('backer', 15), ('spielvogel', 23), ('bates', 21), ('colony', 19), ('feel', 96), ('pressured', 13), ('surveyed', 23), ('identified', 37), ('one-third', 34), ('great', 184), ('deal', 219), ('stress', 27), ('cabinet', 15), ('endorsed', 13), ('proposal', 221), ('build', 129), ('center', 150), ('central', 124), ('plaza', 10), ('balked', 7), ('conditions', 99), ('undertaking', 8), ('necessary', 75), ('arafat', 12), ('olympic', 5), ('asking', 48), ('palestinian', 13), ('liberation', 6), ('membership', 45), ('renewed', 31), ('application', 19), ('plo', 12), ('organizations', 35), ('win', 84), ('health', 227), ('tourism', 18), ('beijing', 47), ('chinese', 66), ('aids', 45), ('sex', 29), ('daily', 127), ('disease', 27), ('hospital', 55), ('tests', 62), ('confirmed', 50), ('family', 175), ('tested', 16), ('newspaper', 93), ('chaotic', 4), ('life', 270), ('polish', 27), ('charges', 183), ('gas', 203), ('line', 228), ('compensate', 12), ('coal', 40), ('establishing', 14), ('diplomatic', 9), ('poland', 86), ('loans', 289), ('financially', 26), ('strapped', 9), ('warsaw', 20), ('victory', 32), ('environmentalists', 20), ('hungary', 40), ('terminated', 12), ('multibillion-dollar', 6), ('river', 49), ('dam', 9), ('czechoslovakia', 11), ('ending', 66), ('authorized', 25), ('modify', 6), ('damage', 212), ('planned', 114), ('ca', 191), ('operated', 19), ('solely', 15), ('peak', 24), ('periods', 19), ('painting', 13), ('stockholm', 17), ('painted', 9), ('oils', 10), ('playwright', 7), ('couples', 17), ('statistics', 51), ('debentures', 80), ('due', 377), ('bond', 364), ('warrants', 48), ('toronto-based', 15), ('real', 334), ('estate', 233), ('warrant', 26), ('holder', 28), ('par', 92), ('accrued', 15), ('date', 78), ('underwriters', 59), ('dominion', 8), ('actor', 16), ('lane', 24), ('charlie', 9), ('steve', 21), ('martin', 39), ('laid', 13), ('claim', 67), ('writer', 30), ('tramp', 6), ('film', 70), ('student', 43), ('campus', 7), ('shot', 34), ('black-and-white', 3), ('artist', 22), ('streets', 26), ('revived', 12), ('sidewalk', 7), ('stories', 38), ('piece', 44), ('contained', 22), ('dialogue', 16), ('homeless', 20), ('person', 71), ('really', 129), ('silent', 7), ('marc', 6), ('friend', 32), ('earns', 11), ('living', 48), ('playing', 38), ('double', 54), ('classical', 5), ('music', 41), ('prepared', 65), ('exciting', 10), ('score', 16), ('thinking', 27), ('feeling', 29), ('precisely', 12), ('words', 58), ('takes', 84), ('highly', 78), ('view', 135), ('lovely', 6), ('black', 143), ('bill', 376), ('seem', 103), ('benign', 7), ('women', 116), ('walk', 23), ('purpose', 35), ('hangs', 5), ('greenwich', 16), ('village', 10), ('strip', 30), ('avenue', 26), ('crack', 18), ('selling', 264), ('four-year-old', 6), ('box', 22), ('routine', 19), ('spends', 13), ('night', 101), ('returns', 111), ('calls', 150), ('competing', 32), ('given', 149), ('blind', 6), ('girl', 9), ('cure', 10), ('charge', 207), ('returning', 16), ('murdered', 8), ('mother', 41), ('child', 42), ('turns', 38), ('blessing', 6), ('sense', 95), ('serious', 91), ('mission', 21), ('stakes', 26), ('woman', 95), ('children', 106), ('shop', 34), ('expensive', 63), ('apartment', 21), ('strongly', 33), ('camera', 17), ('final', 96), ('existence', 15), ('ends', 27), ('sound', 46), ('rough', 14), ('beaten', 6), ('voices', 14), ('french', 122), ('managed', 54), ('weird', 6), ('achievement', 11), ('harsh', 8), ('brilliant', 6), ('picture', 45), ('character', 26), ('viewed', 28), ('sympathetic', 10), ('historical', 17), ('significance', 9), ('executed', 18), ('germans', 29), ('thousands', 66), ('resistance', 42), ('needed', 120), ('enabled', 8), ('cocoa', 22), ('job', 137), ('killed', 29), ('client', 56), ('husband', 34), ('openly', 12), ('presented', 27), ('nice', 19), ('deserve', 11), ('recommend', 15), ('confused', 7), ('mexican', 17), ('revolution', 22), ('taken', 170), ('endless', 6), ('scenes', 12), ('fighting', 35), ('eating', 14), ('drinking', 16), ('mention', 19), ('movies', 50), ('bright', 19), ('spot', 43), ('peck', 14), ('loose', 21), ('energetic', 8), ('portrayal', 8), ('die', 20), ('video', 36), ('tip', 10), ('seeing', 31), ('look', 151), ('boeing', 50), ('discussing', 31), ('regular', 48), ('possibly', 39), ('larger', 80), ('discussions', 50), ('stages', 17), ('specific', 86), ('seattle', 16), ('industries', 195), ('mitsubishi', 63), ('fuji', 21), ('sections', 9), ('accounting', 73), ('aircraft', 69), ('press', 120), ('speculated', 17), ('contribution', 18), ('goes', 79), ('ahead', 112), ('plane', 23), ('hit', 139), ('mid-1990s', 6), ('negative', 78), ('secondary', 39), ('campaigns', 19), ('event', 51), ('irony', 7), ('attack', 40), ('commercial', 224), ('getting', 171), ('presidential', 27), ('campaign', 124), ('election', 59), ('scattered', 8), ('across', 90), ('ads', 73), ('fears', 59), ('empty', 12), ('issues', 391), ('era', 25), ('content', 12), ('politics', 46), ('art', 71), ('stage', 42), ('consultant', 75), ('your', 223), ('tv', 165), ('needs', 88), ('bold', 13), ('entertaining', 7), ('means', 126), ('fights', 6), ('commercials', 15), ('tone', 26), ('elections', 59), ('jersey', 57), ('virginia', 34), ('screen', 26), ('tight', 28), ('dinkins', 89), ('candidate', 29), ('income', 492), ('straight', 27), ('voice', 50), ('republican', 74), ('giuliani', 28), ('roger', 26), ('master', 24), ('gets', 68), ('contributions', 38), ('accurately', 8), ('links', 18), ('insurance', 401), ('convicted', 32), ('phony', 8), ('wait', 36), ('caught', 38), ('nasty', 10), ('corruption', 15), ('simply', 115), ('exist', 27), ('consultants', 50), ('finally', 75), ('shows', 94), ('distorted', 6), ('photos', 13), ('politicians', 45), ('compare', 20), ('candidates', 52), ('banning', 17), ('bullets', 6), ('opposed', 56), ('pro-choice', 20), ('choose', 26), ('telling', 30), ('truth', 20), ('everybody', 35), ('nobody', 45), ('classic', 23), ('situation', 115), ('accurate', 10), ('fail', 25), ('insists', 22), ('voluntarily', 11), ('admitted', 25), ('oversight', 10), ('secret', 30), ('refused', 47), ('matching', 22), ('incomplete', 9), ('errors', 15), ('know', 224), ('peter', 92), ('powers', 29), ('deceptive', 8), ('side', 100), ('argues', 25), ('knows', 41), ('reservations', 11), ('gov', 29), ('wilder', 11), ('gubernatorial', 6), ('battle', 95), ('marshall', 30), ('coleman', 19), ('abortion', 123), ('agree', 54), ('tour', 11), ('de', 110), ('flag', 23), ('tradition', 14), ('freedom', 34), ('liberty', 10), ('generations', 11), ('jefferson', 8), ('wanted', 106), ('rape', 30), ('incest', 20), ('denies', 18), ('dynamics', 23), ('attorney', 143), ('series', 240), ('advertisements', 7), ('created', 103), ('bob', 35), ('goodman', 8), ('shake', 16), ('attracted', 26), ('featured', 12), ('suggested', 51), ('courtroom', 13), ('introduced', 88), ('victims', 70), ('younger', 29), ('lawyers', 158), ('accused', 56), ('tried', 64), ('pass', 44), ('legislative', 34), ('technique', 27), ('lawmakers', 75), ('grown', 39), ('tired', 7), ('gotten', 25), ('scientist', 16), ('mary', 30), ('devote', 7), ('remainder', 17), ('season', 65), ('positive', 56), ('truce', 8), ('lasted', 7), ('stations', 58), ('carrying', 35), ('featuring', 19), ('himself', 103), ('questions', 99), ('attacks', 21), ('rep', 137), ('florio', 22), ('aired', 9), ('photograph', 7), ('jim', 32), ('courter', 26), ('remember', 26), ('female', 18), ('mean', 70), ('pictures', 42), ('focus', 85), ('hazardous', 8), ('waste', 31), ('neighbors', 12), ('suing', 6), ('fraud', 66), ('nose', 11), ('grows', 16), ('involved', 130), ('cry', 6), ('responded', 31), ('photographs', 7), ('lying', 13), ('asks', 24), ('barrel', 23), ('land', 86), ('heating', 19), ('pollution', 30), ('environment', 60), ('devastating', 12), ('credibility', 30), ('route', 12), ('re-election', 9), ('rout', 5), ('democrat', 31), ('gop', 38), ('nelson', 19), ('rockefeller', 33), ('appeared', 49), ('chicago', 223), ('friday', 356), ('quoted', 89), ('aug', 48), ('southeast', 17), ('region', 62), ('toward', 134), ('interviews', 15), ('suggest', 53), ('cooperation', 40), ('asian', 32), ('pursued', 10), ('fits', 13), ('starts', 28), ('domination', 6), ('fresh', 35), ('policy', 281), ('flow', 62), ('motion', 22), ('economies', 25), ('tripled', 11), ('commitments', 49), ('steep', 28), ('assistance', 50), ('pumping', 7), ('wages', 24), ('forcing', 21), ('sites', 15), ('known', 153), ('contributing', 13), ('influence', 52), ('subordinate', 8), ('spur', 13), ('military', 142), ('fearful', 5), ('falling', 57), ('budget', 190), ('constraints', 8), ('encourages', 6), ('burdens', 8), ('ground', 54), ('coming', 142), ('decade', 86), ('comes', 98), ('swelling', 6), ('evolution', 10), ('concentrated', 15), ('1990s', 24), ('spurred', 11), ('plants', 126), ('accommodate', 19), ('decisions', 54), ('lender', 10), ('california', 341), ('graduate', 12), ('parallel', 11), ('approach', 74), ('sectors', 23), ('specialist', 36), ('east', 211), ('wilson', 14), ('princeton', 7), ('indonesia', 7), ('effect', 158), ('pull', 18), ('integrated', 42), ('closer', 37), ('ministers', 21), ('discuss', 45), ('regional', 69), ('transportation', 129), ('telecommunications', 55), ('participants', 41), ('zealand', 28), ('speech', 39), ('baker', 81), ('intention', 16), ('taking', 130), ('shape', 26), ('friends', 39), ('crucial', 30), ('designing', 11), ('architecture', 16), ('difficult', 107), ('dominance', 7), ('flows', 16), ('remains', 138), ('optimism', 9), ('convey', 5), ('caution', 29), ('understanding', 17), ('functions', 17), ('attitude', 27), ('net', 651), ('gain', 247), ('everyone', 75), ('step', 87), ('ease', 57), ('security', 167), ('uncertainty', 60), ('leases', 10), ('bases', 22), ('troop', 8), ('regard', 14), ('desirable', 12), ('try', 124), ('lee', 55), ('pennsylvania', 40), ('rice', 20), ('hardly', 32), ('eyes', 24), ('comprehensive', 34), ('test', 122), ('basic', 42), ('skills', 21), ('ninth', 6), ('greenville', 16), ('spotted', 9), ('seen', 119), ('cheating', 16), ('notes', 281), ('profession', 9), ('germany', 154), ('surrendered', 7), ('passed', 76), ('forms', 33), ('word', 47), ('matched', 18), ('answers', 31), ('section', 85), ('protest', 18), ('my', 260), ('teacher', 20), ('ok', 11), ('me', 134), ('nancy', 10), ('yeargin', 37), ('students', 76), ('parents', 53), ('confronted', 6), ('examination', 19), ('geography', 6), ('classes', 26), ('gone', 54), ('display', 25), ('prosecuted', 6), ('unusual', 58), ('carolina', 46), ('breach', 15), ('pleaded', 25), ('guilty', 63), ('alternative', 50), ('jail', 19), ('partly', 96), ('won', 101), ('inspired', 13), ('teach', 12), ('wake', 49), ('anger', 12), ('colleagues', 44), ('defended', 14), ('treated', 13), ('stunned', 9), ('nature', 44), ('actions', 63), ('light', 102), ('dark', 16), ('reform', 70), ('teachers', 29), ('testing', 30), ('enhanced', 16), ('temptation', 9), ('statute', 14), ('violated', 19), ('enforce', 10), ('provisions', 81), ('laws', 69), ('alleged', 64), ('bolster', 25), ('scores', 25), ('bonus', 19), ('education', 75), ('depended', 5), ('ability', 93), ('incredible', 5), ('pressure', 129), ('walt', 10), ('educators', 9), ('wrongdoing', 17), ('concluded', 43), ('outright', 9), ('standardized', 10), ('greatly', 25), ('inflated', 9), ('widespread', 39), ('surfaced', 14), ('states', 182), ('suspects', 9), ('adult', 9), ('wrong', 56), ('ones', 71), ('statewide', 7), ('numerous', 36), ('practices', 56), ('booklets', 5), ('classroom', 13), ('instruction', 5), ('booming', 15), ('scoring', 13), ('learning', 32), ('nothing', 106), ('sophisticated', 37), ('academic', 25), ('telegraph', 28), ('precise', 10), ('concentrate', 25), ('county', 86), ('district', 135), ('experts', 74), ('promotions', 21), ('entire', 72), ('districts', 31), ('extra', 46), ('lab', 7), ('grants', 27), ('projects', 125), ('reforms', 41), ('posts', 24), ('lowest', 20), ('sat', 21), ('primary', 59), ('critics', 55), ('stressing', 6), ('worst', 41), ('administrators', 9), ('seriously', 24), ('allegations', 37), ('foundation', 35), ('unfair', 25), ('worries', 22), ('abuse', 23), ('keeping', 51), ('track', 42), ('preparation', 10), ('textile', 18), ('educated', 6), ('governors', 11), ('nobel', 10), ('prize', 8), ('winning', 27), ('actress', 5), ('1980s', 45), ('glory', 10), ('faded', 8), ('yellow', 11), ('bricks', 9), ('broad', 64), ('violence', 17), ('gangs', 6), ('kids', 28), ('linda', 11), ('ward', 20), ('awful', 10), ('programs', 192), ('seventh', 13), ('immediate', 51), ('predecessor', 14), ('suffered', 44), ('nervous', 28), ('breakdown', 11), ('prior', 53), ('term', 100), ('death', 85), ('halls', 7), ('trouble', 68), ('serving', 20), ('evenly', 8), ('split', 65), ('elite', 6), ('neighborhoods', 16), ('blacks', 53), ('inner', 13), ('resolved', 26), ('clean', 32), ('faculty', 7), ('restore', 27), ('safety', 83), ('behalf', 32), ('overall', 83), ('educational', 36), ('funding', 91), ('ambitions', 8), ('reformers', 8), ('dismissal', 11), ('loved', 10), ('things', 180), ('restructured', 16), ('staff', 127), ('struggled', 8), ('fast', 37), ('favorite', 25), ('encouraged', 29), ('taught', 13), ('creation', 20), ('encourage', 38), ('teaching', 12), ('advised', 24), ('cultural', 15), ('chosen', 23), ('lady', 9), ('freshman', 7), ('studying', 24), ('beth', 6), ('ve', 188), ('green', 49), ('distinguished', 6), ('herself', 11), ('approaches', 12), ('pair', 9), ('prepare', 20), ('furniture', 17), ('stands', 34), ('football', 40), ('fellow', 37), ('told', 197), ('pushing', 37), ('deteriorating', 10), ('hearing', 56), ('feared', 19), ('helping', 46), ('earn', 30), ('points', 268), ('source', 101), ('meant', 31), ('meaningful', 8), ('salary', 21), ('third', 359), ('others', 220), ('eager', 29), ('pride', 15), ('elizabeth', 14), ('indeed', 108), ('interested', 75), ('attending', 11), ('returned', 47), ('adequately', 8), ('studies', 50), ('admits', 23), ('mistake', 14), ('correct', 24), ('subjects', 15), ('bottom', 36), ('newspapers', 39), ('mostly', 72), ('prevent', 75), ('badly', 38), ('broke', 31), ('heart', 61), ('whole', 90), ('alive', 17), ('desperately', 11), ('somebody', 25), ('blow', 23), ('advanced', 110), ('pretty', 57), ('joe', 15), ('watson', 14), ('prosecutor', 16), ('concedes', 22), ('adding', 77), ('hands', 79), ('discovered', 47), ('avoid', 83), ('disclosure', 26), ('trial', 92), ('quiet', 33), ('resignation', 44), ('save', 50), ('certificate', 11), ('recalls', 36), ('someone', 76), ('authorities', 53), ('dismissed', 22), ('crowded', 14), ('testify', 11), ('supportive', 7), ('callers', 2), ('radio', 61), ('policies', 79), ('host', 29), ('allowed', 93), ('first-time', 5), ('offenders', 7), ('conviction', 22), ('worthy', 6), ('murder', 21), ('witnesses', 16), ('interviewed', 18), ('crushed', 6), ('explain', 34), ('familiar', 84), ('shirts', 6), ('angry', 21), ('harm', 13), ('damn', 7), ('incident', 14), ('doubt', 53), ('wisdom', 12), ('evaluating', 10), ('realized', 26), ('afraid', 18), ('relieved', 10), ('sentiment', 26), ('favor', 60), ('jury', 75), ('touched', 7), ('slate', 13), ('answer', 38), ('widely', 82), ('roman', 35), ('add', 86), ('parent', 149), ('britain', 140), ('communication', 17), ('parallels', 7), ('mich', 39), ('gauge', 14), ('eighth', 7), ('grade', 8), ('cat', 7), ('iowa', 26), ('metropolitan', 33), ('arizona', 64), ('florida', 54), ('louisiana', 10), ('maryland', 27), ('tools', 25), ('kean', 10), ('publishes', 15), ('aimed', 68), ('improving', 19), ('referred', 20), ('michigan', 29), ('similarity', 6), ('devised', 7), ('scale', 33), ('measured', 24), ('metric', 42), ('measurement', 6), ('volume', 267), ('pie', 8), ('bar', 33), ('intent', 29), ('knowledge', 15), ('sounds', 20), ('exclusion', 11), ('contains', 13), ('examples', 6), ('matches', 6), ('rick', 6), ('ignoring', 19), ('need', 224), ('format', 5), ('deny', 24), ('publication', 20), ('random', 23), ('advisory', 21), ('represented', 35), ('sacramento', 21), ('loan', 218), ('c', 175), ('s&l', 25), ('offices', 93), ('north', 147), ('services', 324), ('fetal-tissue', 10), ('transplants', 16), ('tissue', 14), ('humans', 13), ('anti-abortionists', 7), ('oppose', 29), ('abortions', 29), ('mason', 19), ('transplant', 7), ('indefinitely', 9), ('wo', 252), ('stop', 93), ('privately', 41), ('funded', 24), ('federally', 16), ('involve', 32), ('hhs', 7), ('louis', 45), ('sullivan', 20), ('letter', 96), ('acting', 28), ('institutes', 14), ('threatened', 36), ('controversy', 27), ('implications', 22), ('brain', 30), ('patient', 18), ('suffering', 18), ('scientific', 45), ('ethical', 11), ('majority', 121), ('panel', 66), ('recommended', 30), ('carefully', 20), ('controlled', 57), ('anti-abortion', 13), ('dispute', 59), ('hampered', 14), ('administration', 301), ('recruit', 7), ('prominent', 19), ('doctors', 24), ('fill', 30), ('prestigious', 11), ('helm', 6), ('nih', 16), ('withdrawn', 14), ('names', 54), ('consideration', 28), ('views', 45), ('antonio', 15), ('novello', 2), ('serve', 46), ('surgeon', 6), ('reportedly', 22), ('assured', 14), ('opposes', 12), ('charged', 61), ('imposing', 11), ('ideological', 11), ('moves', 97), ('judgments', 8), ('applications', 36), ('associate', 24), ('dean', 32), ('yale', 16), ('debate', 66), ('mechanism', 11), ('exists', 9), ('middle', 34), ('conducting', 18), ('warns', 14), ('discourage', 8), ('climate', 24), ('visible', 19), ('foundations', 9), ('fronts', 6), ('damaged', 63), ('genes', 42), ('cause', 87), ('syndrome', 11), ('mental', 10), ('summary', 7), ('interstate', 51), ('over-the-counter', 85), ('slightly', 145), ('lackluster', 22), ('turnover', 34), ('busiest', 8), ('averaged', 20), ('roughly', 64), ('biggest', 146), ('gained', 149), ('modestly', 23), ('tracks', 19), ('connecticut', 30), ('trust', 234), ('regions', 17), ('merge', 26), ('massachusetts', 36), ('merged', 22), ('traders', 358), ('real-estate', 71), ('takeover', 250), ('targets', 35), ('speculators', 27), ('anticipating', 7), ('approve', 38), ('permitting', 5), ('immediately', 71), ('water', 99), ('saw', 70), ('uptick', 7), ('trader', 82), ('otc', 73), ('bancorp', 16), ('expires', 23), ('ed', 9), ('fared', 11), ('constitution', 34), ('signed', 88), ('merger', 105), ('london-based', 13), ('third-quarter', 300), ('pretax', 90), ('mobile', 12), ('dan', 16), ('one-time', 47), ('substantially', 56), ('losses', 269), ('associated', 61), ('core', 54), ('assuming', 29), ('dramatic', 29), ('achieve', 19), ('weisfield', 16), ('ratners', 15), ('definitive', 26), ('jaguar', 188), ('heritage', 17), ('media', 105), ('acquiring', 43), ('pop', 24), ('swap', 27), ('tumbled', 39), ('rally', 112), ('lost', 171), ('restaurant', 42), ('operator', 45), ('redeemed', 12), ('resolve', 24), ('burt', 8), ('sugarman', 15), ('trotter', 12), ('sci', 56), ('slipped', 52), ('ala', 5), ('fiscal', 253), ('quarter', 791), ('sept', 173), ('year-earlier', 136), ('criminal', 70), ('detailed', 28), ('warnings', 13), ('attorneys', 54), ('cities', 56), ('outcry', 15), ('organized', 28), ('protected', 22), ('privilege', 13), ('irs', 103), ('stem', 24), ('receives', 15), ('customer', 76), ('transactions', 99), ('payment', 87), ('document', 14), ('failure', 62), ('punishable', 7), ('felony', 13), ('prison', 35), ('argued', 45), ('wish', 28), ('citing', 50), ('rarely', 19), ('acted', 13), ('witness', 17), ('neal', 13), ('miami', 32), ('dozens', 21), ('letters', 44), ('sent', 109), ('certified', 3), ('mail', 63), ('drug', 214), ('individuals', 78), ('necessarily', 23), ('hire', 24), ('circumstances', 41), ('retained', 22), ('filling', 16), ('spark', 13), ('formed', 42), ('gerald', 19), ('delegates', 5), ('resolution', 47), ('requirement', 15), ('aba', 6), ('grand', 72), ('prohibited', 11), ('ethics', 16), ('disclosing', 5), ('committing', 5), ('justice', 108), ('taxpayers', 44), ('notice', 19), ('moderate', 38), ('stance', 21), ('christopher', 29), ('detroit', 30), ('submit', 18), ('initiated', 9), ('dating', 6), ('permission', 29), ('obtained', 25), ('develop', 81), ('sending', 21), ('relating', 14), ('confidential', 10), ('judicial', 29), ('salaries', 17), ('victim', 19), ('judges', 54), ('lucrative', 20), ('fanfare', 6), ('ramirez', 6), ('calif', 174), ('san', 335), ('francisco', 251), ('refusal', 9), ('couple', 66), ('professional', 57), ('accountants', 11), ('eye', 44), ('sudden', 36), ('sum', 14), ('litigation', 70), ('detail', 16), ('high-priced', 11), ('troubles', 37), ('laughing', 6), ('trudeau', 7), ('guild', 10), ('america', 202), ('alleging', 11), ('mounted', 14), ('punish', 7), ('crossing', 7), ('picket', 6), ('involves', 19), ('productions', 11), ('member', 99), ('employed', 18), ('lawsuit', 36), ('illegally', 16), ('reviewing', 16), ('suit', 171), ('disciplinary', 14), ('k', 119), ('consists', 15), ('mainly', 54), ('threats', 13), ('punishment', 8), ('damages', 47), ('seeks', 38), ('preventing', 12), ('adopted', 43), ('prohibits', 8), ('title', 45), ('x', 6), ('assist', 20), ('obtaining', 13), ('counseling', 12), ('activities', 86), ('promote', 28), ('advocate', 10), ('opinion', 55), ('restrictions', 67), ('violate', 18), ('care', 127), ('limits', 41), ('pregnant', 19), ('inquiry', 29), ('clears', 7), ('bias', 21), ('comments', 41), ('homosexual', 6), ('dallas', 55), ('jack', 59), ('sparked', 17), ('remarks', 28), ('december', 118), ('sentencing', 7), ('defendant', 15), ('killing', 21), ('park', 68), ('referring', 28), ('picking', 17), ('boys', 15), ('murray', 15), ('appointed', 37), ('fairness', 10), ('commenting', 8), ('judiciary', 14), ('impose', 17), ('gaf', 20), ('opening', 71), ('arguments', 20), ('manhattan', 72), ('lowe', 6), ('indictment', 27), ('wayne', 9), ('specialty', 42), ('sherwin', 8), ('attempting', 29), ('manipulate', 7), ('carbide', 14), ('trials', 11), ('switching', 8), ('prosecution', 14), ('affair', 17), ('mayer', 8), ('brown', 71), ('oliver', 16), ('specialize', 5), ('white-collar', 10), ('served', 47), ('narcotics', 6), ('tire', 24), ('rubber', 13), ('principle', 31), ('albany', 6), ('ga', 10), ('consist', 10), ('square', 46), ('feet', 77), ('acres', 26), ('bids', 74), ('leaders', 133), ('statement', 159), ('pricing', 54), ('equivalent', 38), ('penny', 11), ('municipal', 69), ('alone', 78), ('competitors', 73), ('auctions', 11), ('summoned', 8), ('sure', 94), ('understood', 16), ('fair', 44), ('investigating', 22), ('violations', 36), ('packed', 8), ('headquarters', 87), ('contrary', 14), ('sorry', 6), ('embarrassing', 9), ('situations', 8), ('reputation', 34), ('profits', 147), ('benefits', 110), ('accepted', 58), ('normal', 56), ('accepting', 14), ('gifts', 10), ('businessmen', 27), ('fire', 56), ('fueled', 22), ('behavior', 26), ('complaints', 29), ('touch', 18), ('foreigners', 26), ('complain', 24), ('limited', 137), ('access', 71), ('procurement', 7), ('unfairly', 12), ('undercut', 9), ('slashing', 8), ('semiconductors', 10), ('hurt', 108), ('minus', 9), ('factor', 43), ('hiroshima', 11), ('design', 68), ('waterworks', 7), ('library', 11), ('municipalities', 7), ('emerge', 21), ('insisted', 22), ('contacted', 7), ('federation', 22), ('papers', 34), ('atlantic', 42), ('publications', 27), ('community', 118), ('cbs', 107), ('communications', 138), ('retaining', 9), ('operates', 52), ('retail', 121), ('furukawa', 8), ('machinery', 37), ('locally', 7), ('german', 140), ('structural', 49), ('productivity', 29), ('thrifts', 55), ('compiled', 21), ('monitor', 30), ('minimum', 100), ('lsi', 6), ('logic', 15), ('surprise', 35), ('semiconductor', 43), ('lagging', 11), ('billings', 10), ('cover', 68), ('extended', 41), ('weakness', 55), ('switch', 22), ('techniques', 16), ('wilfred', 7), ('midyear', 6), ('phase', 17), ('oldest', 7), ('appropriate', 27), ('counting', 13), ('extraordinary', 45), ('older', 52), ('silicon', 19), ('converting', 11), ('santa', 84), ('clara', 11), ('facility', 66), ('speculate', 12), ('additions', 6), ('aggressively', 28), ('suddenly', 24), ('poorly', 15), ('positioned', 12), ('stark', 8), ('robertson', 16), ('dead', 35), ('facing', 39), ('traditionally', 25), ('buyers', 129), ('jitters', 8), ('lake', 20), ('g', 38), ('buoyed', 12), ('cautiously', 8), ('bearish', 21), ('kept', 56), ('plunging', 9), ('locked', 11), ('narrow', 34), ('offset', 88), ('resulting', 33), ('jay', 14), ('insight', 5), ('reasons', 58), ('lure', 14), ('driving', 29), ('tom', 24), ('banque', 10), ('paribas', 66), ('convinced', 21), ('erode', 10), ('sterling', 62), ('thursday', 116), ('madison', 17), ('los', 170), ('angeles', 144), ('solid', 30), ('wave', 31), ('waiting', 63), ('wings', 8), ('contends', 41), ('perception', 17), ('columbia', 134), ('entertainment', 107), ('cites', 11), ('knight', 20), ('undisclosed', 10), ('georgia-pacific', 61), ('northern', 72), ('nekoosa', 52), ('10-year', 43), ('valued', 86), ('speculation', 79), ('unclear', 19), ('rolled', 20), ('prospect', 38), ('lock', 15), ('high-yield', 45), ('merely', 38), ('drifted', 8), ('release', 59), ('expectations', 73), ('minimal', 16), ('commodity', 74), ('ounce', 52), ('ounces', 21), ('cosby', 11), ('ratings', 65), ('nbc', 56), ('debut', 18), ('keeps', 16), ('viewers', 21), ('network', 161), ('affiliates', 22), ('air', 236), ('considerably', 23), ('episodes', 6), ('distributor', 20), ('viacom', 36), ('losing', 55), ('persuade', 22), ('tactics', 13), ('willing', 81), ('negotiate', 17), ('midwest', 26), ('tell', 77), ('ll', 118), ('flooded', 7), ('networks', 38), ('station', 53), ('nielsen', 9), ('louisville', 20), ('ky', 16), ('renew', 8), ('dick', 13), ('disappointment', 16), ('pleased', 22), ('adds', 125), ('disappointed', 27), ('uncomfortable', 6), ('frankly', 9), ('quite', 64), ('georgia', 47), ('officially', 23), ('atlanta-based', 7), ('conventional', 53), ('life-insurance', 6), ('magazines', 71), ('articles', 20), ('survive', 21), ('downright', 6), ('garbage', 12), ('billed', 6), ('practical', 14), ('founded', 27), ('brooklyn', 19), ('y', 55), ('entrepreneur', 17), ('promise', 48), ('crisis', 47), ('combines', 6), ('pieces', 24), ('topics', 7), ('happens', 26), ('flush', 6), ('toilet', 7), ('editors', 12), ('considerable', 33), ('supermarket', 13), ('identify', 31), ('guys', 17), ('feature', 17), ('standpoint', 6), ('would-be', 13), ('campbell', 35), ('soup', 14), ('microwave', 6), ('premiere', 11), ('column', 17), ('pointing', 10), ('packaging', 30), ('foam', 6), ('plastic', 36), ('landfill', 9), ('monster', 6), ('wrote', 66), ('practicing', 9), ('opportunity', 70), ('modifications', 8), ('printed', 13), ('portrayed', 6), ('surprisingly', 24), ('turning', 38), ('mike', 13), ('ddb', 6), ('needham', 8), ('economics', 32), ('big-time', 7), ('handful', 30), ('coors', 30), ('spend', 83), ('relied', 9), ('haul', 9), ('print', 20), ('publisher', 44), ('initially', 46), ('subscription', 4), ('revenues', 36), ('yearly', 10), ('recycled', 5), ('scared', 14), ('replies', 8), ('sleep', 10), ('interpublic', 16), ('programming', 27), ('expanded', 38), ('original', 67), ('largely', 123), ('supplier', 23), ('philadelphia', 42), ('palmer', 2), ('handled', 27), ('baltimore', 33), ('at&t', 56), ('fax', 9), ('ogilvy', 42), ('mather', 18), ('wpp', 24), ('rubicam', 19), ('enterprise', 16), ('breaks', 15), ('st', 63), ('specializes', 16), ('pitches', 8), ('pittsburgh', 40), ('sea', 53), ('containers', 35), ('buy-back', 34), ('pressed', 14), ('temple', 15), ('hamilton', 13), ('shipping', 45), ('proceeds', 78), ('apiece', 17), ('hostile', 56), ('ag', 60), ('sweetened', 15), ('approximately', 29), ('allocated', 11), ('leaving', 55), ('flexibility', 22), ('raises', 27), ('criticized', 29), ('conditional', 6), ('device', 31), ('superior', 19), ('asset', 80), ('converted', 23), ('possibility', 42), ('subsidiaries', 36), ('mired', 7), ('barred', 15), ('reaction', 46), ('responding', 19), ('advocates', 23), ('steps', 61), ('vans', 14), ('requirements', 66), ('automobiles', 10), ('requiring', 31), ('minivans', 7), ('belts', 9), ('rear', 6), ('model', 56), ('samuel', 22), ('skinner', 11), ('represents', 61), ('ongoing', 13), ('vehicle', 47), ('extension', 21), ('car', 182), ('equipped', 9), ('surprising', 37), ('urging', 25), ('actually', 101), ('cargo', 16), ('therefore', 21), ('luck', 10), ('reagan', 88), ('fairly', 50), ('address', 31), ('chuck', 6), ('highway', 54), ('sen', 118), ('praised', 8), ('noting', 30), ('crashes', 6), ('bags', 10), ('automatic', 16), ('weighing', 7), ('pounds', 26), ('withstand', 10), ('weight', 25), ('depressed', 23), ('inches', 14), ('shoulder', 12), ('installed', 21), ('deadline', 27), ('engineer', 12), ('ford', 224), ('crew', 10), ('rail', 11), ('autos', 8), ('heights', 11), ('railroad', 24), ('sir', 55), ('walters', 6), ('petroleum', 72), ('joins', 8), ('cement', 10), ('circle', 14), ('formal', 35), ('longstanding', 16), ('opposition', 80), ('within', 206), ('dow', 239), ('jones', 233), ('options', 166), ('conversations', 16), ('interesting', 25), ('prevailing', 5), ('passage', 15), ('slump', 28), ('lay', 17), ('altogether', 17), ('employment', 54), ('exclusively', 10), ('leasing', 17), ('reduced', 122), ('payable', 34), ('jan', 49), ('hair', 10), ('accessories', 14), ('cosmetic', 8), ('year-ago', 68), ('anti-takeover', 9), ('henderson', 13), ('metals', 56), ('succeeding', 28), ('ian', 6), ('butler', 5), ('retiring', 14), ('cent', 21), ('redemption', 21), ('upon', 48), ('warren', 26), ('leap', 10), ('wine', 31), ('tag', 6), ('cabernet', 6), ('shops', 35), ('experience', 67), ('declared', 49), ('diamond', 16), ('creek', 14), ('weighed', 7), ('bottle', 17), ('fastest', 6), ('segments', 24), ('category', 27), ('wines', 16), ('quality', 88), ('perceived', 13), ('stable', 33), ('la', 48), ('magnitude', 10), ('flashy', 7), ('releases', 12), ('lion', 14), ('bottles', 7), ('smallest', 10), ('lighter', 8), ('vintage', 8), ('prestige', 8), ('barrier', 16), ('salon', 7), ('soared', 52), ('steal', 11), ('precious', 31), ('anywhere', 19), ('angelo', 10), ('command', 9), ('larry', 16), ('shapiro', 10), ('happening', 21), ('scarce', 10), ('exhausted', 7), ('newer', 11), ('bargain', 15), ('perfectly', 15), ('yielded', 7), ('owner', 68), ('al', 9), ('originally', 28), ('retailer', 33), ('wholesale', 34), ('merchants', 18), ('check', 41), ('responses', 14), ('yes', 18), ('shipped', 21), ('spread', 72), ('thin', 38), ('retailers', 41), ('suburban', 21), ('opinions', 11), ('thinks', 46), ('dramatically', 7), ('wins', 16), ('talked', 19), ('excited', 5), ('collection', 31), ('sort', 66), ('dunn', 6), ('appeal', 60), ('explains', 23), ('rapidly', 43), ('knowledgeable', 8), ('orleans', 16), ('equally', 18), ('movement', 48), ('forced', 91), ('push', 55), ('lowering', 11), ('beautiful', 13), ('ideas', 30), ('walking', 13), ('door', 47), ('moment', 54), ('looming', 5), ('holidays', 6), ('free-lance', 7), ('upward', 21), ('richmond', 19), ('posting', 19), ('fourth', 120), ('agrees', 21), ('kansas', 19), ('stated', 27), ('objective', 11), ('hopefully', 8), ('downward', 29), ('expecting', 21), ('easier', 40), ('plunge', 86), ('shown', 48), ('weak', 68), ('slower', 26), ('discretionary', 11), ('halt', 34), ('divided', 28), ('presidents', 22), ('excesses', 5), ('tilt', 7), ('chance', 75), ('mailing', 8), ('exercised', 13), ('hotels', 19), ('exercise', 58), ('merchant', 36), ('steelmaker', 14), ('steelworkers', 8), ('tube', 9), ('expired', 15), ('vote', 129), ('reject', 17), ('pact', 45), ('postponed', 14), ('congressional', 120), ('fails', 13), ('disruption', 11), ('schedule', 33), ('taxpayer', 10), ('nicholas', 21), ('brady', 39), ('redeem', 17), ('maturing', 20), ('refunding', 15), ('three-year', 26), ('auctioned', 11), ('30-year', 71), ('when-issued', 7), ('approves', 7), ('clearing', 22), ('two-year', 41), ('five-year', 34), ('estimates', 138), ('decides', 11), ('aim', 20), ('lancaster', 5), ('foods', 39), ('marketer', 13), ('frozen', 10), ('pasta', 4), ('advantage', 52), ('fractionally', 6), ('finished', 55), ('advancing', 18), ('enthusiasm', 11), ('rushed', 13), ('sight', 8), ('pattern', 26), ('benchmark', 55), ('afternoon', 58), ('mitsui', 18), ('mining', 48), ('eaton', 11), ('sierra', 15), ('supplies', 56), ('harold', 18), ('simmons', 29), ('nl', 17), ('gulf', 70), ('chemicals', 64), ('restructure', 22), ('rebuffed', 8), ('alternatives', 38), ('proposals', 58), ('reviewed', 8), ('regarding', 35), ('eliminated', 25), ('various', 89), ('proof', 13), ('aggressive', 43), ('pit', 11), ('bull', 13), ('morgan', 121), ('stanley', 77), ('valhi', 6), ('two-thirds', 35), ('surprised', 37), ('cited', 75), ('becomes', 30), ('unchanged', 101), ('proposing', 16), ('subordinated', 66), ('junk-bond', 57), ('collapsed', 40), ('likelihood', 12), ('hundred', 25), ('agreeing', 17), ('consent', 24), ('jerry', 18), ('respond', 31), ('solicitation', 12), ('replacing', 14), ('friendly', 39), ('apparently', 100), ('nominal', 13), ('earned', 107), ('licensing', 9), ('representing', 46), ('challenging', 13), ('punitive', 10), ('license', 29), ('elsewhere', 58), ('albert', 19), ('researcher', 18), ('1960s', 18), ('combat', 17), ('licensed', 12), ('criticism', 41), ('acquisitions', 69), ('color', 34), ('disagree', 15), ('removal', 11), ('barriers', 23), ('focusing', 24), ('differences', 41), ('initiative', 32), ('rhetoric', 12), ('signal', 39), ('impending', 13), ('nervousness', 6), ('devoted', 11), ('half-hour', 15), ('briefing', 6), ('journalists', 16), ('notably', 19), ('coca-cola', 30), ('fuel', 43), ('fires', 10), ('publicized', 8), ('boone', 6), ('pickens', 6), ('lloyd', 68), ('highlight', 9), ('disproportionate', 10), ('table', 36), ('structures', 23), ('recommendations', 17), ('anxious', 15), ('successful', 59), ('concessions', 20), ('clarify', 5), ('exactly', 34), ('quick', 39), ('crossed', 7), ('smaller', 104), ('controversial', 44), ('improves', 8), ('provides', 80), ('candela', 6), ('laser', 9), ('high-tech', 18), ('sights', 6), ('tiny', 23), ('joint-venture', 8), ('bureaucratic', 11), ('secured', 30), ('kidney', 11), ('stones', 10), ('skin', 12), ('count', 21), ('promising', 15), ('frequently', 39), ('putting', 61), ('financed', 21), ('corporations', 62), ('minority', 74), ('heightened', 10), ('acceleration', 7), ('deals', 80), ('feed', 16), ('glass', 34), ('catch', 28), ('fancy', 13), ('strategic', 57), ('fit', 32), ('va', 35), ('architectural', 6), ('ronald', 25), ('window', 22), ('merchandise', 38), ('inside', 43), ('counterpart', 12), ('commodities', 39), ('ships', 25), ('houses', 78), ('ventures', 59), ('goal', 50), ('objectives', 18), ('drive', 67), ('basis', 128), ('performed', 22), ('businessman', 16), ('alliance', 47), ('generate', 33), ('extent', 43), ('ai', 6), ('hudson', 21), ('departure', 31), ('maintenance', 36), ('fueling', 7), ('airlines', 155), ('airports', 9), ('omitted', 13), ('duties', 30), ('assumed', 25), ('neighborhood', 23), ('convenient', 7), ('crown', 13), ('package', 89), ('checking', 7), ('safe', 49), ('deposit', 54), ('card', 41), ('installment', 10), ('qualify', 17), ('loyalty', 30), ('competitive', 62), ('deposits', 58), ('packages', 34), ('targeting', 14), ('population', 37), ('anne', 10), ('moore', 13), ('ncnb', 6), ('charlotte', 15), ('connections', 6), ('adults', 19), ('starting', 56), ('throws', 9), ('saving', 16), ('memphis', 8), ('tenn', 13), ('edge', 25), ('crowd', 29), ('borrowed', 24), ('aiming', 8), ('elderly', 20), ('segment', 65), ('stepped', 21), ('macdonald', 7), ('barnett', 5), ('fla', 35), ('seniors', 7), ('styles', 9), ('create', 81), ('branches', 39), ('athletic', 7), ('travel', 69), ('active', 106), ('games', 46), ('panama', 54), ('wells', 51), ('fargo', 22), ('travelers', 25), ('checks', 28), ('fee', 23), ('slew', 6), ('promoting', 20), ('margins', 85), ('profitable', 63), ('mid-1970s', 10), ('emphasis', 26), ('switched', 16), ('ways', 94), ('enabling', 9), ('analyze', 8), ('deregulation', 14), ('1970s', 43), ('cds', 57), ('certificates', 55), ('staggering', 9), ('bigger', 54), ('market-share', 5), ('banker', 39), ('worrying', 7), ('unions', 28), ('scrambling', 11), ('define', 5), ('attracting', 16), ('costly', 44), ('rewarding', 6), ('bulk', 33), ('audience', 45), ('loyal', 22), ('borrowers', 13), ('personnel', 46), ('training', 49), ('promotional', 17), ('jacob', 7), ('demanding', 13), ('tailored', 5), ('moving', 74), ('direction', 50), ('alvin', 6), ('realize', 41), ('iras', 11), ('registration', 17), ('chandler', 16), ('ariz', 24), ('exercisable', 16), ('develops', 9), ('low-cost', 12), ('peripheral', 6), ('chevrolet', 18), ('vacation', 11), ('send', 32), ('lasting', 9), ('savings-and-loan', 15), ('foster', 21), ('ailing', 10), ('demise', 11), ('healthy', 56), ('performing', 15), ('institution', 34), ('gift', 9), ('doors', 15), ('felt', 52), ('lewis', 27), ('builds', 10), ('confidence', 55), ('critical', 46), ('delay', 51), ('worse', 44), ('sagging', 9), ('morale', 6), ('mercantile', 27), ('breaker', 9), ('stemming', 18), ('phelan', 44), ('subcommittee', 38), ('halts', 4), ('collar', 10), ('arguing', 16), ('limit', 103), ('merc', 31), ('one-hour', 10), ('stock-index', 112), ('futures', 347), ('s&p', 130), ('execute', 14), ('trades', 85), ('tumultuous', 7), ('industrials', 35), ('skidded', 9), ('hitting', 11), ('remained', 54), ('session', 99), ('existing', 84), ('equal', 51), ('leo', 7), ('panic', 21), ('reopened', 7), ('subsequent', 22), ('flood', 8), ('knocked', 17), ('intermediate', 16), ('floor', 107), ('shortly', 35), ('maximum', 36), ('one-day', 9), ('minutes', 69), ('aides', 24), ('congressmen', 11), ('executing', 8), ('expressed', 44), ('volatility', 117), ('program-trading', 31), ('comfortable', 28), ('capitol', 25), ('legislators', 28), ('shut', 30), ('volatile', 48), ('breeden', 40), ('breakers', 15), ('trigger', 13), ('vague', 8), ('angered', 8), ('edward', 46), ('markey', 9), ('beyond', 80), ('done', 118), ('sensitive', 33), ('happy', 24), ('writing', 26), ('discussed', 26), ('congressman', 20), ('attended', 22), ('dingell', 17), ('let', 106), ('sources', 67), ('regulated', 13), ('agriculture', 33), ('committees', 26), ('rural', 27), ('ancient', 7), ('stone', 28), ('church', 50), ('bells', 23), ('tower', 39), ('calling', 39), ('angels', 13), ('ropes', 6), ('sounded', 6), ('modern', 39), ('enjoying', 7), ('cool', 19), ('autumn', 10), ('band', 18), ('ringers', 24), ('herald', 18), ('sunday', 37), ('ringer', 6), ('hammond', 8), ('live', 62), ('youngsters', 6), ('ring', 12), ('worker', 36), ('train', 24), ('youth', 13), ('ranks', 18), ('nationwide', 35), ('continental', 57), ('invented', 9), ('physical', 18), ('weigh', 10), ('ton', 24), ('concentration', 6), ('proper', 18), ('bell', 80), ('methods', 16), ('ten', 8), ('pulling', 13), ('disappears', 6), ('hole', 14), ('ringing', 8), ('chamber', 35), ('speaks', 9), ('totally', 28), ('absorbed', 9), ('vision', 18), ('thus', 96), ('pulls', 7), ('wheels', 7), ('skilled', 7), ('well-known', 25), ('novelist', 5), ('passion', 8), ('finds', 23), ('satisfaction', 18), ('filled', 38), ('bit', 53), ('stays', 8), ('stuck', 17), ('sweat', 8), ('sit', 29), ('steadily', 18), ('pressing', 15), ('attend', 7), ('rev', 10), ('vicar', 7), ('promptly', 13), ('premises', 6), ('eight', 114), ('attendance', 10), ('refuses', 7), ('reopen', 16), ('wound', 7), ('nearby', 22), ('fault', 18), ('crunch', 16), ('bang', 9), ('obvious', 27), ('exit', 8), ('feelings', 11), ('drawn', 18), ('council', 78), ('aims', 14), ('baldwin', 8), ('speak', 19), ('colleges', 11), ('publish', 22), ('entitled', 10), ('attacking', 6), ('inner-city', 9), ('attract', 43), ('lucky', 14), ('everywhere', 10), ('sole', 22), ('weekly', 47), ('signing', 17), ('balanced', 7), ('frequency', 6), ('tea', 14), ('observed', 16), ('dressed', 6), ('unsettled', 11), ('comfort', 13), ('predictable', 8), ('payouts', 6), ('warn', 7), ('strongest', 19), ('stock-market', 39), ('trap', 7), ('bernstein', 17), ('merrill', 134), ('lynch', 130), ('widow', 7), ('reference', 9), ('males', 10), ('kill', 35), ('boesel', 6), ('invariably', 7), ('environments', 6), ('risen', 30), ('cyclical', 18), ('500-stock', 20), ('sliding', 7), ('watchers', 10), ('double-digit', 9), ('trends', 34), ('advances', 19), ('relative', 28), ('sustained', 30), ('rebound', 30), ('exception', 16), ('w', 55), ('hint', 6), ('escaped', 11), ('debacle', 11), ('sharp', 95), ('troublesome', 7), ('manner', 12), ('cigna', 8), ('insurer', 36), ('einhorn', 6), ('weakening', 21), ('painewebber', 63), ('forecasting', 11), ('argument', 32), ('declare', 7), ('weaken', 14), ('bulls', 5), ('expenditures', 20), ('tally', 5), ('basically', 21), ('trailed', 8), ('deliver', 43), ('appreciation', 28), ('vs', 34), ('element', 13), ('outlook', 43), ('upside', 9), ('page-one', 8), ('plight', 8), ('alexander', 14), ('graham', 9), ('supposedly', 8), ('replace', 49), ('hubbard', 8), ('wealthy', 12), ('sued', 27), ('infringed', 4), ('established', 57), ('enter', 31), ('beverly', 19), ('nbi', 13), ('quarters', 41), ('kingdom', 18), ('commit', 7), ('lacked', 11), ('hired', 37), ('nixon', 36), ('historic', 12), ('spoke', 16), ('length', 11), ('nowhere', 6), ('easing', 22), ('relationship', 52), ('bloody', 7), ('pro-democracy', 10), ('demonstrators', 12), ('massacre', 13), ('normally', 44), ('peaceful', 8), ('phrase', 8), ('socialist', 24), ('capitalist', 8), ('tension', 11), ('evident', 14), ('friendship', 7), ('reminded', 7), ('assault', 10), ('crackdown', 7), ('ordering', 12), ('respect', 17), ('fashion', 39), ('killings', 9), ('demonstrations', 15), ('deng', 9), ('speaking', 13), ('deeply', 18), ('turmoil', 33), ('occurred', 31), ('exchanges', 70), ('deteriorated', 6), ('greatest', 25), ('dissident', 15), ('wife', 50), ('refuge', 10), ('embassy', 14), ('suspension', 30), ('traveling', 9), ('citizen', 10), ('scowcroft', 9), ('saturday', 47), ('participation', 27), ('pulled', 37), ('acknowledge', 8), ('welcome', 18), ('contacts', 11), ('borders', 6), ('sdi', 18), ('weapon', 12), ('shoot', 6), ('minor', 53), ('premier', 12), ('hoped', 31), ('guards', 8), ('guns', 8), ('arrived', 19), ('blocks', 18), ('ambassador', 15), ('residence', 9), ('discarded', 7), ('arms', 24), ('contingent', 7), ('soldiers', 10), ('protests', 19), ('diplomats', 8), ('loaded', 6), ('graduates', 6), ('tree', 11), ('passing', 15), ('buck', 10), ('everything', 69), ('volunteer', 7), ('unfortunately', 22), ('compensation', 35), ('impression', 11), ('harder', 36), ('visited', 19), ('images', 12), ('changing', 37), ('perceptions', 10), ('accept', 67), ('barbara', 13), ('continually', 9), ('liberals', 8), ('klein', 11), ('puts', 54), ('professionals', 23), ('favorable', 31), ('voters', 60), ('spouse', 6), ('assumption', 29), ('perspective', 25), ('defined', 18), ('birmingham', 11), ('disciplined', 7), ('expelled', 6), ('nasd', 10), ('fined', 23), ('fernando', 8), ('marina', 23), ('del', 22), ('rey', 31), ('listing', 15), ('henry', 30), ('improper', 9), ('unpublished', 7), ('settlement', 119), ('admitting', 11), ('denying', 9), ('consented', 11), ('connection', 35), ('crane', 18), ('mount', 15), ('glenn', 15), ('escrow', 6), ('inaccurate', 6), ('principals', 9), ('dell', 15), ('eugene', 9), ('island', 31), ('wash', 21), ('implication', 6), ('inappropriate', 9), ('timing', 29), ('differ', 7), ('meaning', 20), ('express', 107), ('timely', 9), ('requests', 20), ('davis', 32), ('jeffrey', 25), ('gerard', 6), ('stewart', 12), ('amounted', 17), ('parking', 18), ('ticket', 26), ('complaining', 10), ('sizable', 18), ('anybody', 27), ('rolling', 21), ('stuart', 11), ('breaking', 26), ('agents', 44), ('compliance', 22), ('stupid', 10), ('mistakes', 11), ('actively', 18), ('engaged', 31), ('blocked', 10), ('computer-driven', 13), ('plays', 25), ('hurdles', 8), ('resist', 10), ('furor', 11), ('abroad', 52), ('arbitrage', 111), ('exploit', 10), ('imagine', 11), ('racing', 10), ('cope', 16), ('utsumi', 8), ('osaka', 7), ('wary', 18), ('forgotten', 9), ('drove', 18), ('operators', 35), ('suspend', 10), ('maybe', 60), ('tightened', 7), ('salomon', 82), ('chunk', 15), ('futures-related', 7), ('strategies', 43), ('liquid', 18), ('impact', 124), ('index-arbitrage', 13), ('serves', 17), ('counter', 28), ('tapes', 10), ('begins', 34), ('pegged', 11), ('privacy', 8), ('brokerage', 127), ('assurance', 17), ('manages', 23), ('#', 158), ('times-stock', 8), ('100-share', 18), ('option', 75), ('ft-se', 8), ('tenfold', 6), ('compares', 30), ('wage', 92), ('compromise', 50), ('backed', 79), ('proponents', 15), ('hour', 70), ('opponents', 28), ('reflected', 53), ('republicans', 61), ('lifting', 6), ('four-year', 16), ('enacted', 17), ('pat', 7), ('williams', 22), ('acceptance', 23), ('sought', 72), ('adopting', 11), ('nickel', 8), ('lately', 18), ('touted', 5), ('democrats', 93), ('fought', 14), ('insistence', 8), ('employers', 38), ('restriction', 10), ('covers', 24), ('impossible', 37), ('elimination', 8), ('zenith', 7), ('navy', 48), ('rockwell', 15), ('replacement', 24), ('navigation', 61), ('intelligence', 62), ('hahn', 29), ('mode', 6), ('teddy', 17), ('unsolicited', 7), ('cold', 42), ('faced', 39), ('negotiated', 25), ('negotiating', 49), ('surrender', 12), ('tough', 74), ('completion', 21), ('opens', 11), ('implies', 11), ('dilemma', 9), ('observers', 38), ('pulp', 36), ('consensus', 33), ('insiders', 17), ('onto', 29), ('knew', 26), ('picked', 21), ('careful', 16), ('universities', 15), ('willingness', 11), ('arrest', 18), ('protesters', 17), ('impressed', 9), ('joining', 27), ('administrator', 14), ('transition', 18), ('swiftly', 12), ('raw', 25), ('son', 38), ('beta', 14), ('kentucky', 18), ('physics', 6), ('photographic', 8), ('engineered', 19), ('turnaround', 23), ('inherited', 8), ('repair', 31), ('remodeling', 8), ('new-home', 7), ('cycles', 12), ('formula', 20), ('reins', 6), ('attributes', 8), ('philosophy', 15), ('concentrating', 10), ('diversified', 23), ('impressive', 13), ('diversification', 11), ('match', 39), ('high-quality', 17), ('forest-products', 16), ('waters', 12), ('house-senate', 22), ('portions', 8), ('relies', 10), ('guarantees', 49), ('initiatives', 15), ('contrasts', 4), ('provoked', 6), ('veto', 103), ('confined', 6), ('shaping', 6), ('appropriations', 76), ('decisive', 5), ('pentagon', 70), ('planning', 77), ('portion', 60), ('warming', 16), ('african', 27), ('elephant', 3), ('draws', 8), ('variety', 32), ('amendments', 13), ('exemption', 10), ('intriguing', 6), ('struggle', 22), ('sugar', 50), ('fate', 15), ('quota', 9), ('stripped', 10), ('noriega', 108), ('regime', 32), ('tons', 101), ('growers', 14), ('pound', 101), ('whip', 6), ('gray', 24), ('pa', 33), ('caribbean', 13), ('jamaica', 7), ('conservative', 82), ('basin', 6), ('powerful', 63), ('hawaii', 15), ('inouye', 8), ('allies', 28), ('instructed', 6), ('lobbyist', 13), ('abandon', 13), ('drafted', 10), ('supplemental', 7), ('anti-drug', 7), ('airline', 141), ('flights', 36), ('leadership', 52), ('bounce', 8), ('departments', 27), ('beauty', 12), ('bridges', 23), ('repaired', 7), ('disagreement', 8), ('lose', 68), ('planner', 21), ('prefer', 26), ('install', 13), ('concrete', 30), ('ind', 10), ('bridge', 70), ('teaches', 8), ('structure', 57), ('charter', 23), ('oak', 8), ('peninsula', 5), ('upset', 19), ('similarly', 20), ('carrier', 76), ('competes', 7), ('beverage', 8), ('outlets', 26), ('resembles', 6), ('beer', 40), ('hang', 12), ('inventor', 5), ('marvin', 16), ('carriers', 40), ('acknowledges', 17), ('driver', 9), ('perestroika', 15), ('designers', 6), ('promises', 27), ('chairs', 11), ('citicorp', 49), ('sees', 37), ('learn', 25), ('seed', 24), ('solution', 24), ('root', 8), ('birds', 6), ('architects', 11), ('propose', 9), ('grain', 44), ('preserving', 9), ('solutions', 22), ('cell', 24), ('walls', 24), ('cells', 39), ('visits', 11), ('architect', 10), ('egypt', 5), ('houston', 51), ('vacant', 11), ('altered', 10), ('efficient', 33), ('usx', 69), ('fines', 16), ('penalty', 27), ('workplace', 7), ('employer', 19), ('mill', 24), ('penalties', 27), ('osha', 11), ('electrical', 24), ('covering', 33), ('coke', 30), ('dole', 18), ('hazards', 8), ('resulted', 36), ('severe', 36), ('deficiencies', 7), ('failures', 23), ('properly', 18), ('injuries', 23), ('spite', 8), ('discrepancies', 13), ('evaluation', 16), ('corrected', 8), ('promised', 35), ('proved', 27), ('unwilling', 8), ('manpower', 4), ('removing', 15), ('contest', 20), ('brands', 78), ('cincinnati', 26), ('error', 15), ('edition', 31), ('mistakenly', 7), ('natural', 108), ('implied', 6), ('homelessness', 9), ('numbers', 63), ('causes', 30), ('complex', 59), ('emphasized', 10), ('illness', 8), ('examined', 6), ('disorders', 10), ('psychiatric', 8), ('cardiovascular', 6), ('shelter', 7), ('consequence', 7), ('composed', 7), ('lacks', 12), ('adequate', 23), ('johns', 12), ('hopkins', 9), ('prof', 11), ('wright', 23), ('array', 17), ('poverty', 31), ('combination', 32), ('alcohol', 17), ('simultaneously', 11), ('housing', 109), ('welfare', 12), ('connected', 18), ('persons', 10), ('quote', 7), ('fear', 84), ('robbed', 6), ('unable', 42), ('fend', 18), ('yourself', 10), ('obviously', 25), ('cracks', 9), ('grim', 10), ('escape', 13), ('drugs', 75), ('dismiss', 7), ('sleeping', 6), ('bothered', 7), ('namely', 6), ('consequences', 24), ('cambridge', 13), ('sponsors', 13), ('chose', 15), ('builders', 13), ('allied', 13), ('crusade', 6), ('greed', 6), ('motive', 6), ('desire', 34), ('subscribe', 8), ('catholic', 8), ('charities', 26), ('usa', 21), ('nonprofit', 8), ('participated', 10), ('deprived', 7), ('families', 53), ('predict', 37), ('substitute', 12), ('chivas', 11), ('ruth', 12), ('rogers', 7), ('placement', 11), ('perpetual', 6), ('conversion', 21), ('cable', 83), ('coupon', 61), ('leveraged', 93), ('buy-outs', 30), ('supporters', 34), ('override', 13), ('ark', 6), ('diminished', 16), ('benefit', 82), ('amendment', 54), ('ore', 9), ('criteria', 12), ('occasionally', 17), ('dubbed', 16), ('lorenzo', 19), ('text', 15), ('broadcasting', 67), ('tune', 7), ('extensive', 24), ('reporter', 19), ('scholar', 7), ('ordinary', 21), ('democracy', 39), ('censorship', 7), ('propaganda', 7), ('neat', 6), ('tours', 7), ('facilities', 88), ('sorts', 11), ('enables', 6), ('hear', 36), ('mind', 59), ('absurd', 6), ('inform', 6), ('columns', 19), ('facts', 20), ('scholars', 9), ('reporters', 44), ('copying', 10), ('copy', 29), ('des', 33), ('happened', 45), ('usia', 12), ('mccormick', 6), ('memo', 12), ('intend', 17), ('preclude', 6), ('plaintiffs', 24), ('domestically', 5), ('mentioned', 22), ('notwithstanding', 8), ('statutory', 8), ('credentials', 10), ('appearing', 10), ('examine', 12), ('determine', 35), ('helpful', 9), ('disagreed', 7), ('brien', 9), ('duty', 24), ('assure', 6), ('scripts', 8), ('xerox', 16), ('public-relations', 9), ('sends', 9), ('stuff', 23), ('conclude', 13), ('shall', 31), ('thanks', 18), ('ought', 36), ('answered', 6), ('gartner', 5), ('tribune', 7), ('gordon', 11), ('mcgovern', 12), ('dorrance', 20), ('herbert', 11), ('baum', 9), ('edwin', 8), ('harper', 9), ('responsibilities', 20), ('successor', 34), ('searching', 10), ('reacted', 19), ('prudential-bache', 34), ('distant', 9), ('operation', 93), ('farm', 46), ('veteran', 25), ('dominated', 22), ('pushed', 43), ('profitability', 36), ('closing', 105), ('eliminating', 21), ('disappointing', 38), ('ceo', 6), ('succession', 8), ('retirement', 72), ('agenda', 18), ('repeatedly', 20), ('stay', 78), ('pension', 89), ('convince', 12), ('tremendous', 17), ('duo', 6), ('naming', 7), ('sitting', 23), ('guide', 32), ('overnight', 28), ('fulton', 12), ('prebon', 11), ('depository', 14), ('collateral', 22), ('motors', 78), ('high-grade', 18), ('unsecured', 38), ('multiples', 12), ('negotiable', 24), ('typical', 35), ('acceptances', 14), ('bank-backed', 11), ('eurodollars', 11), ('libor', 17), ('quotations', 24), ('switzerland', 46), ('indications', 21), ('lending', 59), ('location', 32), ('freddie', 35), ('mac', 37), ('mortgages', 67), ('one-year', 36), ('adjustable', 23), ('telerate', 47), ('annualized', 23), ('newhouse', 10), ('abrupt', 9), ('departures', 9), ('empire', 20), ('gut', 6), ('unhappy', 9), ('tenure', 14), ('enjoyed', 12), ('spectacular', 9), ('smoothly', 12), ('succeeded', 30), ('bennett', 16), ('susan', 10), ('anthony', 19), ('hutchinson', 9), ('powerhouse', 7), ('alfred', 16), ('yorker', 5), ('evans', 23), ('recruited', 6), ('mehta', 6), ('divisions', 30), ('full-time', 8), ('rumored', 21), ('tall', 10), ('respected', 9), ('prerogatives', 6), ('specified', 24), ('interpretation', 14), ('clause', 18), ('unconstitutional', 17), ('iran-contra', 16), ('understand', 43), ('broadly', 19), ('presidency', 18), ('separation', 10), ('supported', 41), ('constitutional', 41), ('convention', 15), ('ensure', 42), ('accountability', 7), ('independence', 22), ('perform', 16), ('confederation', 7), ('technically', 7), ('placing', 6), ('rewrite', 5), ('containing', 13), ('alternatively', 6), ('declaring', 12), ('violation', 23), ('appointments', 12), ('granting', 7), ('commissions', 42), ('nomination', 11), ('imposes', 7), ('choosing', 11), ('rider', 6), ('voluntary', 11), ('recommendation', 15), ('recommending', 9), ('discretion', 9), ('select', 18), ('regulations', 47), ('prevents', 8), ('agricultural', 20), ('wasted', 6), ('illustrates', 11), ('implement', 8), ('applicable', 7), ('execution', 20), ('presentation', 8), ('signature', 7), ('kinds', 21), ('purposes', 31), ('custom', 6), ('undo', 6), ('mikhail', 22), ('gorbachev', 92), ('ratified', 6), ('salt', 10), ('restricting', 4), ('riders', 12), ('trespass', 6), ('line-item', 40), ('context', 11), ('characterized', 8), ('conflict', 19), ('item', 15), ('downside', 7), ('asserts', 12), ('establish', 36), ('sue', 7), ('loses', 9), ('morrison', 9), ('valuable', 21), ('legislature', 23), ('extending', 12), ('analysis', 27), ('duke', 9), ('farmers', 88), ('pockets', 11), ('gross', 49), ('drought', 15), ('crop', 41), ('midwestern', 6), ('corn', 65), ('plains', 7), ('saved', 12), ('reclaim', 6), ('crops', 16), ('soaring', 17), ('nebraska', 9), ('attributed', 74), ('confirms', 7), ('depression', 13), ('helps', 29), ('reluctance', 13), ('curtailed', 6), ('surpluses', 7), ('wheat', 20), ('strengthened', 13), ('keith', 11), ('collins', 7), ('livestock', 7), ('cattle', 25), ('inventory', 23), ('minnesota', 16), ('disaster', 76), ('relief', 58), ('farms', 14), ('soybeans', 15), ('struggling', 23), ('examiner', 12), ('hearst', 15), ('unsuccessful', 19), ('exceeding', 15), ('second-largest', 26), ('dominates', 6), ('orange', 37), ('register', 13), ('pasadena', 8), ('beach', 39), ('attempted', 17), ('materialized', 8), ('stream', 11), ('prospective', 22), ('sun', 65), ('freeway', 28), ('inevitable', 9), ('limbo', 6), ('torn', 6), ('blue-collar', 5), ('upscale', 18), ('tabloid', 9), ('abandoned', 31), ('marginally', 10), ('castle', 7), ('spanish', 21), ('condition', 45), ('noble', 7), ('deterioration', 16), ('looks', 45), ('bitter', 17), ('recovered', 26), ('moments', 12), ('restored', 19), ('notable', 6), ('consistently', 23), ('disclosures', 9), ('bradley', 11), ('dealings', 28), ('coverage', 49), ('arts', 12), ('representatives', 54), ('recruiting', 12), ('emotional', 19), ('headline', 10), ('beers', 13), ('drunk', 6), ('andy', 4), ('preference', 16), ('closes', 8), ('forget', 15), ('handed', 14), ('olympia', 9), ('lenders', 40), ('buick', 19), ('beleaguered', 6), ('promotion', 35), ('boosting', 23), ('encouraging', 20), ('four-day', 8), ('begun', 40), ('explaining', 19), ('disclose', 49), ('approached', 23), ('doctor', 22), ('broaden', 6), ('gasoline', 38), ('gm', 129), ('gmac', 10), ('billing', 15), ('considers', 15), ('direct-mail', 7), ('marketers', 20), ('maximize', 11), ('capability', 8), ('incomes', 6), ('missed', 13), ('visa', 11), ('cards', 28), ('establishment', 18), ('responsible', 54), ('tickets', 18), ('meals', 7), ('las', 32), ('vegas', 28), ('nev', 8), ('buyer', 49), ('chooses', 7), ('fly', 34), ('companion', 8), ('prizes', 8), ('stereo', 8), ('recorder', 3), ('trans', 12), ('luxury', 49), ('interest-rate', 35), ('borough', 14), ('cancellation', 4), ('recovering', 11), ('accounted', 33), ('engage', 15), ('betting', 13), ('obligated', 6), ('swaps', 9), ('vested', 8), ('barclays', 8), ('midland', 13), ('citibank', 9), ('recover', 28), ('arrangements', 16), ('aftermath', 21), ('190-point', 16), ('kidder', 99), ('peabody', 38), ('stockbrokers', 8), ('shaken', 9), ('baskets', 21), ('reeling', 5), ('reap', 7), ('labeled', 10), ('evil', 10), ('guard', 31), ('consisting', 17), ('pools', 9), ('fast-growing', 10), ('defending', 9), ('tens', 8), ('successfully', 18), ('layer', 7), ('refuse', 17), ('practitioners', 7), ('broad-based', 6), ('neuberger', 6), ('palace', 6), ('wohlstetter', 9), ('contel', 15), ('consistent', 15), ('waited', 13), ('headed', 61), ('casino', 24), ('civil', 86), ('floors', 9), ('entrenched', 7), ('basket', 29), ('facilitate', 7), ('theme', 25), ('greedy', 5), ('gambling', 14), ('odds', 26), ('old-fashioned', 6), ('pickers', 9), ('unknown', 10), ('divergence', 5), ('occurs', 12), ('constitute', 12), ('whichever', 6), ('cheaper', 29), ('seconds', 13), ('seize', 17), ('movements', 17), ('frightened', 6), ('stoll', 14), ('ual', 259), ('unload', 6), ('takeover-stock', 8), ('arbitragers', 11), ('blue-chip', 33), ('halted', 19), ('apart', 27), ('manage', 30), ('pennies', 6), ('automated', 12), ('threatens', 9), ('virtue', 7), ('monopoly', 8), ('dislike', 7), ('printers', 7), ('spooked', 6), ('swings', 48), ('absolutely', 20), ('deck', 8), ('scaring', 6), ('raymond', 21), ('broker', 54), ('legg', 6), ('transformed', 6), ('complains', 13), ('andrew', 11), ('champion', 17), ('oh', 9), ('brothers', 109), ('publicity', 17), ('strategy', 144), ('psychology', 19), ('proven', 12), ('fastest-growing', 9), ('jeopardy', 5), ('unlikely', 40), ('anytime', 9), ('enjoy', 16), ('margin', 56), ('potentially', 26), ('speculative', 10), ('protects', 7), ('sellers', 31), ('destroy', 14), ('efficiency', 20), ('picks', 12), ('impetus', 6), ('practiced', 9), ('locations', 15), ('widget', 7), ('constantly', 16), ('owning', 20), ('cheapest', 6), ('fundamental', 29), ('vast', 23), ('contribute', 19), ('surrounding', 23), ('opportunities', 34), ('arise', 7), ('implemented', 10), ('harmful', 7), ('sufficient', 30), ('transfers', 14), ('fundamentally', 7), ('ownership', 71), ('hypothetical', 6), ('sacrifice', 7), ('liquidity', 54), ('cleaner', 10), ('cautious', 36), ('please', 10), ('ultimate', 21), ('sufficiently', 7), ('deviation', 9), ('advent', 7), ('boy', 10), ('wooing', 5), ('bringing', 37), ('damaging', 10), ('merits', 8), ('cater', 6), ('advise', 12), ('somehow', 14), ('expert', 27), ('guy', 37), ('spreads', 11), ('surely', 19), ('mutual-fund', 12), ('sad', 8), ('performers', 8), ('profitably', 4), ('temporary', 52), ('taxation', 16), ('etc', 10), ('loser', 6), ('inviting', 6), ('transfer', 37), ('antitrust', 49), ('agencies', 92), ('affect', 50), ('filings', 30), ('mergers', 30), ('brooks', 40), ('cuts', 81), ('ftc', 17), ('appropriated', 6), ('offsetting', 19), ('hart-scott-rodino', 7), ('notify', 7), ('completing', 11), ('don', 18), ('edwards', 20), ('staffs', 11), ('drastically', 7), ('dismal', 12), ('inhibit', 7), ('noticed', 13), ('ballot', 13), ('patrick', 12), ('maine', 18), ('cruise', 16), ('missiles', 12), ('oklahoma', 16), ('backing', 28), ('christie', 17), ('prints', 4), ('equivalents', 7), ('sotheby', 31), ('stability', 25), ('masters', 6), ('ray', 11), ('photography', 1), ('dialing', 6), ('joel', 10), ('caller', 4), ('celebrity', 5), ('lines', 135), ('break', 56), ('merchandising', 6), ('predicts', 18), ('recovery', 61), ('patients', 51), ('milwaukee', 6), ('blood', 37), ('appetite', 11), ('therapy', 11), ('ann', 9), ('coordinator', 6), ('trimming', 6), ('christmas', 41), ('string', 18), ('israel', 43), ('marine', 32), ('follow', 49), ('diaper', 9), ('comeback', 12), ('shrinking', 10), ('awareness', 6), ('inquiries', 15), ('shortages', 11), ('spurring', 6), ('fasteners', 6), ('briefs', 7), ('columbus', 10), ('marketed', 13), ('tool', 22), ('doubts', 16), ('quantity', 9), ('heading', 17), ('blames', 10), ('junk', 226), ('interior', 12), ('arnold', 14), ('creates', 17), ('inherent', 9), ('curbing', 7), ('schwab', 6), ('skepticism', 9), ('miller', 42), ('anderson', 17), ('fluctuations', 11), ('disappear', 8), ('dealing', 36), ('limiting', 13), ('strictly', 6), ('capitalism', 12), ('immune', 20), ('leery', 6), ('scott', 30), ('weather', 25), ('storm', 19), ('bargains', 7), ('sky', 10), ('spirits', 32), ('corporation', 42), ('laboratories', 24), ('current-carrying', 8), ('superconductor', 7), ('crystals', 6), ('superconductors', 13), ('moderately', 12), ('magnetic', 17), ('cooled', 8), ('wires', 10), ('ceramic', 7), ('technologies', 43), ('generation', 44), ('aspect', 15), ('overcome', 17), ('cautioned', 11), ('van', 31), ('dover', 7), ('samples', 11), ('crystal', 8), ('neutrons', 7), ('large-scale', 8), ('collective', 10), ('sigh', 5), ('demonstrates', 7), ('determining', 10), ('enable', 20), ('combine', 17), ('processes', 12), ('fidelity', 21), ('taylor', 24), ('kane', 7), ('write-downs', 12), ('after-tax', 38), ('offerings', 42), ('pricings', 12), ('non-u', 12), ('syndicate', 30), ('bellwether', 10), ('rated', 63), ('triple-a', 22), ('moody', 110), ('obligation', 42), ('tentatively', 30), ('serial', 15), ('insured', 46), ('ana', 10), ('redevelopment', 6), ('allocation', 13), ('single-a', 8), ('underwriter', 29), ('double-a', 12), ('rating', 75), ('eurobonds', 6), ('equity-purchase', 14), ('indicating', 29), ('sweden', 13), ('swiss', 73), ('francs', 108), ('yamaichi', 15), ('franc', 12), ('pencil', 12), ('dai-ichi', 6), ('kangyo', 6), ('guarantee', 50), ('fan', 9), ('proposition', 8), ('candlestick', 13), ('wonder', 33), ('sink', 6), ('digs', 6), ('afford', 30), ('stadiums', 8), ('ranging', 33), ('looked', 32), ('wealth', 18), ('phoenix', 29), ('backers', 10), ('concede', 13), ('claimed', 35), ('bowl', 9), ('moon', 22), ('money-losing', 6), ('faith', 9), ('egyptian', 6), ('justified', 12), ('schemes', 9), ('reed', 12), ('pence', 77), ('discontinued', 21), ('disposal', 11), ('downgrading', 5), ('cs', 16), ('downgrade', 9), ('maintain', 77), ('issuers', 14), ('warned', 42), ('borrowings', 13), ('drexel', 124), ('burnham', 53), ('lambert', 49), ('difficulty', 25), ('financings', 7), ('structured', 15), ('stretch', 21), ('disarray', 10), ('longer-term', 9), ('delays', 36), ('downgraded', 11), ('riskier', 11), ('collapse', 62), ('acquires', 9), ('expectation', 10), ('generated', 21), ('overcapacity', 8), ('reliance', 21), ('squeeze', 24), ('campeau', 60), ('proving', 13), ('arranged', 19), ('high-risk', 26), ('suisse', 16), ('participant', 7), ('rebounding', 3), ('goodwill', 7), ('disadvantage', 8), ('rivals', 35), ('toll', 22), ('settlements', 17), ('plea', 26), ('insider-trading', 6), ('scandal', 51), ('circulated', 7), ('confident', 31), ('uncertainties', 12), ('mercury', 21), ('experiencing', 12), ('midsized', 9), ('instrumental', 6), ('involvement', 23), ('cycle', 29), ('bureaucracy', 16), ('responsive', 9), ('demands', 34), ('stretched', 9), ('defendants', 55), ('innovation', 11), ('compelling', 6), ('synthetic', 11), ('generic', 8), ('labels', 10), ('daughters', 12), ('mothers', 8), ('thousand', 19), ('recall', 16), ('brand', 99), ('liable', 12), ('pills', 15), ('assessed', 6), ('proportion', 14), ('duck', 13), ('liability', 57), ('identical', 7), ('alike', 11), ('differently', 10), ('lilly', 31), ('pill', 28), ('apples', 16), ('doctrine', 7), ('reversed', 10), ('justices', 6), ('prescription', 9), ('hidden', 14), ('favors', 13), ('beneficial', 17), ('pain', 10), ('anyway', 21), ('predictably', 5), ('understands', 9), ('utterly', 7), ('billion-dollar', 6), ('trash', 9), ('partnership', 86), ('guilders', 18), ('lens', 8), ('surgery', 18), ('inserted', 6), ('refer', 9), ('ec', 45), ('ackerman', 10), ('el', 33), ('salvador', 6), ('habit', 7), ('incentives', 32), ('estimate', 123), ('truck', 56), ('wis', 8), ('start-up', 27), ('softer', 12), ('deere', 6), ('anticipation', 25), ('edged', 23), ('nikkei', 35), ('selected', 28), ('outnumbered', 10), ('rumors', 52), ('ample', 9), ('sidelines', 14), ('nomura', 29), ('participate', 26), ('tokyu', 18), ('profit-taking', 13), ('dominant', 20), ('directed', 12), ('defensive', 32), ('shell', 30), ('metal', 37), ('nippon', 15), ('winners', 17), ('bolstered', 13), ('affecting', 21), ('intraday', 11), ('reversal', 10), ('30-share', 11), ('indication', 27), ('shed', 14), ('waive', 10), ('golden', 57), ('waiver', 9), ('goldsmith', 11), ('highs', 19), ('market-makers', 10), ('shopping', 50), ('searched', 6), ('wellcome', 6), ('amsterdam', 13), ('frankfurt', 52), ('zurich', 16), ('paris', 59), ('brussels', 22), ('milan', 18), ('holiday', 33), ('wellington', 15), ('sydney', 14), ('manila', 16), ('calculated', 28), ('geneva', 20), ('equaling', 16), ('walker', 13), ('howard', 26), ('weil', 8), ('occidental', 11), ('shelf', 20), ('zero', 11), ('montgomery', 10), ('mitchell', 40), ('garrison', 10), ('blunt', 6), ('ellis', 8), ('tackle', 8), ('charging', 29), ('irvine', 9), ('-based', 7), ('acid', 8), ('matthews', 6), ('hearings', 42), ('inspection', 8), ('stayed', 14), ('barely', 27), ('revised', 64), ('present', 55), ('worsen', 7), ('day-to-day', 12), ('unemployment', 39), ('reasonably', 11), ('households', 15), ('conducted', 32), ('toledo', 11), ('respondents', 22), ('fixed-income', 13), ('investment-grade', 23), ('rare', 27), ('ranked', 7), ('hanover', 36), ('diverse', 8), ('importance', 24), ('tomorrow', 64), ('nine-month', 20), ('three-month', 36), ('debenture', 11), ('topped', 15), ('wanting', 6), ('ginnie', 14), ('12-year', 10), ('derivative', 16), ('drew', 29), ('clothing', 19), ('expense', 38), ('exceeds', 12), ('hurricane', 93), ('hugo', 101), ('earthquake', 248), ('fourth-quarter', 49), ('property\\\\/casualty', 6), ('michelin', 6), ('monopolies', 8), ('tires', 11), ('clean-air', 6), ('unveil', 12), ('centerpiece', 6), ('rain', 17), ('lobbyists', 11), ('weaker', 33), ('emissions', 17), ('chaos', 9), ('cap', 23), ('hailed', 9), ('innovative', 10), ('cost-sharing', 4), ('subsidize', 7), ('sticking', 7), ('avoiding', 10), ('cleanup', 21), ('fuels', 11), ('quietly', 15), ('devise', 8), ('russell', 12), ('resign', 10), ('shaw', 10), ('coordinate', 11), ('deliberately', 11), ('routes', 19), ('falls', 28), ('processing', 41), ('zip', 6), ('handles', 10), ('instrument', 17), ('opposite', 18), ('indexing', 16), ('mix', 23), ('barometer', 9), ('simultaneous', 6), ('newest', 7), ('breed', 9), ('rocket', 6), ('backgrounds', 5), ('hedging', 10), ('fleeting', 5), ('indexes', 15), ('expression', 8), ('financier', 25), ('saul', 8), ('steinberg', 17), ('labor-management', 27), ('clearance', 17), ('definitely', 11), ('wolf', 24), ('airways', 32), ('300-a-share', 14), ('formally', 21), ('twist', 8), ('coniston', 17), ('notified', 13), ('skeptical', 18), ('tiger', 24), ('acquirer', 7), ('accord', 57), ('pilots', 104), ('machinists', 46), ('primerica', 6), ('cleared', 27), ('financial-services', 18), ('liabilities', 20), ('intelogic', 14), ('edelman', 17), ('oust', 12), ('datapoint', 11), ('explore', 11), ('specify', 16), ('est', 22), ('tendered', 17), ('barron', 6), ('first-half', 12), ('trail', 14), ('adjustment', 22), ('bomber', 6), ('emerged', 18), ('graphics', 42), ('singled', 8), ('sagged', 6), ('shuttle', 17), ('engines', 19), ('hits', 23), ('fixed-price', 7), ('austin', 14), ('intel', 44), ('microprocessor', 11), ('microprocessors', 5), ('grower', 9), ('exporter', 11), ('ship', 40), ('rumor', 11), ('brazilian', 14), ('restraints', 5), ('permissible', 5), ('stevenson', 6), ('regardless', 17), ('third-largest', 8), ('shift', 58), ('drastic', 4), ('granted', 18), ('licenses', 21), ('trees', 15), ('cane', 8), ('am', 62), ('curtail', 10), ('confirm', 22), ('atmosphere', 17), ('fleet', 30), ('importer', 7), ('grains', 9), ('buys', 19), ('verge', 6), ('generous', 11), ('copper', 70), ('ignored', 18), ('mine', 45), ('mines', 23), ('reuter', 6), ('emergency', 91), ('bougainville', 6), ('native', 14), ('younkers', 6), ('equitable', 9), ('cos', 24), ('fred', 11), ('tony', 19), ('lama', 5), ('liquidation', 13), ('paso', 8), ('leather', 10), ('reuters', 11), ('reupke', 6), ('unspecified', 14), ('termed', 9), ('amicable', 6), ('stemmed', 17), ('irrelevant', 6), ('nigel', 20), ('dd', 8), ('unicorp', 4), ('cara', 4), ('donuts', 7), ('diluted', 22), ('poison', 30), ('delaware', 23), ('dunkin', 7), ('deter', 7), ('magnified', 5), ('nonrecurring', 8), ('adjustments', 24), ('softening', 9), ('natural-gas', 6), ('write', 40), ('exploration', 46), ('amortization', 5), ('brunt', 6), ('decliners', 12), ('subdued', 5), ('somewhat', 33), ('arrive', 11), ('firmed', 10), ('faltered', 6), ('philip', 60), ('reluctant', 30), ('stick', 22), ('revival', 12), ('woolworth', 8), ('avon', 6), ('paramount', 26), ('upjohn', 16), ('amr', 29), ('developer', 30), ('trump', 21), ('withdrew', 15), ('mead', 7), ('texaco', 26), ('ex-dividend', 6), ('fe', 49), ('warehouse', 4), ('freeport-mcmoran', 7), ('convert', 32), ('adverse', 17), ('otherwise', 39), ('entity', 13), ('liquidated', 10), ('distributed', 31), ('nissan', 83), ('backdrop', 6), ('experienced', 29), ('remarkable', 15), ('difficulties', 29), ('firmly', 12), ('accident', 24), ('unexpected', 15), ('full-year', 17), ('harry', 19), ('mcdonald', 29), ('unanticipated', 7), ('government-owned', 9), ('assembly', 37), ('distributes', 9), ('produces', 24), ('literature', 9), ('displays', 18), ('meridian', 13), ('multinational', 8), ('derived', 7), ('carnival', 28), ('finland', 18), ('miami-based', 8), ('waertsilae', 29), ('finnish', 16), ('shipyard', 19), ('shipbuilding', 10), ('fantasy', 8), ('slated', 14), ('delivered', 30), ('write-off', 9), ('capitalized', 8), ('adopt', 19), ('severance', 8), ('staying', 9), ('toy', 17), ('peaked', 10), ('unveiled', 23), ('plagued', 9), ('fortunes', 10), ('bounced', 6), ('patch', 6), ('winner', 13), ('bankruptcy-law', 26), ('ortega', 34), ('contras', 27), ('nicaraguan', 19), ('rebels', 24), ('cease-fire', 9), ('thwart', 6), ('balloting', 5), ('brushed', 5), ('renewing', 11), ('contra', 19), ('honduras', 6), ('sandinista', 12), ('troops', 21), ('offensive', 13), ('rebel', 8), ('krenz', 59), ('freedoms', 8), ('socialism', 14), ('communist', 57), ('fled', 13), ('berlin', 33), ('cross-border', 7), ('massive', 38), ('exodus', 12), ('discussion', 17), ('conferees', 11), ('africa', 51), ('armed', 13), ('guerrillas', 9), ('neighboring', 10), ('violating', 11), ('peace', 31), ('territory', 14), ('pretoria', 7), ('alert', 13), ('guerrilla', 8), ('sabotage', 7), ('namibia', 5), ('lebanon', 24), ('salinas', 11), ('pledged', 12), ('modernization', 6), ('pakistan', 9), ('defeated', 12), ('votes', 46), ('trafficking', 6), ('coffee', 45), ('pan', 15), ('cia', 28), ('fbi', 26), ('bomb', 6), ('planted', 6), ('aboard', 8), ('exploded', 9), ('scotland', 7), ('studio', 41), ('jon', 13), ('peters', 87), ('guber', 89), ('laying', 10), ('cost-cutting', 13), ('comparison', 25), ('disasters', 24), ('unconsolidated', 10), ('per-share', 53), ('brisk', 12), ('climb', 18), ('outlays', 15), ('shrank', 6), ('apparent', 32), ('drops', 13), ('crises', 10), ('minimum-wage', 6), ('resigning', 10), ('depends', 23), ('pall', 6), ('spiegel', 22), ('bears', 17), ('shaky', 10), ('flies', 6), ('planes', 28), ('reaching', 20), ('cushion', 9), ('carl', 27), ('jacobs', 7), ('latter', 17), ('distinct', 7), ('reserved', 9), ('till', 4), ('issuer', 8), ('longtime', 23), ('battered', 12), ('gillett', 15), ('restructurings', 5), ('balloon', 18), ('mellon', 11), ('spun', 9), ('capitalize', 7), ('bread-and-butter', 6), ('jonathan', 12), ('sanford', 17), ('nyse', 40), ('genetics', 12), ('bone', 6), ('protein', 11), ('dna', 9), ('treating', 11), ('induce', 11), ('formation', 12), ('proteins', 15), ('defects', 13), ('cancers', 10), ('qualified', 9), ('liberal', 28), ('narrowed', 18), ('discrimination', 20), ('jurisdiction', 9), ('judgment', 20), ('runkel', 12), ('bench', 19), ('vacancy', 11), ('ferdinand', 6), ('specialized', 22), ('pipes', 7), ('shedding', 7), ('backlog', 18), ('rulings', 6), ('investigate', 11), ('assess', 13), ('apparel', 25), ('agreements', 47), ('wilmington', 6), ('questioned', 14), ('wertheim', 8), ('schroder', 7), ('trim', 15), ('bidder', 15), ('unwanted', 7), ('suitors', 8), ('trimmed', 15), ('feeding', 8), ('holt', 5), ('wedtech', 20), ('reassuring', 5), ('co-author', 7), ('integrity', 13), ('trip', 31), ('bronx', 10), ('fingers', 7), ('bribe', 11), ('harrison', 7), ('path', 22), ('traveled', 6), ('inception', 6), ('vital', 10), ('army', 45), ('born', 21), ('puerto', 23), ('rico', 41), ('races', 11), ('famous', 27), ('carter', 15), ('rebuilding', 8), ('80s', 8), ('mario', 8), ('sentence', 19), ('bribery', 9), ('peddling', 8), ('politically', 16), ('respectable', 6), ('corrupt', 10), ('scheme', 23), ('bag', 9), ('scams', 11), ('auditors', 7), ('mercedes', 8), ('clothes', 14), ('irving', 13), ('arrested', 16), ('rigid', 14), ('thieves', 10), ('scandals', 13), ('hud', 48), ('insider', 24), ('whenever', 12), ('bloc', 35), ('stern', 8), ('urban', 52), ('bankrupt', 7), ('oy', 8), ('andersson', 15), ('lease', 22), ('swift', 8), ('dashed', 5), ('repay', 18), ('norfolk', 15), ('ralston', 7), ('battery', 15), ('carbon', 13), ('cereal', 11), ('bread', 8), ('five-cent', 10), ('percent', 16), ('300-day', 10), ('binge', 6), ('pipeline', 40), ('exporters', 11), ('trains', 10), ('ports', 7), ('strain', 15), ('mississippi', 20), ('upper', 18), ('corps', 11), ('missouri', 23), ('feeds', 6), ('sank', 15), ('alleviate', 6), ('slowed', 24), ('bushel', 13), ('harvest', 17), ('rebuild', 12), ('gather', 7), ('storage', 37), ('permits', 12), ('port', 14), ('coast', 55), ('relieve', 9), ('delayed', 32), ('refinery', 28), ('tightening', 6), ('sell-off', 32), ('silver', 49), ('platinum', 15), ('influenced', 14), ('elders', 7), ('equities', 21), ('warehouses', 5), ('miners', 6), ('procedural', 12), ('upbeat', 5), ('mood', 19), ('ncr', 2), ('hub', 7), ('riding', 11), ('industrywide', 14), ('chunks', 5), ('marcus', 6), ('steelmakers', 15), ('kobe', 6), ('earning', 16), ('bethlehem', 25), ('inland', 7), ('plummeted', 23), ('exceeded', 25), ('projections', 29), ('bradford', 6), ('richer', 7), ('pipe', 9), ('galvanized', 11), ('coated', 5), ('marathon', 10), ('soliciting', 8), ('icahn', 33), ('barrett', 4), ('leon', 6), ('container', 12), ('professors', 5), ('laurence', 7), ('tribe', 7), ('procedure', 15), ('scuttle', 10), ('kennedy', 28), ('spectrum', 7), ('partial', 24), ('shared', 18), ('supports', 15), ('reckless', 12), ('trinity', 10), ('theatre', 6), ('leisure', 7), ('kim', 7), ('undermine', 9), ('contend', 26), ('exercises', 6), ('prompt', 11), ('ideal', 13), ('streamline', 9), ('shots', 6), ('brian', 12), ('counsel', 35), ('lengthy', 11), ('realities', 6), ('object', 7), ('tougher', 17), ('proxy', 11), ('statements', 35), ('files', 10), ('oversees', 14), ('annuity', 6), ('relax', 8), ('ireland', 10), ('excluded', 6), ('weapons', 31), ('asset-backed', 34), ('choices', 16), ('biotechnology', 29), ('instrumentation', 6), ('tyler', 6), ('printing', 25), ('solo', 9), ('creative', 30), ('stoltzman', 10), ('audiences', 13), ('piano', 5), ('ranges', 15), ('jazz', 8), ('exceptions', 10), ('embraced', 11), ('listening', 11), ('appearance', 14), ('musical', 10), ('concert', 5), ('birthday', 6), ('animals', 20), ('glossy', 6), ('buddy', 8), ('eddie', 9), ('two-part', 9), ('singer', 17), ('glamorous', 8), ('sang', 7), ('deep', 30), ('amazing', 11), ('warm', 15), ('reich', 6), ('performer', 5), ('lasts', 6), ('illustrated', 8), ('elegant', 7), ('parker', 16), ('accomplished', 5), ('threatening', 17), ('elements', 10), ('accompanied', 14), ('illustrate', 8), ('passes', 6), ('unesco', 8), ('culture', 40), ('desperate', 10), ('lobbying', 18), ('foreseeable', 6), ('uncovered', 11), ('kgb', 8), ('extreme', 12), ('ridiculous', 9), ('obliged', 6), ('founding', 9), ('peoples', 8), ('conferences', 6), ('principles', 11), ('glasnost', 17), ('eduard', 6), ('shevardnadze', 17), ('undermined', 7), ('doomed', 6), ('manipulation', 9), ('executions', 7), ('hard-line', 6), ('directs', 9), ('human-rights', 7), ('restrictive', 9), ('minds', 12), ('governments', 40), ('genetic', 40), ('belgium', 12), ('hybrid', 17), ('isolated', 11), ('gene', 63), ('thereby', 10), ('robinson', 12), ('delta', 32), ('distance', 15), ('seeds', 15), ('1930s', 9), ('naturally', 16), ('inch', 6), ('goldberg', 16), ('greenhouse', 11), ('susceptible', 6), ('monsanto', 7), ('eli', 17), ('supposed', 38), ('reproductive', 7), ('sciences', 28), ('virus', 15), ('genetically', 7), ('automatically', 15), ('wind', 15), ('breeding', 9), ('erupted', 6), ('clash', 8), ('circles', 10), ('clout', 11), ('unprecedented', 19), ('roles', 7), ('embarrassed', 6), ('postpone', 11), ('aside', 36), ('injured', 22), ('aligned', 6), ('suggestions', 18), ('bail', 5), ('irresponsible', 10), ('confrontation', 15), ('anxiety', 16), ('opposing', 12), ('credit-card', 25), ('face-to-face', 6), ('itel', 6), ('surprises', 7), ('plastics', 30), ('robots', 6), ('investment-banking', 7), ('nikko', 11), ('oakland', 51), ('thief', 6), ('blair', 9), ('luis', 7), ('indian', 31), ('pro', 22), ('tennis', 6), ('golf', 20), ('quit', 17), ('legendary', 8), ('league', 41), ('commissioner', 22), ('heroes', 5), ('developers', 35), ('shoes', 13), ('palm', 8), ('midmorning', 5), ('uniform', 10), ('fun', 12), ('dave', 11), ('dream', 19), ('kid', 9), ('alex', 20), ('salesman', 15), ('workout', 6), ('tourists', 20), ('seasons', 11), ('pete', 5), ('midday', 7), ('heat', 43), ('camp', 10), ('senators', 49), ('nagging', 4), ('lean', 11), ('pitching', 5), ('proves', 7), ('walked', 8), ('chevy', 8), ('pickup', 11), ('feat', 5), ('roy', 24), ('sport', 16), ('resident', 6), ('lawrence', 39), ('prepares', 9), ('habits', 8), ('45-year-old', 5), ('anymore', 16), ('stolen', 20), ('throwing', 14), ('mph', 6), ('throw', 18), ('love', 26), ('cellular', 38), ('franchise', 36), ('pse', 8), ('diesel', 6), ('exchanged', 8), ('bay', 142), ('inflation-adjusted', 13), ('recreational', 7), ('undervalued', 8), ('loan-loss', 21), ('obstacle', 11), ('ridley', 9), ('commons', 8), ('luxury-car', 9), ('unwelcome', 9), ('lobbied', 5), ('eventual', 10), ('reitman', 7), ('barber', 7), ('capel', 13), ('pays', 25), ('lawson', 75), ('silly', 9), ('defenses', 7), ('weakened', 16), ('intensive', 9), ('invitation', 7), ('cooperative', 13), ('secure', 21), ('shocked', 9), ('thatcher', 67), ('privatized', 6), ('allowing', 36), ('hinted', 10), ('combining', 11), ('projected', 24), ('dataproducts', 16), ('dpc', 18), ('mandatory', 15), ('background', 13), ('jerome', 6), ('soften', 6), ('retreating', 6), ('rebounded', 18), ('topic', 17), ('realty', 18), ('shifted', 6), ('losers', 17), ('dealer', 35), ('dragged', 8), ('neck', 11), ('narrower', 7), ('abolish', 6), ('dates', 9), ('alter', 17), ('parliamentary', 11), ('chancellor', 41), ('exchequer', 21), ('selective', 6), ('dax', 8), ('additionally', 6), ('beef', 13), ('pork', 10), ('performances', 10), ('metromedia', 9), ('renamed', 6), ('itt', 18), ('provider', 14), ('long-distance', 15), ('korean', 28), ('projecting', 7), ('postal', 14), ('capable', 14), ('cd', 47), ('banxquote', 14), ('mehl', 7), ('lag', 11), ('jumbo', 7), ('denominations', 12), ('respectively', 23), ('broker-dealer', 8), ('specifically', 23), ('flagship', 13), ('bankamerica', 23), ('ride', 29), ('last-minute', 7), ('journalism', 10), ('athletics', 13), ('suggestion', 12), ('ballooning', 9), ('aviation', 21), ('swelled', 8), ('enthusiasts', 6), ('resemble', 6), ('entry', 20), ('adjacent', 5), ('mountain', 40), ('attraction', 6), ('hate', 11), ('pilot', 37), ('noon', 10), ('lots', 22), ('deciding', 19), ('passengers', 17), ('steer', 6), ('propane', 3), ('seldom', 6), ('bet', 27), ('leaping', 5), ('tanks', 19), ('wearing', 16), ('blast', 8), ('pleasure', 6), ('farmer', 27), ('precision', 7), ('nursing', 10), ('figured', 13), ('minimize', 7), ('intervened', 6), ('foreign-exchange', 28), ('recognized', 20), ('restrain', 7), ('manuel', 12), ('fundamentals', 17), ('testimony', 23), ('insisting', 13), ('acknowledged', 28), ('vienna', 9), ('destruction', 14), ('treaty', 28), ('europeans', 13), ('soil', 12), ('nato', 17), ('retains', 13), ('arms-control', 9), ('ally', 18), ('parity', 10), ('bargaining', 10), ('timetable', 10), ('seemingly', 14), ('tank', 11), ('negotiation', 8), ('blocking', 16), ('suspected', 8), ('sloppy', 5), ('theirs', 10), ('danger', 20), ('miss', 30), ('somewhere', 20), ('unraveled', 5), ('jets', 6), ('norway', 7), ('jobless', 7), ('soft-drink', 10), ('fraser', 6), ('bottling', 7), ('franchisee', 10), ('eagerness', 7), ('disposable', 9), ('aging', 10), ('heaviest', 6), ('soda', 6), ('boards', 25), ('sharing', 7), ('giovanni', 10), ('agnelli', 15), ('strengthen', 18), ('fiat', 25), ('admit', 9), ('prince', 16), ('aga', 6), ('khan', 6), ('private-sector', 17), ('maria', 7), ('sister', 15), ('ifi', 6), ('lire', 25), ('sailing', 6), ('collaboration', 7), ('weekend', 54), ('readers', 27), ('dangerous', 23), ('mci', 33), ('vetoed', 8), ('newcomers', 7), ('ranking', 10), ('afterward', 10), ('murphy', 13), ('lighting', 10), ('single-a-3', 10), ('single-a-2', 11), ('collateralized', 6), ('generating', 8), ('armstrong', 17), ('carpet', 10), ('upgraded', 6), ('first-quarter', 8), ('slight', 25), ('lend', 20), ('clue', 6), ('horizon', 8), ('witter', 23), ('reynolds', 18), ('sample', 7), ('component', 10), ('components', 21), ('vendor', 8), ('deliveries', 7), ('poll', 32), ('sometime', 14), ('submitted', 25), ('clifford', 5), ('unnecessary', 13), ('berkeley', 21), ('jeans', 6), ('rejection', 20), ('marriage', 9), ('egg', 35), ('tale', 12), ('spy', 15), ('stealing', 9), ('hess', 11), ('secrets', 8), ('eggs', 32), ('unix', 8), ('routinely', 14), ('laboratory', 22), ('user', 21), ('hunter', 10), ('valid', 13), ('hacker', 7), ('legitimate', 17), ('alarm', 7), ('portable', 12), ('nights', 12), ('desk', 16), ('boss', 14), ('chores', 8), ('accessible', 5), ('missile', 15), ('drag', 13), ('terminal', 10), ('tape', 34), ('linking', 12), ('hunt', 38), ('invited', 16), ('theft', 14), ('humor', 8), ('mips', 28), ('microsystems', 14), ('digital', 104), ('sunnyvale', 12), ('instructions', 14), ('risc', 8), ('wedge', 6), ('hewlett-packard', 46), ('motorola', 20), ('speeds', 6), ('essential', 23), ('tandem', 10), ('siemens', 6), ('minn', 7), ('brewing', 38), ('bailout', 34), ('counted', 16), ('rtc', 16), ('deficit-reduction', 21), ('gramm-rudman', 18), ('sick', 16), ('allows', 24), ('insolvent', 13), ('s&ls', 5), ('meantime', 18), ('mullins', 6), ('dump', 14), ('okla', 5), ('cubic', 16), ('transmission', 8), ('pipelines', 7), ('cup', 16), ('notebook', 8), ('shere', 6), ('leads', 27), ('driven', 21), ('tips', 7), ('alice', 5), ('cooking', 6), ('ice', 20), ('fool', 6), ('repeated', 22), ('constant', 15), ('moral', 18), ('regularly', 12), ('butter', 5), ('overwhelming', 12), ('newport', 30), ('incumbent', 6), ('milton', 24), ('hollander', 12), ('weekes', 8), ('ousted', 13), ('titles', 8), ('2-for-1', 9), ('lumber', 6), ('healthcare', 20), ('standstill', 9), ('healthvest', 22), ('health-care', 43), ('overdue', 8), ('rent', 21), ('owes', 12), ('rehabilitation', 7), ('20th', 8), ('myself', 11), ('redemptions', 6), ('painfully', 6), ('kicki', 13), ('cambria', 11), ('marched', 5), ('flowing', 8), ('king', 43), ('foothills', 13), ('behaved', 4), ('arrogant', 6), ('communities', 20), ('indicted', 17), ('secretaries', 6), ('imperial', 26), ('lawn', 11), ('fix', 8), ('bizarre', 5), ('chambers', 9), ('occasions', 10), ('underwear', 8), ('testified', 10), ('courthouse', 7), ('investigators', 20), ('abused', 6), ('pervasive', 8), ('maurice', 6), ('challenges', 19), ('loath', 6), ('thornburgh', 8), ('married', 17), ('daughter', 13), ('clerk', 9), ('grasp', 6), ('columnist', 15), ('spoken', 9), ('misconduct', 6), ('verdict', 10), ('unexpectedly', 14), ('residents', 57), ('dance', 11), ('lid', 6), ('tightly', 5), ('chair', 6), ('hats', 10), ('jailed', 8), ('seniority', 8), ('fiercely', 10), ('proud', 7), ('dealership', 9), ('unrelated', 15), ('laurel', 8), ('intervene', 6), ('adversary', 6), ('inclined', 12), ('reconsider', 7), ('unfortunate', 9), ('onerous', 7), ('defend', 32), ('brick', 11), ('pre-trial', 7), ('intact', 12), ('innocent', 10), ('comic', 13), ('sand', 23), ('await', 5), ('charitable', 10), ('whatever', 34), ('newsprint', 13), ('excellent', 14), ('beatrice', 16), ('scaled', 9), ('reset', 24), ('float', 9), ('wastewater', 10), ('uninsured', 6), ('remic', 29), ('20-year', 9), ('weighted', 9), ('penney', 14), ('railway', 8), ('monte', 7), ('di', 9), ('deutsche', 17), ('owe', 8), ('minpeco', 17), ('minerals', 14), ('abramson', 9), ('demanded', 12), ('gamble', 28), ('packaged', 10), ('courses', 10), ('drum', 6), ('dipped', 8), ('prepaid', 7), ('reinvest', 5), ('homeowners', 14), ('posed', 6), ('takeovers', 26), ('rage', 7), ('colors', 6), ('adoption', 10), ('reduces', 16), ('evaluate', 13), ('viable', 13), ('chances', 16), ('forever', 9), ('pennzoil', 11), ('prudent', 9), ('intergroup', 9), ('wisconsin', 20), ('informal', 14), ('enfield', 11), ('ontario', 9), ('libel', 8), ('hees', 8), ('financiers', 7), ('bronfman', 8), ('alley', 8), ('backlash', 4), ('reactions', 14), ('avoided', 15), ('heels', 10), ('mid-1980s', 8), ('arco', 10), ('partnerships', 24), ('landmark', 7), ('cooperate', 11), ('interfere', 10), ('rely', 20), ('western-style', 5), ('dubious', 9), ('literally', 12), ('tenants', 8), ('robust', 21), ('lagged', 11), ('finances', 13), ('enemies', 9), ('hollywood', 49), ('bros', 8), ('signaled', 16), ('injunction', 21), ('guber-peters', 15), ('accusations', 11), ('mgm', 27), ('sworn', 6), ('affidavits', 9), ('walter', 38), ('yetnikoff', 6), ('affidavit', 14), ('co-chief', 7), ('enjoys', 7), ('relationships', 21), ('alongside', 6), ('fray', 6), ('fulfill', 9), ('exclude', 13), ('lie', 14), ('studios', 10), ('batman', 10), ('blockbuster', 9), ('conspiracy', 22), ('evasion', 7), ('conspired', 6), ('spare', 10), ('plead', 11), ('leonard', 9), ('frequent', 14), ('grab', 9), ('seagram', 19), ('upgrade', 8), ('repeat', 12), ('mounting', 14), ('liquor', 18), ('risky', 23), ('penn', 9), ('greene', 7), ('scottish', 9), ('scope', 9), ('leg', 8), ('12-month', 9), ('hispanic', 13), ('cholesterol', 13), ('hispanics', 7), ('grocery', 13), ('jewelry', 18), ('cosmetics', 34), ('fake', 8), ('fashionable', 9), ('karen', 7), ('launching', 15), ('hiring', 22), ('sporting', 4), ('borrow', 20), ('animal', 19), ('focuses', 6), ('procter', 19), ('tide', 7), ('convenience', 15), ('oat', 6), ('bran', 7), ('northwest', 15), ('jetliner', 6), ('nwa', 9), ('mcdonnell', 10), ('pursuing', 18), ('airport', 25), ('cook', 7), ('improperly', 9), ('detected', 9), ('survived', 12), ('brother', 19), ('alabama', 5), ('unification', 8), ('mystery', 11), ('multimillion-dollar', 6), ('messiah', 7), ('unified', 8), ('spreading', 10), ('enterprises', 42), ('tax-exempt', 17), ('economically', 8), ('infrastructure', 12), ('spokesmen', 10), ('yankee', 6), ('income-tax', 9), ('enthusiastic', 7), ('misleading', 16), ('flowers', 7), ('peanuts', 7), ('marble', 5), ('sociologist', 6), ('likewise', 11), ('burgess', 9), ('transferred', 22), ('fishing', 13), ('vessels', 11), ('budgets', 22), ('exotic', 8), ('dual', 7), ('investigator', 7), ('hosts', 8), ('retreat', 11), ('respectability', 6), ('intellectuals', 6), ('salvage', 6), ('goals', 33), ('strange', 15), ('scare', 7), ('manville', 62), ('forest', 31), ('recapitalization', 31), ('pravda', 6), ('bloated', 6), ('republics', 6), ('border', 16), ('slashed', 17), ('continent', 6), ('tourist', 20), ('flying', 28), ('agent', 42), ('flight', 49), ('transport', 26), ('israeli', 17), ('protocol', 6), ('venezuela', 8), ('participating', 18), ('song', 19), ('identity', 11), ('marcos', 28), ('privileges', 6), ('spouses', 7), ('keenan', 9), ('racketeering', 22), ('crimes', 23), ('threw', 12), ('objections', 11), ('chicago-based', 16), ('morris', 50), ('advising', 16), ('bruce', 14), ('tap', 10), ('intentionally', 5), ('wars', 23), ('legislator', 11), ('proposes', 11), ('senator', 30), ('embarrassment', 12), ('wore', 8), ('abolished', 6), ('freight', 27), ('schedules', 12), ('dress', 13), ('staffers', 20), ('sung', 8), ('sedan', 10), ('postwar', 7), ('discover', 11), ('kume', 8), ('toyota', 30), ('honda', 21), ('dropping', 22), ('tasks', 15), ('boring', 9), ('hoping', 26), ('dealerships', 7), ('trendy', 5), ('trips', 10), ('productive', 6), ('liked', 5), ('lobby', 10), ('exhibit', 7), ('shifts', 6), ('resisted', 12), ('neglected', 6), ('revamped', 10), ('grabbed', 8), ('recoup', 5), ('optimistic', 26), ('designs', 17), ('batch', 7), ('successes', 7), ('compact', 8), ('trails', 9), ('stanza', 5), ('engine', 33), ('rebates', 9), ('civic', 6), ('infiniti', 11), ('lexus', 11), ('rocks', 7), ('hurry', 8), ('gap', 37), ('headaches', 4), ('tennessee', 25), ('organizing', 10), ('overseeing', 8), ('momentum', 19), ('mca', 50), ('azoff', 16), ('summit', 18), ('naval', 13), ('vessel', 5), ('disrupt', 7), ('announcing', 20), ('diversion', 5), ('ethnic', 9), ('unrest', 9), ('reacting', 9), ('communism', 6), ('damp', 12), ('critic', 11), ('arranging', 7), ('advisers', 48), ('appearances', 6), ('-soviet', 7), ('terrorism', 24), ('tariffs', 15), ('grow', 66), ('kremlin', 6), ('comparisons', 10), ('gathering', 17), ('readily', 11), ('transform', 11), ('loosen', 7), ('grip', 13), ('suggesting', 17), ('marking', 11), ('bnl', 10), ('fiduciary', 7), ('suitable', 6), ('rome', 9), ('outlined', 6), ('dragging', 6), ('anti-nuclear', 5), ('activists', 27), ('gandhi', 26), ('non-violent', 13), ('disobedience', 14), ('passive', 11), ('webster', 29), ('indians', 9), ('affected', 59), ('truly', 19), ('excuse', 13), ('parks', 11), ('bus', 17), ('illustration', 10), ('tendency', 9), ('violent', 7), ('gestures', 7), ('posture', 6), ('apt', 7), ('site', 37), ('criminals', 12), ('excitement', 8), ('demonstration', 9), ('speeding', 6), ('dies', 6), ('airing', 11), ('politician', 9), ('cameras', 6), ('phil', 8), ('indirectly', 10), ('vietnam', 25), ('hide', 11), ('fabric', 10), ('enemy', 7), ('cambodia', 11), ('morally', 6), ('draft', 9), ('dignity', 4), ('extraordinarily', 6), ('informed', 20), ('probable', 8), ('calm', 6), ('rational', 10), ('deukmejian', 9), ('repairs', 15), ('quake', 102), ('bipartisan', 11), ('consumer-products', 6), ('discounting', 22), ('audits', 9), ('pigs', 7), ('update', 5), ('selection', 12), ('specially', 7), ('deductions', 14), ('dependents', 6), ('satisfied', 9), ('overhaul', 25), ('enactment', 9), ('modified', 6), ('backs', 12), ('negligence', 6), ('urges', 8), ('assessment', 23), ('oregon', 17), ('advises', 10), ('mile', 8), ('ira', 15), ('violates', 7), ('delegation', 15), ('rode', 5), ('horses', 9), ('conservation', 7), ('sideline', 6), ('horse', 20), ('inspector', 8), ('arbitrator', 8), ('arbitration', 7), ('burton', 8), ('collect', 14), ('acceptable', 14), ('unwarranted', 7), ('delicate', 7), ('supervisors', 10), ('ironically', 10), ('achenbaum', 19), ('beating', 9), ('worldwide', 8), ('hesitate', 6), ('saatchi', 46), ('hyundai', 8), ('searches', 6), ('invites', 6), ('strokes', 6), ('retire', 27), ('outfit', 6), ('thompson', 36), ('best-known', 6), ('frustrated', 10), ('struck', 24), ('integrate', 6), ('pure', 10), ('accomplish', 10), ('johnston', 4), ('outspoken', 6), ('spots', 14), ('opted', 6), ('macy', 11), ('parade', 5), ('nfl', 16), ('orthodox', 6), ('scene', 23), ('missing', 25), ('deeper', 14), ('prosperity', 8), ('sustain', 11), ('mosbacher', 7), ('deficits', 14), ('satisfy', 9), ('consumed', 10), ('turbulence', 7), ('preserve', 16), ('filipino', 16), ('tries', 17), ('royalties', 7), ('knock', 5), ('khmer', 17), ('rouge', 18), ('levy', 15), ('tumor', 10), ('clinic', 10), ('shocks', 7), ('nerves', 10), ('monitored', 13), ('tragedy', 7), ('probe', 22), ('safer', 13), ('multiple', 13), ('workings', 6), ('hand-held', 6), ('finger', 7), ('circuits', 8), ('measuring', 9), ('function', 14), ('clinical', 13), ('stimulate', 7), ('diego', 18), ('handy', 10), ('brains', 6), ('stimulators', 6), ('retrieve', 5), ('seizures', 6), ('sam', 27), ('muscle', 7), ('someday', 6), ('hearts', 7), ('possibilities', 10), ('probing', 6), ('reveal', 14), ('exploring', 11), ('jolted', 6), ('jolt', 9), ('theories', 9), ('jeopardize', 7), ('potent', 6), ('forth', 10), ('palo', 21), ('alto', 19), ('receivables', 16), ('thereafter', 16), ('trustee', 9), ('dizzying', 8), ('musicians', 6), ('perfect', 15), ('wider', 17), ('ocean', 17), ('discipline', 25), ('unpopular', 8), ('revolutionary', 10), ('consume', 7), ('inflows', 7), ('fruit', 16), ('gate', 13), ('appreciate', 9), ('petrochemicals', 6), ('stems', 16), ('leftist', 8), ('trusts', 6), ('bosses', 10), ('catching', 6), ('pledge', 7), ('tumbling', 7), ('pessimistic', 12), ('near-term', 16), ('mildly', 6), ('bullish', 20), ('owen', 10), ('kleinwort', 12), ('benson', 18), ('narrowing', 10), ('influences', 6), ('marked', 22), ('tumble', 13), ('widening', 8), ('knocking', 9), ('predictions', 13), ('regain', 13), ('contended', 16), ('bear', 62), ('culmination', 6), ('hastings', 24), ('repeal', 18), ('helmut', 7), ('tends', 11), ('taxed', 6), ('budgetary', 8), ('coalition', 21), ('mess', 15), ('second-quarter', 10), ('incidents', 7), ('echo', 7), ('restated', 18), ('monitoring', 24), ('vulnerable', 20), ('assumptions', 9), ('wathen', 18), ('pinkerton', 28), ('encountered', 8), ('olympics', 10), ('divestiture', 8), ('demonstrate', 8), ('lbo', 16), ('unprofitable', 8), ('rid', 12), ('boasts', 12), ('alleges', 14), ('concerning', 16), ('falcon', 10), ('long-awaited', 6), ('describing', 10), ('ferry', 5), ('method', 18), ('tucker', 8), ('proceed', 17), ('tighten', 6), ('subsidies', 29), ('affluent', 13), ('pot', 7), ('fha', 19), ('insure', 8), ('persuaded', 11), ('sour', 12), ('idle', 18), ('defaults', 17), ('cranston', 12), ('ensuring', 6), ('ink', 10), ('kemp', 18), ('lies', 28), ('pork-barrel', 8), ('hemorrhaging', 6), ('solving', 6), ('gillette', 13), ('tass', 6), ('rubles', 15), ('ruble', 11), ('sequester', 7), ('thoughts', 6), ('frustration', 10), ('pros', 8), ('daffynition', 6), ('applause', 7), ('drilling', 26), ('arkansas', 17), ('seidman', 26), ('free-market', 13), ('rush', 15), ('radical', 13), ('revision', 7), ('gnp', 26), ('eroding', 6), ('surging', 6), ('contentious', 6), ('strikes', 19), ('pittston', 11), ('nynex', 12), ('capitalists', 11), ('false', 26), ('revamping', 6), ('catastrophic', 15), ('medicare', 9), ('medicaid', 12), ('magic', 7), ('bullet', 7), ('sharon', 12), ('nam', 7), ('availability', 12), ('effectiveness', 8), ('guidelines', 56), ('leased', 10), ('employ', 8), ('utah', 20), ('reception', 7), ('hopeful', 7), ('consolidation', 17), ('landscape', 13), ('oppenheimer', 19), ('weyerhaeuser', 12), ('presents', 8), ('dive', 7), ('strengthening', 11), ('boxes', 11), ('exported', 8), ('rod', 9), ('resource', 7), ('lipton', 6), ('rosen', 17), ('katz', 21), ('barring', 10), ('rallied', 26), ('flurry', 7), ('duff', 7), ('phelps', 7), ('soar', 9), ('underscored', 7), ('leaped', 8), ('variations', 9), ('coatings', 9), ('flexible', 14), ('stateswest', 28), ('mesa', 33), ('abandoning', 6), ('pursuit', 17), ('nevada', 11), ('wyoming', 8), ('depress', 6), ('comply', 13), ('tangible', 6), ('ratio', 41), ('celebration', 10), ('anniversary', 11), ('kraft', 13), ('roots', 7), ('blanket', 6), ('shelves', 6), ('prime-time', 12), ('tucson', 13), ('themes', 7), ('portraying', 7), ('killer', 6), ('mafia', 8), ('rjr', 43), ('nabisco', 20), ('touting', 6), ('legitimacy', 5), ('doldrums', 7), ('microsoft', 19), ('phenomenon', 16), ('robin', 7), ('dominate', 8), ('rallies', 11), ('outperform', 5), ('hambrecht', 13), ('quist', 12), ('stalled', 14), ('in-house', 10), ('suitor', 15), ('gen-probe', 18), ('chugai', 12), ('delaying', 8), ('outcome', 26), ('low-income', 10), ('sessions', 14), ('prohibition', 6), ('alaska', 17), ('prescribed', 6), ('far-reaching', 11), ('refinancing', 21), ('high-interest', 6), ('subsidized', 11), ('disruptions', 7), ('forge', 7), ('aeronautics', 8), ('satellite', 24), ('nasa', 28), ('room', 68), ('byrd', 5), ('neb', 9), ('denver', 17), ('confusion', 18), ('absence', 19), ('authorization', 12), ('coda', 6), ('consolidate', 10), ('repurchase', 22), ('ted', 14), ('dedicated', 7), ('loral', 13), ('scenarios', 10), ('stearns', 42), ('presumed', 6), ('contemplating', 7), ('poorer', 6), ('cnw', 8), ('spin', 19), ('belief', 18), ('earthquakes', 15), ('fetch', 9), ('orkem', 13), ('state-controlled', 10), ('coates', 6), ('spencer', 10), ('lincoln', 58), ('regulator', 18), ('deputies', 9), ('danny', 5), ('panamanian', 24), ('keating', 18), ('meat', 12), ('gonzalez', 32), ('kevin', 6), ('connell', 6), ('fraudulent', 13), ('oddly', 7), ('donated', 14), ('recycling', 6), ('aroused', 6), ('erosion', 7), ('discounted', 13), ('footing', 6), ('dallas-based', 6), ('modernize', 10), ('reverse', 19), ('hot-dipped', 9), ('assurances', 15), ('13-week', 6), ('26-week', 5), ('tenders', 9), ('televised', 9), ('idaho', 6), ('potato', 6), ('cohen', 26), ('boyer', 6), ('bacteria', 11), ('injection', 9), ('genentech', 14), ('insulin', 14), ('diabetics', 13), ('applying', 8), ('lyonnais', 9), ('cie', 18), ('mixte', 58), ('societe', 17), ('financiere', 11), ('unocal', 15), ('refining', 19), ('revolving', 5), ('underwritten', 9), ('terminals', 12), ('company-owned', 6), ('streamlining', 12), ('accompanying', 12), ('popularity', 17), ('child-care', 6), ('corresponding', 8), ('write-offs', 8), ('averages', 11), ('surface', 19), ('psychological', 11), ('cease', 7), ('cascade', 6), ('pfizer', 9), ('schering-plough', 10), ('chevron', 22), ('definitively', 7), ('ogden', 8), ('cilcorp', 6), ('analytical', 8), ('occupied', 7), ('crush', 12), ('confiscated', 7), ('unpaid', 7), ('staged', 9), ('nicaragua', 37), ('condemn', 6), ('cancel', 11), ('managua', 5), ('afghanistan', 12), ('kabul', 18), ('civilian', 6), ('conservatives', 29), ('dissent', 6), ('whites', 30), ('hall', 37), ('vietnamese', 11), ('tanker', 7), ('fairfield', 6), ('preparing', 20), ('diplomat', 6), ('constituents', 12), ('representation', 9), ('constituency', 8), ('convincing', 9), ('mimic', 4), ('revisions', 11), ('geared', 4), ('craig', 21), ('looms', 6), ('miniscribe', 17), ('disk-drive', 5), ('strategist', 20), ('sharpest', 4), ('tapped', 7), ('pinpoint', 8), ('trough', 8), ('triggering', 6), ('drill', 9), ('bond-equivalent', 5), ('floating', 11), ('contemplated', 6), ('lists', 26), ('calendar', 9), ('tunnel', 3), ('municipals', 16), ('reoffered', 6), ('interpreted', 14), ('prentice', 6), ('electronically', 6), ('governing', 10), ('fasb', 8), ('entities', 14), ('gasb', 6), ('depreciation', 15), ('avery', 19), ('uniroyal', 10), ('intends', 43), ('one-half', 7), ('volumes', 8), ('shelters', 10), ('breath', 7), ('firmer', 9), ('aftershocks', 13), ('creeping', 6), ('fever', 7), ('rescue', 27), ('recessions', 7), ('pepsico', 9), ('cheap', 29), ('flamboyant', 5), ('lows', 14), ('price-earnings', 5), ('ratios', 8), ('restricted', 21), ('bunch', 6), ('likes', 14), ('ozone', 19), ('negligible', 5), ('birth', 9), ('solar', 14), ('radiation', 16), ('doubtful', 5), ('toxic', 8), ('chlorofluorocarbons', 5), ('depletion', 7), ('earth', 32), ('montreal', 17), ('uv-b', 6), ('measurements', 9), ('russians', 5), ('max', 14), ('hence', 10), ('greeted', 6), ('credible', 9), ('cfcs', 21), ('subsequently', 14), ('underground', 8), ('epa', 13), ('honest', 7), ('discovery', 14), ('experiments', 31), ('chemistry', 9), ('quotes', 14), ('teagan', 6), ('atmospheric', 6), ('expertise', 16), ('rifenburgh', 6), ('announcements', 13), ('questioning', 9), ('detailing', 7), ('shipment', 5), ('defective', 10), ('coopers', 11), ('flags', 6), ('flaws', 7), ('definition', 19), ('intimate', 12), ('sexual', 5), ('vivid', 4), ('underwriting', 18), ('underwrite', 10), ('challenged', 12), ('approvals', 9), ('treasurys', 20), ('sinyard', 10), ('cycling', 6), ('bike', 22), ('bicycle', 9), ('desks', 10), ('bikes', 28), ('mountain-bike', 8), ('entrepreneurial', 5), ('eidsmo', 6), ('tighter', 10), ('painful', 12), ('lined', 8), ('frame', 9), ('titanium', 7), ('burke', 6), ('taiwanese', 6), ('niche', 11), ('distributors', 10), ('wholly', 8), ('consolidating', 9), ('pfeiffer', 11), ('manufactures', 6), ('mainframes', 25), ('minicomputers', 9), ('franco', 9), ('accumulation', 7), ('consortium', 20), ('conceded', 20), ('channels', 8), ('installation', 8), ('rupert', 6), ('murdoch', 7), ('courtaulds', 13), ('daimler-benz', 12), ('advancers', 7), ('foreign-currency', 6), ('unstable', 5), ('ig', 6), ('metall', 6), ('tentative', 14), ('capitalization', 11), ('raiders', 8), ('logical', 6), ('enhance', 13), ('kerry', 6), ('zoete', 7), ('wedd', 7), ('affiliated', 11), ('prevention', 7), ('franklin', 24), ('vacated', 7), ('iron', 20), ('busy', 26), ('burst', 8), ('tonight', 10), ('comptroller', 19), ('hastily', 5), ('narrows', 6), ('widens', 6), ('dated', 14), ('sinking', 8), ('new-issue', 9), ('kohlberg', 5), ('kravis', 13), ('roberts', 25), ('carolinas', 6), ('issuance', 16), ('home-equity', 8), ('peat', 5), ('adams', 7), ('diagnostic', 9), ('bologna', 6), ('know-how', 8), ('pump', 11), ('technological', 9), ('detect', 6), ('deficiency', 6), ('pitch', 16), ('weaknesses', 10), ('recorders', 10), ('theoretical', 6), ('journalist', 7), ('bets', 5), ('toshiba', 16), ('hurdle', 6), ('credited', 10), ('horrible', 9), ('roper', 9), ('gear', 10), ('fitness', 12), ('intentions', 11), ('doyle', 6), ('desert', 18), ('potatoes', 9), ('bound', 7), ('garden', 42), ('vigorous', 12), ('skiing', 7), ('fad', 4), ('wiped', 7), ('walks', 6), ('leslie', 6), ('bryant', 11), ('bodies', 7), ('bowling', 10), ('endangered', 6), ('commissioned', 7), ('uncertain', 23), ('mills', 33), ('md', 20), ('ghosts', 7), ('haunts', 7), ('skeptics', 9), ('explanation', 19), ('pizza', 8), ('bed', 9), ('dreams', 7), ('hyman', 6), ('celebrating', 5), ('halloween', 6), ('occasion', 5), ('ghost', 8), ('aliens', 6), ('cadillac', 6), ('suits', 39), ('lexington', 11), ('vacuum', 6), ('flew', 10), ('kitchen', 7), ('dog', 11), ('receiver', 5), ('investigated', 6), ('omni', 6), ('shrink', 8), ('carpenter', 22), ('illusion', 6), ('shadow', 15), ('attacked', 10), ('smiling', 5), ('burns', 12), ('sons', 28), ('ken', 6), ('temblor', 16), ('physicians', 7), ('lets', 6), ('towers', 6), ('burger', 13), ('grades', 8), ('ski', 22), ('debates', 8), ('whoever', 4), ('commanding', 6), ('jose', 24), ('electoral', 10), ('brink', 6), ('platform', 12), ('hedge', 13), ('inefficient', 9), ('uncommon', 7), ('dial', 5), ('interrupted', 5), ('finishing', 11), ('freeze', 10), ('devaluation', 10), ('shield', 18), ('subsidizing', 6), ('runaway', 6), ('humana', 13), ('prevented', 13), ('physician', 10), ('infection', 6), ('nurses', 3), ('knight-ridder', 7), ('nrm', 12), ('restrict', 18), ('distributions', 5), ('cumulative', 20), ('edisto', 9), ('angeles-based', 16), ('jittery', 7), ('reinvested', 5), ('outflows', 9), ('withdrawals', 12), ('maintains', 12), ('13th', 11), ('buffer', 5), ('wondering', 10), ('minorities', 11), ('abundant', 6), ('hints', 5), ('quayle', 10), ('voiced', 6), ('pouring', 12), ('gatt', 7), ('soap', 8), ('writes', 16), ('unidentified', 7), ('leaks', 6), ('cheney', 10), ('euphoria', 6), ('jordan', 9), ('voter', 6), ('ryder', 10), ('thurmond', 10), ('racial', 21), ('drug-related', 8), ('statutes', 7), ('assassination', 16), ('sentences', 10), ('customs', 12), ('boyd', 15), ('ironic', 7), ('statistical', 13), ('considerations', 12), ('relevant', 10), ('severely', 12), ('convictions', 6), ('chancery', 8), ('realistic', 9), ('lone', 23), ('exclusivity', 6), ('adjusters', 18), ('settling', 16), ('epicenter', 12), ('shook', 12), ('rocked', 6), ('shaking', 9), ('carpeting', 6), ('evacuation', 6), ('wrap', 8), ('proceeding', 12), ('fireman', 19), ('rattled', 5), ('morristown', 6), ('brown-forman', 6), ('jackson', 20), ('jeep', 7), ('struggles', 5), ('translate', 7), ('payroll', 17), ('revco', 19), ('bankruptcy-court', 5), ('bondholders', 18), ('acadia', 6), ('fort', 16), ('woes', 8), ('stein', 23), ('highland', 9), ('cananea', 9), ('mint', 8), ('respective', 7), ('computer-guided', 11), ('demler', 7), ('soybean', 13), ('colombia', 13), ('costa', 43), ('rica', 26), ('colombian', 13), ('cooperatives', 11), ('inevitably', 10), ('politburo', 14), ('demonstrated', 9), ('conform', 8), ('self-employed', 6), ('exercising', 6), ('resolutions', 6), ('wishes', 7), ('solve', 16), ('insufficient', 7), ('conceptual', 6), ('emergence', 5), ('organic', 6), ('blueprint', 7), ('undertaken', 10), ('associations', 9), ('dependent', 9), ('construct', 5), ('heir', 6), ('rein', 8), ('contracting', 8), ('across-the-board', 8), ('single-a-1', 8), ('junior', 7), ('profile', 12), ('quotron', 16), ('four-game', 7), ('sweep', 9), ('widen', 8), ('abc', 44), ('incur', 6), ('disrupted', 9), ('broadcast', 26), ('cities\\\\/abc', 7), ('playoffs', 4), ('pilson', 30), ('decreased', 7), ('streak', 6), ('towel', 6), ('gainers', 10), ('resignations', 13), ('rows', 6), ('personal-computer', 7), ('concluding', 6), ('poised', 5), ('lotus', 21), ('bureaucrats', 12), ('sits', 4), ('efficiently', 6), ('commonly', 8), ('plug', 7), ('chart', 11), ('disappeared', 6), ('rooms', 39), ('tables', 13), ('contact', 12), ('printer', 10), ('unavailable', 11), ('listen', 16), ('practically', 7), ('explicit', 5), ('subordinates', 6), ('laptop', 12), ('fm', 7), ('compaq', 34), ('specifications', 6), ('blame', 34), ('ru-486', 15), ('surgical', 7), ('swedish', 21), ('bleeding', 6), ('misses', 6), ('pregnancy', 14), ('mortality', 18), ('steering', 4), ('bother', 9), ('contraceptive', 6), ('hoechst', 11), ('prediction', 4), ('legally', 7), ('ignorance', 6), ('supervision', 14), ('aborted', 5), ('furthermore', 10), ('embryo', 10), ('dalkon', 7), ('recording', 14), ('surveys', 13), ('gathered', 9), ('freeman', 14), ('talent', 15), ('reimburse', 5), ('lazard', 8), ('weiss', 7), ('orderly', 5), ('forming', 6), ('ge', 53), ('welch', 7), ('post-crash', 6), ('layoffs', 8), ('greenberg', 11), ('crazy', 12), ('break-even', 6), ('catalyst', 11), ('kemper', 21), ('roth', 10), ('supporting', 25), ('shakespeare', 8), ('ourselves', 14), ('strips', 7), ('gould', 17), ('disney', 20), ('sherman', 6), ('sentenced', 13), ('disappearance', 7), ('en', 6), ('transit', 9), ('garcia', 18), ('cocaine', 5), ('republic', 24), ('leipzig', 5), ('cemetery', 9), ('romantic', 7), ('tacked', 5), ('taped', 10), ('conversation', 14), ('paintings', 12), ('dearborn', 7), ('noise', 7), ('warranty', 7), ('guaranty', 6), ('termination', 5), ('assumes', 13), ('donating', 6), ('cross', 47), ('messages', 11), ('donations', 24), ('hat', 9), ('rank', 13), ('devastation', 10), ('charleston', 11), ('instant', 9), ('dip', 6), ('woo', 9), ('charity', 21), ('chasing', 6), ('barry', 15), ('earmarked', 9), ('franchisees', 19), ('sponsored', 10), ('refusing', 8), ('squibb', 15), ('fda', 26), ('inability', 7), ('limitations', 12), ('award', 22), ('dangers', 6), ('rejecting', 6), ('appealed', 14), ('nestle', 18), ('conclusion', 16), ('topple', 6), ('mandate', 8), ('highways', 13), ('foes', 7), ('terrible', 9), ('justifies', 7), ('wire', 17), ('traffickers', 6), ('laundering', 6), ('identifying', 6), ('recipients', 6), ('facsimile', 8), ('tpa', 6), ('hardest', 10), ('tax-loss', 7), ('ralph', 23), ('awaiting', 8), ('closings', 7), ('casualty', 25), ('vogelstein', 8), ('colon', 13), ('deadly', 6), ('tumor-suppressor', 6), ('prone', 5), ('retinoblastoma', 7), ('p53', 11), ('chromosome', 12), ('analyzing', 6), ('fox', 26), ('experiment', 24), ('eric', 8), ('confusing', 10), ('confirming', 6), ('hughes', 16), ('levine', 18), ('mice', 5), ('labs', 7), ('rushing', 12), ('bristol-myers', 13), ('accuse', 7), ('replied', 9), ('peladeau', 12), ('quebecor', 25), ('supplement', 6), ('quebec', 13), ('thomson', 29), ('distributing', 5), ('z', 11), ('manitoba', 6), ('searle', 8), ('rubin', 8), ('unlawful', 6), ('law-enforcement', 7), ('omnibus', 6), ('vigorously', 7), ('hancock', 7), ('kelly', 8), ('tops', 6), ('resumed', 12), ('oral', 7), ('terminate', 6), ('nonsense', 5), ('coach', 9), ('doug', 6), ('mediator', 12), ('mighty', 5), ('deferred', 6), ('b-2', 8), ('tactical', 8), ('fighter', 8), ('accords', 8), ('wichita', 4), ('kan', 5), ('helicopter', 11), ('hourly', 6), ('cost-of-living', 6), ('reiterated', 8), ('aluminum', 18), ('1\\\\/2-year', 8), ('grounds', 20), ('arctic', 6), ('calgary-based', 6), ('alberta', 13), ('vancouver', 7), ('kick', 7), ('mackenzie', 12), ('transcanada', 12), ('tenneco', 6), ('alaskan', 9), ('connecting', 6), ('lived', 15), ('counties', 8), ('bank-holding', 9), ('deferring', 6), ('finish', 12), ('ernst', 8), ('remics', 6), ('rochester', 16), ('zero-coupon', 25), ('a$', 35), ('allianz', 31), ('reinforced', 7), ('dresdner', 9), ('commerzbank', 5), ('canceled', 25), ('regrets', 6), ('noranda', 7), ('carol', 12), ('fletcher', 8), ('amoco', 21), ('undeveloped', 7), ('monitors', 7), ('disks', 11), ('freely', 11), ('prepayments', 6), ('bancroft', 6), ('treasurer', 21), ('patterson', 9), ('wendy', 6), ('midler', 7), ('backup', 8), ('distinctive', 6), ('spawned', 8), ('bobby', 12), ('mack', 6), ('vitro', 7), ('spate', 6), ('bargain-hunting', 4), ('teeth', 5), ('tailspin', 8), ('margaret', 12), ('ems', 8), ('omaha', 7), ('egon', 8), ('arab', 15), ('apartheid', 17), ('fluor', 8), ('prevail', 9), ('insurers', 61), ('swell', 6), ('corr', 11), ('telesis', 12), ('deductible', 9), ('prelude', 8), ('tax-free', 13), ('splitting', 6), ('breakup', 10), ('reinforce', 10), ('phased', 8), ('transatlantic', 6), ('department-store', 11), ('generates', 9), ('mail-order', 7), ('outperformed', 5), ('prompting', 13), ('honeywell', 8), ('editorial-page', 6), ('col', 8), ('gen', 32), ('figuring', 8), ('mccall', 9), ('pearce', 9), ('simpson', 8), ('arabs', 7), ('sidhpur', 6), ('fame', 11), ('psyllium', 33), ('patel', 8), ('centuries', 5), ('folk', 6), ('ciba-geigy', 14), ('p&g', 43), ('displayed', 7), ('kellogg', 25), ('marginal', 15), ('middlemen', 11), ('glad', 6), ('crest', 7), ('sr', 6), ('reasonable', 31), ('small-business', 20), ('waxman', 7), ('overly', 8), ('mild', 6), ('priorities', 14), ('prohibit', 8), ('mandated', 9), ('reinsurance', 34), ('belgian', 9), ('provisional', 8), ('nashua', 17), ('slumped', 10), ('outsider', 5), ('proclaimed', 7), ('titled', 8), ('carr', 5), ('regained', 7), ('marxist', 7), ('sovereignty', 8), ('arose', 6), ('emigration', 5), ('uneasy', 5), ('averaging', 7), ('shock', 17), ('flavor', 7), ('baring', 4), ('fallout', 7), ('govern', 8), ('refugees', 12), ('repression', 8), ('projection', 10), ('seng', 7), ('consequently', 9), ('fisher', 9), ('artificially', 6), ('coordination', 6), ('episode', 10), ('decent', 13), ('ben', 7), ('attitudes', 13), ('small-town', 6), ('sohmer', 8), ('pbs', 9), ('jewish', 14), ('kate', 12), ('thrust', 7), ('outset', 3), ('guess', 15), ('naked', 5), ('motel', 6), ('crossland', 9), ('write-down', 11), ('revise', 5), ('non-interest', 3), ('afloat', 4), ('calgary', 7), ('intensely', 4), ('input', 6), ('relocation', 10), ('shippers', 15), ('ivy', 6), ('shoppers', 9), ('coats', 8), ('photo', 8), ('rainbow', 6), ('loud', 5), ('roberti', 6), ('observes', 6), ('paterson', 6), ('casual', 7), ('unused', 7), ('abruptly', 7), ('mtm', 14), ('tvs', 22), ('blues', 5), ('gatward', 6), ('broadcasters', 6), ('connaught', 20), ('vaccine', 17), ('merieux', 19), ('chiron', 11), ('corner', 13), ('peru', 10), ('mineral', 6), ('carry-forward', 6), ('expiration', 23), ('avondale', 6), ('sutton', 11), ('concord', 7), ('gang', 6), ('characteristic', 6), ('amex', 24), ('ufo', 7), ('timothy', 7), ('beam', 7), ('hell', 6), ('destroying', 6), ('shooting', 5), ('memorandum', 6), ('californians', 9), ('beings', 8), ('robot', 7), ('universe', 7), ('russia', 7), ('radar', 12), ('sverdlovsk', 7), ('debris', 8), ('creatures', 7), ('rocky', 7), ('trustcorp', 6), ('akzo', 30), ('bergsma', 8), ('alliances', 9), ('petrochemical', 20), ('bleak', 10), ('universal', 18), ('captured', 12), ('guardian', 6), ('reveals', 5), ('divide', 7), ('camps', 8), ('stabilize', 13), ('stabilizing', 12), ('aggregates', 6), ('deployed', 6), ('chorus', 7), ('tie', 9), ('surrounded', 6), ('freed', 5), ('rampant', 6), ('natwest', 10), ('delegate', 8), ('heller', 8), ('wcrs', 30), ('della', 17), ('femina', 17), ('mcnamee', 7), ('reebok', 18), ('hedges', 9), ('federated', 14), ('bullock', 6), ('finkelstein', 6), ('viability', 6), ('altman', 6), ('teller', 7), ('chains', 35), ('bloomingdale', 25), ('saks', 15), ('windows', 19), ('candy', 12), ('kkr', 35), ('aetna', 33), ('catastrophe', 13), ('township', 10), ('anc', 33), ('unity', 7), ('sisulu', 7), ('shouted', 4), ('westinghouse', 30), ('steam', 16), ('combustion', 10), ('supplied', 8), ('asea', 6), ('boveri', 6), ('renaissance', 21), ('marous', 6), ('richter', 15), ('pale', 8), ('propelled', 6), ('unfriendly', 8), ('victories', 7), ('joke', 6), ('inning', 4), ('stir', 4), ('scored', 6), ('terry', 13), ('prevailed', 8), ('kirk', 6), ('regular-season', 6), ('homer', 7), ('twelve', 5), ('rationale', 5), ('grumman', 11), ('scheduling', 5), ('concludes', 11), ('estimating', 7), ('mentality', 6), ('deadlines', 7), ('burlington', 10), ('taping', 6), ('audio', 9), ('resale', 7), ('raider', 16), ('werner', 7), ('coup', 43), ('bally', 22), ('jean', 6), ('airplanes', 7), ('grenfell', 16), ('two-day', 10), ('cocom', 6), ('deserves', 8), ('unisys', 25), ('sheer', 7), ('worrisome', 5), ('approaching', 7), ('straszheim', 16), ('commentary', 8), ('newsletter', 21), ('annuities', 7), ('threaten', 7), ('prisoner', 6), ('trusted', 4), ('denounced', 6), ('thrown', 11), ('exchange-rate', 11), ('reunification', 12), ('neutral', 5), ('broderick', 6), ('rental', 12), ('fatal', 6), ('perlman', 8), ('ignore', 19), ('commute', 7), ('criticisms', 6), ('harbor', 10), ('keen', 7), ('neatly', 5), ('greens', 5), ('necessity', 9), ('neighbor', 8), ('venice', 8), ('catalog', 16), ('translated', 14), ('daewoo', 1), ('sri', 6), ('koreans', 5), ('daly', 17), ('semel', 20), ('hanging', 7), ('canton', 7), ('kurt', 6), ('cleaning', 11), ('mgm\\\\/ua', 20), ('encouragement', 7), ('suburb', 8), ('darman', 20), ('reminder', 9), ('divisive', 6), ('cms', 9), ('polly', 12), ('sansui', 20), ('adjust', 15), ('tokyo-based', 7), ('offshore', 9), ('competitiveness', 5), ('doubling', 14), ('bellsouth', 34), ('lin', 63), ('mccaw', 51), ('payout', 7), ('flawed', 8), ('declares', 12), ('affects', 6), ('attributable', 6), ('dapuzzo', 6), ('tele-communications', 19), ('resilience', 5), ('upheaval', 7), ('warburg', 7), ('hanson', 7), ('von', 7), ('humanitarian', 9), ('staging', 6), ('flaw', 6), ('installations', 11), ('scrap', 10), ('afghan', 10), ('roads', 21), ('aoun', 9), ('syrian', 6), ('pullout', 6), ('championship', 6), ('unilever', 14), ('nervously', 3), ('packaged-goods', 10), ('faberge', 6), ('noxell', 8), ('makeup', 5), ('mass-market', 7), ('detergent', 5), ('lauder', 10), ('artistic', 9), ('rolls', 9), ('nationally', 9), ('coupons', 9), ('aged', 7), ('supermarkets', 6), ('ordinarily', 9), ('high-end', 7), ('colgate-palmolive', 7), ('colgate', 24), ('covert', 18), ('14-year-old', 5), ('wipe', 6), ('coups', 6), ('dictator', 14), ('endanger', 5), ('boren', 27), ('sens', 6), ('specter', 12), ('internationally', 9), ('harbors', 10), ('iran', 13), ('friday-the-13th', 6), ('gte', 16), ('rand', 13), ('besieged', 4), ('maneuver', 9), ('reinforcing', 6), ('tim', 7), ('ages', 6), ('veterans', 13), ('youngest', 7), ('korotich', 9), ('educate', 5), ('cheered', 5), ('recognizes', 6), ('honesty', 6), ('cynthia', 6), ('greenspan', 36), ('chris', 8), ('dodd', 6), ('accelerate', 8), ('infringement', 3), ('misstated', 8), ('racked', 5), ('cathcart', 6), ('mall', 8), ('incorrectly', 9), ('luzon', 11), ('polyethylene', 8), ('mateo', 7), ('speaker', 21), ('waves', 13), ('marlin', 10), ('fitzwater', 14), ('restoring', 6), ('buried', 11), ('bart', 9), ('hertz', 4), ('bracing', 8), ('listings', 6), ('quantum', 15), ('istat', 6), ('banco', 40), ('exterior', 13), ('privatization', 17), ('pesetas', 6), ('technicians', 10), ('prosecutions', 12), ('conclusions', 5), ('bono', 9), ('justin', 2), ('pretrial', 6), ('grossly', 5), ('ron', 10), ('conspiring', 7), ('wildlife', 9), ('spill', 23), ('havoc', 5), ('instantly', 7), ('jamie', 7), ('whitten', 15), ('remark', 6), ('restraint', 8), ('rican', 14), ('arias', 9), ('interpret', 10), ('wyss', 7), ('totals', 9), ('mega-issues', 6), ('prospectus', 11), ('larsen', 9), ('toubro', 6), ('oversubscribed', 6), ('ministries', 7), ('nathan', 11), ('brewer', 7), ('finnair', 6), ('archrival', 8), ('abbie', 8), ('activist', 9), ('script', 9), ('chung', 11), ('actors', 13), ('benjamin', 10), ('stops', 6), ('theater', 34), ('syndicated', 4), ('joan', 7), ('drama', 13), ('dentsu', 15), ('eurocom', 18), ('corning', 11), ('comedy', 19), ('grid', 7), ('heavier', 7), ('census', 13), ('sears', 59), ('roebuck', 10), ('mart', 12), ('weakest', 5), ('explosions', 9), ('destroyed', 12), ('catastrophes', 7), ('syndicates', 8), ('leaseway', 8), ('equation', 4), ('slipping', 14), ('periodic', 7), ('diverted', 11), ('midst', 13), ('sandinistas', 10), ('abrams', 6), ('bernard', 15), ('petrie', 13), ('deb', 6), ('unanimously', 11), ('liquidate', 6), ('jayark', 6), ('cftc', 5), ('comex', 7), ('conway', 7), ('pits', 6), ('24-hour', 5), ('react', 8), ('attribute', 7), ('dire', 9), ('recommends', 10), ('absorb', 15), ('scramble', 7), ('crumbling', 7), ('mayoral', 10), ('unloading', 6), ('spree', 8), ('stop-loss', 8), ('lockheed', 19), ('innopac', 7), ('mobil', 30), ('yards', 7), ('jokes', 9), ('caterpillar', 7), ('whittle', 14), ('dillon', 4), ('octel', 7), ('revealed', 6), ('briefly', 11), ('scary', 4), ('connolly', 7), ('lbos', 9), ('troubling', 9), ('disappointments', 10), ('richfield', 8), ('faa', 8), ('temperatures', 11), ('flooding', 7), ('coastal', 12), ('atoms', 6), ('dioxide', 8), ('burning', 6), ('fossil', 6), ('chairmen', 7), ('foley', 10), ('subsidy', 9), ('fortunately', 7), ('mainstream', 11), ('parental', 7), ('apartments', 12), ('plumbing', 5), ('middle-class', 8), ('schaeffer', 6), ('vanguard', 9), ('compounded', 6), ('lower-than-expected', 6), ('shifting', 10), ('toseland', 9), ('hypoglycemia', 8), ('costing', 7), ('strategists', 8), ('ivory', 11), ('wsj', 7), ('baseline', 7), ('chiefs', 8), ('strengths', 6), ('discouraged', 5), ('confirmation', 13), ('softness', 8), ('disabilities', 8), ('disabled', 8), ('handicapped', 6), ('deliberations', 5), ('addressed', 11), ('aspirations', 6), ('eurodollar', 6), ('envy', 6), ('shanghai', 5), ('chartered', 10), ('hk$', 7), ('defaulted', 6), ('taxi', 8), ('bullion', 7), ('processed', 11), ('noncallable', 14), ('tampa', 6), ('bausch', 3), ('lenses', 2), ('jolla', 8), ('southwest', 17), ('vincent', 11), ('preceding', 6), ('generale', 11), ('lubricants', 7), ('manic', 7), ('phones', 11), ('bsn', 3), ('fleming', 6), ('trinova', 11), ('biological', 7), ('bacterium', 6), ('diversity', 5), ('bruno', 7), ('pile', 6), ('dunes', 6), ('yard', 9), ('mideast', 8), ('exporting', 7), ('opec', 36), ('cox', 6), ('roller-coaster', 5), ('gallons', 6), ('roller', 5), ('pitched', 6), ('persian', 5), ('iranian', 10), ('rig', 6), ('southwestern', 10), ('boat', 11), ('dun', 18), ('bradstreet', 18), ('setbacks', 8), ('arrow', 3), ('supervisor', 11), ('vault', 6), ('gardens', 19), ('dorfman', 7), ('conner', 26), ('texans', 12), ('attendants', 16), ('controllers', 6), ('house-passed', 7), ('indexation', 7), ('supplying', 5), ('poughkeepsie', 6), ('whooping', 8), ('cough', 9), ('pertussis', 7), ('toxin', 13), ('rothschilds', 10), ('glare', 6), ('19th', 7), ('recalled', 8), ('mainstay', 7), ('erich', 6), ('buffett', 9), ('outweigh', 8), ('defenders', 6), ('blaming', 5), ('fares', 17), ('ab', 20), ('skf', 7), ('kronor', 13), ('bearings', 10), ('redford', 8), ('environmentally', 4), ('environmentalism', 8), ('windsor', 6), ('ncaa', 6), ('athletes', 9), ('basketball', 19), ('high-school', 6), ('coaches', 8), ('portrait', 5), ('mad', 6), ('pencils', 10), ('circus', 13), ('fdic', 6), ('refined', 6), ('agip', 5), ('libya', 5), ('upgrading', 6), ('refineries', 6), ('kuwait', 6), ('academy', 14), ('engelken', 34), ('clutter', 11), ('shouting', 6), ('lifetime', 9), ('reads', 6), ('turnpike', 5), ('southam', 10), ('norton', 14), ('eastman', 13), ('roh', 6), ('ordinance', 6), ('espectador', 7), ('custody', 6), ('koch', 9), ('opponent', 9), ('roadways', 6), ('carson', 7), ('withheld', 9), ('endorsement', 7), ('incinerator', 8), ('leventhal', 7), ('flom', 5), ('determination', 8), ('adjuster', 6), ('policyholders', 8), ('rubble', 11), ('parcel', 9), ('shattered', 7), ('hammack', 6), ('earthquake-related', 8), ('assessing', 8), ('dealt', 8), ('linear', 6), ('reviews', 13), ('gently', 5), ('roadway', 7), ('fcc', 15), ('commissioners', 6), ('brouwer', 6), ('tremors', 11), ('lipper', 10), ('anticipate', 13), ('deflator', 6), ('nutritional', 6), ('assassinations', 7), ('grave', 8), ('abuses', 7), ('gridlock', 9), ('remembered', 6), ('accustomed', 5), ('lacking', 7), ('turner', 35), ('mo', 4), ('newark', 11), ('plain', 11), ('horn', 7), ('resorts', 20), ('qintex', 85), ('skase', 15), ('antar', 17), ('seizure', 6), ('forfeiture', 14), ('tainted', 6), ('applies', 6), ('correction', 9), ('widened', 15), ('accelerating', 8), ('pumped', 8), ('gun', 7), ('workstations', 13), ('fabrication', 6), ('ranch', 8), ('ima', 15), ('willful', 2), ('mahfouz', 10), ('cairo', 10), ('novels', 8), ('span', 9), ('colonial', 6), ('bureaucrat', 6), ('experimental', 9), ('endure', 6), ('poorest', 7), ('norwood', 7), ('weirton', 4), ('restoration', 9), ('leverage', 26), ('northrop', 12), ('iverson', 7), ('thriving', 7), ('dynamic', 11), ('morishita', 18), ('gallery', 13), ('christies', 6), ('aichi', 8), ('holmes', 11), ('wherever', 5), ('nonperforming', 11), ('batibot', 10), ('decker', 17), ('emhart', 11), ('fournier', 13), ('defer', 8), ('pinnacle', 14), ('traub', 6), ('management-led', 6), ('vatican', 10), ('pope', 8), ('distribute', 14), ('unscrupulous', 7), ('collectors', 5), ('giorgio', 5), ('dig', 5), ('notification', 9), ('ernest', 6), ('jefferies', 8), ('bakker', 6), ('helmsley', 15), ('bottled', 6), ('packwood', 18), ('tuition', 14), ('marsh', 10), ('mclennan', 9), ('peripherals', 6), ('wang', 50), ('trucking', 12), ('allowance', 6), ('landed', 9), ('deaver', 9), ('shannon', 6), ('confessed', 5), ('perjury', 7), ('topiary', 7), ('retreated', 9), ('lavelle', 6), ('hart', 10), ('fund-raising', 6), ('acquitted', 6), ('cuba', 16), ('oas', 7), ('guinness', 12), ('fish', 9), ('burmah', 6), ('refiners', 6), ('benefiting', 8), ('edgar', 6), ('mitterrand', 7), ('ohbayashi', 6), ('schwarz', 13), ('farrell', 3), ('posner', 6), ('reconciliation', 9), ('epo', 9), ('amgen', 8), ('conception', 6), ('two-tier', 6), ('circulating', 8), ('kodak', 22), ('maynard', 28), ('armonk', 8), ('stunning', 7), ('abm', 11), ('krasnoyarsk', 9), ('cineplex', 17), ('odeon', 12), ('drabinsky', 18), ('cherry', 7), ('workstation', 7), ('bare-faced', 6), ('leval', 9), ('salinger', 9), ('remedy', 6), ('oakes', 7), ('masson', 12), ('admission', 11), ('dishonesty', 6), ('smart', 11), ('atlas', 6), ('arby', 9), ('franchisers', 9), ('seabrook', 8), ('renault', 13), ('panels', 10), ('pwa', 13), ('airbus', 6), ('bartlett', 27), ('ethiopia', 7), ('aeroflot', 4), ('vila', 11), ('pesticide', 8), ('pesticides', 10), ('hazard', 6), ('extract', 5), ('trapped', 6), ('relying', 6), ('dogged', 6), ('sporadic', 6), ('delmed', 34), ('dialysis', 6), ('ehrlich', 7), ('fresenius', 16), ('coins', 12), ('coin', 8), ('cooling', 6), ('coping', 4), ('constructed', 5), ('woods', 8), ('expenditure', 7), ('venture-capital', 9), ('mit', 6), ('entrepreneurs', 15), ('edt', 16), ('broadway', 6), ('hbo', 18), ('showtime', 27), ('benton', 5), ('merksamer', 28), ('jewelers', 8), ('hooker', 22), ('court-appointed', 4), ('switches', 6), ('arrange', 7), ('hectic', 4), ('ramada', 13), ('drawings', 6), ('shy', 7), ('bpca', 10), ('cornell', 7), ('incorrect', 6), ('revoke', 6), ('medium', 8), ('patience', 5), ('bronner', 6), ('interactive', 2), ('mushrooms', 8), ('medication', 6), ('mirage', 12), ('hotel-casino', 7), ('nugget', 8), ('hilton', 6), ('casinos', 7), ('mom', 6), ('influx', 4), ('suites', 6), ('proliferation', 7), ('overbuilt', 6), ('foreclosed', 6), ('mouth', 6), ('recreation', 7), ('armco', 6), ('jacobson', 21), ('flat-rolled', 1), ('allied-signal', 9), ('provigo', 16), ('non-food', 9), ('lortie', 8), ('nadeau', 7), ('showroom', 4), ('aided', 14), ('nye', 6), ('anheuser', 16), ('beneath', 10), ('brewery', 6), ('abortion-rights', 17), ('zeta', 7), ('seal', 7), ('cboe', 9), ('undoubtedly', 5), ('utilization', 13), ('ivan', 7), ('boesky', 16), ('class-action', 8), ('cutler', 6), ('ferguson', 7), ('plaintiff', 4), ('simpler', 6), ('businessland', 6), ('schwartz', 11), ('esselte', 8), ('f-14', 6), ('menlo', 9), ('slim', 6), ('butcher', 6), ('tw', 22), ('battled', 6), ('usair', 48), ('importing', 7), ('daikin', 7), ('azt', 15), ('usage', 7), ('pediatric', 6), ('infected', 15), ('subpoena', 6), ('jeff', 11), ('uncle', 6), ('chicken', 6), ('dlj', 6), ('\\\\*', 10), ('\\\\*\\\\*', 6), ('espn', 6), ('tisch', 9), ('bitterly', 7), ('meredith', 19), ('lineup', 7), ('comsat', 6), ('bozell', 5), ('eroded', 6), ('dictaphone', 3), ('salesmen', 13), ('shack', 8), ('vax', 7), ('fried', 8), ('haas', 8), ('laff', 14), ('lang', 40), ('lorin', 12), ('claimants', 10), ('robins', 9), ('ingersoll', 21), ('fleets', 5), ('maxicare', 9), ('saab-scania', 8), ('saab', 25), ('superfund', 10), ('micro', 5), ('quickview', 6), ('programmers', 2), ('cupertino', 8), ('kageyama', 9), ('motivated', 6), ('fusion', 20), ('roe', 8), ('wade', 8), ('dispatched', 9), ('curbs', 8), ('goodyear', 12), ('roderick', 14), ('corry', 33), ('minimills', 2), ('thoroughbred', 6), ('hunting', 6), ('lynn', 7), ('breathing', 6), ('terrorist', 6), ('shamir', 7), ('glazer', 6), ('bookings', 6), ('adm', 8), ('capita', 8), ('ldp', 19), ('commuters', 16), ('special-interest', 6), ('diet', 11), ('developing-country', 6), ('carat', 12), ('diamonds', 10), ('thick', 7), ('deduction', 11), ('geographic', 3), ('sheraton', 8), ('gorky', 11), ('delicious', 18), ('fujis', 8), ('worm', 12), ('gerrymandering', 6), ('legislatures', 6), ('tro', 6), ('adobe', 6), ('openness', 6), ('anthrax', 6), ('peasant', 6), ('dying', 6), ('peasants', 7), ('fertilizer', 7), ('poles', 7), ('naczelnik', 6), ('urgency', 7), ('centered', 5), ('prosecutorial', 7), ('opera', 8), ('violetta', 7), ('wooden', 5), ('festival', 7), ('madrid', 6), ('convex', 8), ('unfavorable', 9), ('inspectors', 7), ('wonderful', 7), ('whittington', 7), ('planet', 12), ('cypress', 9), ('parkway', 6), ('codes', 7), ('bogart', 15), ('theatrical', 7), ('shea', 7), ('esb', 9), ('inco', 14), ('homefed', 14), ('pepsi', 5), ('murata', 9), ('vickers', 6), ('pons', 6), ('reputable', 8), ('bebear', 6), ('axa', 8), ('applicants', 8), ('cable-tv', 6), ('imo', 6), ('arena', 9), ('berry', 10), ('apogee', 8), ('kaiser', 12), ('prudential', 17), ('junk-holders', 8), ('storer', 8), ('con', 6), ('rubbermaid', 10), ('mmi', 4), ('asarco', 8), ('ahmanson', 7), ('vista', 6), ('cubs', 3), ('refcorp', 9), ('swung', 4), ('mouse', 7), ('yeast', 9), ('arteries', 7), ('artery', 9), ('gum', 9), ('irish', 4), ('merkur', 19), ('scorpio', 7), ('francis', 9), ('wachovia', 7), ('antibody', 9), ('competent', 6), ('kohl', 8), ('olivetti', 18), ('conasupo', 6), ('fernandez', 6), ('cans', 8), ('probability', 6), ('crandall', 4), ('digest', 9), ('grey', 5), ('advertiser', 4), ('vinson', 8), ('jurors', 21), ('artists', 14), ('personal-injury', 7), ('massage', 2), ('refrigerators', 5), ('freeways', 8), ('subway', 3), ('on-site', 3), ('kasparov', 17), ('notorious', 6), ('pawn', 8), ('blumenfeld', 13), ('bourbon', 16), ('whiskey', 7), ('garratt', 7), ('ecological', 6), ('legent', 6), ('underestimated', 6), ('clinton', 9), ('tesoro', 6), ('eagle', 25), ('conservatorship', 6), ('incompetent', 5), ('boiler', 10), ('permanently', 5), ('ashland', 16), ('lyondell', 7), ('agricole', 8), ('downey', 6), ('cnbc', 7), ('merabank', 10), ('goodson', 21), ('sorrell', 8), ('mattel', 8), ('suez', 8), ('savaiko', 11), ('palladium', 10), ('curve', 7), ('emerson', 5), ('fujisawa', 6), ('enviropact', 7), ('less-developed', 10), ('fazio', 8), ('atlantis', 9), ('galileo', 27), ('detrex', 6), ('guideline', 6), ('volokh', 17), ('polaroid', 13), ('prefers', 6), ('nuovo', 10), ('ambrosiano', 6), ('hard-disk', 9), ('translation', 5), ('southmark', 5), ('name-dropping', 6), ('rhone-poulenc', 6), ('high-definition', 13), ('hdtv', 19), ('pachinko', 13), ('mcduffie', 14), ('recital', 5), ('violin', 12), ('durkin', 6), ('maidenform', 19), ('brawer', 10), ('lesk', 6), ('rosenthal', 3), ('ups', 9), ('impeachment', 18), ('mancuso', 15), ('h&r', 12), ('nsc', 16), ('briggs', 6), ('bureaus', 6), ('sperry', 8), ('lesko', 8), ('intensify', 8), ('cowboys', 20), ('cuban', 11), ('cubans', 5), ('seita', 9), ('preamble', 8), ('barre', 12), ('somalia', 7), ('runway', 5), ('mengistu', 7), ('rafale', 6), ('goupil', 7), ('crusaders', 7), ('dassault', 6), ('cathay', 26), ('air-freight', 10), ('eddington', 7), ('lufthansa', 10), ('agnos', 13), ('bursts', 8), ('massages', 2), ('cafeteria', 8), ('vermont-slauson', 8), ('watts', 6), ('detectors', 11), ('zones', 6), ('banponce', 7), ('ortiz', 9), ('salespeople', 17), ('mcdonough', 18), ('carpets', 6), ('ducks', 8), ('ferranti', 6), ('realist', 9), ('winnebago', 10), ('stabilized', 7), ('tva', 20), ('ekco', 7), ('nora', 6), ('shv', 4), ('banc', 16), ('190', 6), ('58-point', 6), ('anacomp', 6), ('comair', 7), ('quack', 6), ('mansion', 6), ('trelleborg', 26), ('falconbridge', 7), ('enserch', 6), ('picop', 8), ('imf', 22), ('tremor', 6), ('spacecraft', 7), ('honecker', 36), ('tritium', 6), ('fleischmann', 5), ('feedlots', 8), ('hut', 2), ('deloitte', 19), ('haskins', 6), ('iafp', 6), ('peterson', 16), ('median', 8), ('tharp', 7), ('enforcers', 7), ('provinces', 6), ('rorer', 8), ('merck', 9), ('soo', 10), ('xtra', 7), ('gintel', 8), ('hasbro', 6), ('stress-related', 7), ('arcy', 6), ('fur', 11), ('furriers', 10), ('furs', 15), ('mink', 6), ('jackets', 6), ('hepatitis', 7), ('westridge', 6), ('nguyen', 7), ('chan', 12), ('thi', 7), ('bumiputra', 6), ('basir', 6), ('m$', 9), ('plummet', 4), ('skiers', 6), ('outer', 6), ('contested', 5), ('seismic', 6), ('callable', 6), ('newsletters', 7), ('westmoreland', 10), ('devoe', 6), ('erased', 5), ('marlowe', 9), ('cela', 6), ('nimitz', 8), ('reinforcement', 8), ('bonn', 9), ('pro-life', 9), ('isler', 6), ('skipper', 2), ('mural', 9), ('hoelzer', 6), ('belli', 7), ('andreas', 6), ('prisons', 6), ('shutdown', 8), ('gaubert', 9), ('moss', 6), ('benefit-seeking', 8), ('cruz', 8), ('fema', 11), ('biscuits', 1), ('doman', 7), ('amdura', 7), ('commerciale', 7), ('discovision', 7), ('cherokee', 6), ('jupiter', 9), ('dayton', 6), ('corsica', 6), ('beretta', 7), ('enron', 5), ('verwoerd', 8), ('morgenzon', 6), ('guzman', 14), ('cabrera', 14), ('quina', 6), ('pemex', 21), ('daf', 8), ('whitbread', 23), ('beefeater', 6), ('gin', 10), ('redmond', 7), ('salmonella', 6), ('capcom', 9), ('jal', 9), ('petco', 6), ('fossett', 3), ('equitec', 7), ('steinhardt', 34), ('arkla', 6), ('bay-area', 6), ('caltrans', 9), ('lionel', 8), ('caffeine-free', 7), ('bork', 18), ('fk-506', 6), ('laband', 11), ('steppenwolf', 9), ('sagan', 6), ('templeton', 9), ('beebes', 9), ('craven', 6), ('firstsouth', 6), ('gelbart', 10), ('gutfreund', 6), ('warner-lambert', 7), ('shah', 3), ('torrijos', 9), ('lung-cancer', 8), ('bikers', 8), ('bofors', 13), ('parsow', 5), ('caci', 6), ('isi', 1), ('chestman', 6), ('tci', 9), ('trecker', 6), ('unilab', 6)])"
      ]
     },
     "metadata": {},
     "execution_count": 41
    }
   ]
  },
  {
   "cell_type": "markdown",
   "metadata": {
    "id": "37zqqC7UQHsb",
    "pycharm": {
     "name": "#%% md\n"
    }
   },
   "source": [
    "**Второй способ** состоит в создании словаря напрямую через итератор данных без использования `Counter`. Для этого воспользуемся функций `torchtext.vocab.build_vocab_from_iterator`."
   ]
  },
  {
   "cell_type": "code",
   "execution_count": null,
   "metadata": {
    "id": "LUKbEwU5QHsd",
    "outputId": "de78533d-988f-48aa-b6ac-5e2b8753779d",
    "colab": {
     "base_uri": "https://localhost:8080/"
    },
    "pycharm": {
     "name": "#%%\n"
    }
   },
   "outputs": [
    {
     "output_type": "stream",
     "name": "stdout",
     "text": [
      "Vocaublary size: 9924\n"
     ]
    }
   ],
   "source": [
    "from torchtext.vocab import build_vocab_from_iterator\n",
    "\n",
    "\n",
    "def yield_tokens():\n",
    "    # итерируясь по обучающему датасету\n",
    "    for line in train_iter:\n",
    "        # токенизируем line\n",
    "        tokens = tokenizer(line)# ВАШ КОД ЗДЕСЬ\n",
    "        yield tokens\n",
    "\n",
    "\n",
    "# создадим итератор по данным, загрузив готовый датасет PennTreebank из torchtext,\n",
    "# причем для начала, только обучающую train подвыборку, используя аргумент split\n",
    "train_iter = PennTreebank(split='train')# ВАШ КОД ЗДЕСЬ\n",
    "# используем build_vocab_from_iterator для получения vocab на основе yield_tokens(),\n",
    "# обязательно добавив специальный токен \"<unk>\" в аргумент-список специальных токенов specials\n",
    "vocab = build_vocab_from_iterator(yield_tokens(), specials=\"<unk>\")# ВАШ КОД ЗДЕСЬ\n",
    "# vocab.set_default_index(vocab['<unk>'])\n",
    "# посмотрим на размер собранного словаря\n",
    "print(f\"Vocaublary size: {vocab.__len__()}\")"
   ]
  },
  {
   "cell_type": "markdown",
   "metadata": {
    "id": "8hTiCQLsQHsg",
    "pycharm": {
     "name": "#%% md\n"
    }
   },
   "source": [
    "Как мы видим, словари имеют одинаковые размер. Оба способа создают идентичные по содержащимся токенам словари."
   ]
  },
  {
   "cell_type": "markdown",
   "metadata": {
    "id": "uzsGXd9_QHsi",
    "pycharm": {
     "name": "#%% md\n"
    }
   },
   "source": [
    "## Подготовим датасет\n",
    "\n",
    "Для подготовки датасета к процессу обучения модели seq2seq, необходимо\n",
    "* токенизировать тексты,\n",
    "* перевести токены в индексы токенов в словаре,\n",
    "* преобразовать результат в тензор."
   ]
  },
  {
   "cell_type": "code",
   "execution_count": null,
   "metadata": {
    "id": "_IHj6SNHQHsk",
    "pycharm": {
     "name": "#%%\n"
    }
   },
   "outputs": [],
   "source": [
    "import torch\n",
    "\n",
    "\n",
    "def data_process(raw_text_iter):\n",
    "    # подготовим переменную для индексов токенов\n",
    "    data = []\n",
    "    # итерируемся по данным\n",
    "    for item in raw_text_iter:\n",
    "        # каждый пример в датасете -- текст\n",
    "        # токенизируем полученный текст с помощью tokenizer\n",
    "        tokens = tokenizer(item)# ВАШ КОД ЗДЕСЬ\n",
    "        # для каждого токена из полученных токенизатором\n",
    "        # получаем индекс токена в словаре с помощью vocab\n",
    "        # и получаем лист индексов токенов\n",
    "        tokens_ids = vocab.lookup_indices(item)# ВАШ КОД ЗДЕСЬ\n",
    "        # преобразуем полученный лист индексов токенов текста\n",
    "        # в torch.tensor с типом dtype=torch.long\n",
    "        tensor_tokens_ids = torch.Tensor(tokens_ids)# ВАШ КОД ЗДЕСЬ\n",
    "        # добавим в список data полученный тензор,\n",
    "        # если наш сэмпл данных содержит непустые токены (такие примеры получаются,\n",
    "        # когда изначальная строка содержала только символы новой строки)\n",
    "        if len(tokens_ids) > 0:\n",
    "            data += [tensor_tokens_ids]\n",
    "\n",
    "    return torch.cat(data)"
   ]
  },
  {
   "cell_type": "code",
   "execution_count": null,
   "metadata": {
    "id": "ryBoCnh9QHsk",
    "pycharm": {
     "name": "#%%\n"
    }
   },
   "outputs": [],
   "source": [
    "# а теперь перепишем эту функцию, но компактнее записанную\n",
    "# и использующую list comprehension вместо циклов for\n",
    "# (list comprehension работает быстрее)\n",
    "def data_process(raw_text_iter):\n",
    "    data = [torch.tensor(vocab(tokenizer(item)), dtype=torch.long)\n",
    "            for item in raw_text_iter if len(item.strip()) > 0]\n",
    "    return torch.cat(data)"
   ]
  },
  {
   "cell_type": "code",
   "execution_count": null,
   "metadata": {
    "id": "4Cg8wTAaQHsm",
    "pycharm": {
     "name": "#%%\n"
    }
   },
   "outputs": [],
   "source": [
    "# создадим ТРИ итератора по данным, загрузив готовый датасет PennTreebank из torchtext\n",
    "train_iter, val_iter, test_iter = PennTreebank()\n",
    "\n",
    "# предобработаем данные обучающей выборки\n",
    "train_processed_data = data_process(train_iter)\n",
    "# предобработаем данные валидационной выборки\n",
    "val_processed_data = data_process(val_iter)\n",
    "# предобработаем данные тестовой выборки\n",
    "test_processed_data = data_process(test_iter)"
   ]
  },
  {
   "cell_type": "code",
   "execution_count": null,
   "metadata": {
    "id": "re9wjvE8QHsr",
    "outputId": "c319980f-0472-4ff0-9d69-f1336512dc80",
    "colab": {
     "base_uri": "https://localhost:8080/"
    },
    "pycharm": {
     "name": "#%%\n"
    }
   },
   "outputs": [
    {
     "output_type": "execute_result",
     "data": {
      "text/plain": [
       "tensor([9894, 9895, 9896, 9898, 9899, 9900, 9904, 9905, 9906, 9907, 9908, 9910,\n",
       "        9911, 9912, 9913, 9915, 9916, 9917, 9918, 9919, 9920, 9921, 9922, 9923,\n",
       "        9189,    6,    2,   77,  398,   38, 2128,    5,  149,   24,    9, 9141,\n",
       "         278,  413,   12,    2,   28,   12,    6,   18,  144,    7,    6,    2,\n",
       "          12, 2508,   12,    5, 3072, 1597,  100, 7629,    6,    2,   77,  398,\n",
       "          11,  342,  144,    7, 2468,  662, 2164,  958,   29,  527,    9, 9141,\n",
       "         278,    7,   44,  306,  444, 3669,    9,  945,    7, 3139,  502,  266,\n",
       "           8,  141, 6055, 4225, 5999,   36,  990,    9,  244,  765,    7, 1018,\n",
       "        2780,  214,    9,  100])"
      ]
     },
     "metadata": {},
     "execution_count": 46
    }
   ],
   "source": [
    "train_processed_data[:100]"
   ]
  },
  {
   "cell_type": "code",
   "execution_count": null,
   "metadata": {
    "id": "NI56r1lmQHsv",
    "outputId": "75af847a-2419-407c-88ef-66b49e34d881",
    "colab": {
     "base_uri": "https://localhost:8080/"
    },
    "pycharm": {
     "name": "#%%\n"
    }
   },
   "outputs": [
    {
     "output_type": "execute_result",
     "data": {
      "text/plain": [
       "torch.Size([924412])"
      ]
     },
     "metadata": {},
     "execution_count": 47
    }
   ],
   "source": [
    "# какой полуичлся размер обучающей выборки в числе токенов\n",
    "train_processed_data.shape"
   ]
  },
  {
   "cell_type": "code",
   "execution_count": null,
   "metadata": {
    "id": "TgHLvtlgQHs0",
    "outputId": "b2499e70-ff53-45aa-a9e1-63b5f7af0f74",
    "colab": {
     "base_uri": "https://localhost:8080/"
    },
    "pycharm": {
     "name": "#%%\n"
    }
   },
   "outputs": [
    {
     "output_type": "execute_result",
     "data": {
      "text/plain": [
       "['aer',\n",
       " 'banknote',\n",
       " 'berlitz',\n",
       " 'calloway',\n",
       " 'centrust',\n",
       " 'cluett',\n",
       " 'fromstein',\n",
       " 'gitano',\n",
       " 'guterman',\n",
       " 'hydro-quebec',\n",
       " 'ipo',\n",
       " 'kia',\n",
       " 'memotec',\n",
       " 'mlx',\n",
       " 'nahb',\n",
       " 'punts',\n",
       " 'rake',\n",
       " 'regatta',\n",
       " 'rubens',\n",
       " 'sim']"
      ]
     },
     "metadata": {},
     "execution_count": 48
    }
   ],
   "source": [
    "# попробуем перевести индексы слов в словаре в токены с помощью метода lookup_tokens\n",
    "vocab.lookup_tokens(train_processed_data[:20].tolist())"
   ]
  },
  {
   "cell_type": "markdown",
   "metadata": {
    "id": "3UhOq8AOQHs3",
    "pycharm": {
     "name": "#%% md\n"
    }
   },
   "source": [
    "Воспользуемся отложенной ранее строкой `training_samples_example`, чтобы проверить работу словаря и токенизатора"
   ]
  },
  {
   "cell_type": "code",
   "execution_count": null,
   "metadata": {
    "id": "GQ3k1cTMQHs7",
    "outputId": "e231ff83-5f3b-4e70-c04f-346ca2b43f29",
    "colab": {
     "base_uri": "https://localhost:8080/"
    },
    "pycharm": {
     "name": "#%%\n"
    }
   },
   "outputs": [
    {
     "output_type": "execute_result",
     "data": {
      "text/plain": [
       "[9894,\n",
       " 9895,\n",
       " 9896,\n",
       " 9898,\n",
       " 9899,\n",
       " 9900,\n",
       " 9904,\n",
       " 9905,\n",
       " 9906,\n",
       " 9907,\n",
       " 9908,\n",
       " 9910,\n",
       " 9911,\n",
       " 9912,\n",
       " 9913,\n",
       " 9915,\n",
       " 9916,\n",
       " 9917,\n",
       " 9918,\n",
       " 9919]"
      ]
     },
     "metadata": {},
     "execution_count": 49
    }
   ],
   "source": [
    "# перевести токены в индексы слов в словаре с помощью метода lookup_indices\n",
    "training_sample_indices = vocab.lookup_indices(tokenizer(training_samples_example)[:20])\n",
    "training_sample_indices"
   ]
  },
  {
   "cell_type": "code",
   "execution_count": null,
   "metadata": {
    "id": "JYjqmgfKQHs9",
    "outputId": "beb3327d-e8b4-47eb-cd3b-ca31e36d3e49",
    "colab": {
     "base_uri": "https://localhost:8080/"
    },
    "pycharm": {
     "name": "#%%\n"
    }
   },
   "outputs": [
    {
     "output_type": "execute_result",
     "data": {
      "text/plain": [
       "['aer',\n",
       " 'banknote',\n",
       " 'berlitz',\n",
       " 'calloway',\n",
       " 'centrust',\n",
       " 'cluett',\n",
       " 'fromstein',\n",
       " 'gitano',\n",
       " 'guterman',\n",
       " 'hydro-quebec',\n",
       " 'ipo',\n",
       " 'kia',\n",
       " 'memotec',\n",
       " 'mlx',\n",
       " 'nahb',\n",
       " 'punts',\n",
       " 'rake',\n",
       " 'regatta',\n",
       " 'rubens',\n",
       " 'sim']"
      ]
     },
     "metadata": {},
     "execution_count": 50
    }
   ],
   "source": [
    "# перевести индексы слов в словаре в токены с помощью метода lookup_tokens\n",
    "vocab.lookup_tokens(training_sample_indices)"
   ]
  },
  {
   "cell_type": "markdown",
   "metadata": {
    "id": "3-2PDeAeQHs9",
    "pycharm": {
     "name": "#%% md\n"
    }
   },
   "source": [
    "Определим доступный нам для вычисления девайс: `cpu` или `gpu`. Для более эффективного и быстрого обучения, рекомендуется использовать `cpu`."
   ]
  },
  {
   "cell_type": "code",
   "execution_count": null,
   "metadata": {
    "id": "yPgMdV2zQHtA",
    "outputId": "7d8f7922-906c-4a38-e34f-544e14773d69",
    "colab": {
     "base_uri": "https://localhost:8080/"
    },
    "pycharm": {
     "name": "#%%\n"
    }
   },
   "outputs": [
    {
     "output_type": "stream",
     "name": "stdout",
     "text": [
      "cpu\n"
     ]
    }
   ],
   "source": [
    "device = torch.device(\"cuda\" if torch.cuda.is_available() else \"cpu\")\n",
    "print(device)"
   ]
  },
  {
   "cell_type": "markdown",
   "metadata": {
    "id": "_zRuasXiQHtD",
    "pycharm": {
     "name": "#%% md\n"
    }
   },
   "source": [
    "## Батчевание данных\n",
    "\n",
    "Для задачи sequence-to-sequence также хочется использовать батчевание данных для обучения. Однако все примеры в данных обычно разной длины, что в некоторых задач, например, переводе текста или суммаризации, когда входная и целевая последовательности отличаются, приводит к тому, что для кжадого батча определяется собственная максимальная длина (либо длина самого длинного прмиера в батче, либо максимальная допустимая длина примера). В задаче языкового моделирования, а именно предсказания следующего токена последовательности, обычно используется другой способ батчевания данных -- все примеры батча склеиваются в единую последовательность, а затем разбиваются на батчи,а лишние элементы отбрасываются. Да, теряется связь между последовательными элементами, попавшивими в разные батчи, однако, это делает вычисления значительно эффективнее."
   ]
  },
  {
   "cell_type": "code",
   "execution_count": null,
   "metadata": {
    "id": "ThxlcOi1QHtD",
    "pycharm": {
     "name": "#%%\n"
    }
   },
   "outputs": [],
   "source": [
    "def batchify(data, batch_size):\n",
    "    # Разделим размер данных data.size(0) на batch_size частей,\n",
    "    # чтобы получить целое число батчей\n",
    "    nbatch = data.size(0) // batch_size\n",
    "    # обрезаем все элементы, которые не помещаются в пространство nbatch * batch_size\n",
    "    # используем метод narrow для dim=0, start=0 и length=nbatch * batch_size\n",
    "    # https://pytorch.org/docs/stable/generated/torch.narrow.html?highlight=narrow#torch.narrow\n",
    "    data = data.narrow(0, 0, nbatch * batch_size)\n",
    "    # абсолютно аналогично работает следующая строка:\n",
    "    # data = data[:nbatch * batch_size]\n",
    "\n",
    "    # теперь разделим данные на столбцы по размеру батча, используя метод view\n",
    "    data = data.view(batch_size, nbatch)\n",
    "    # транспонируем данные, используя метод t()\n",
    "    # https://pytorch.org/docs/stable/generated/torch.t.html?highlight=t#torch.t\n",
    "    data = data.t()\n",
    "    # преобразуем наш тензор в непрерывный в памяти с помощью метода contiguous\n",
    "    # https://pytorch.org/docs/stable/generated/torch.Tensor.contiguous.html?highlight=contiguous#torch.Tensor.contiguous\n",
    "    data = data.contiguous()\n",
    "    # перенесем данные на девайс и вернем их\n",
    "    return data.to(device)\n",
    "\n",
    "\n",
    "# определим размер батча на время обучения\n",
    "batch_size = 20\n",
    "# определим размер батч на время инференса\n",
    "eval_batch_size = 10\n",
    "\n",
    "# батчуем данные обучающей выборки с помощью нашей функции batchify\n",
    "train_data = batchify(train_processed_data, batch_size)\n",
    "# батчуем данные валидационной выборки с помощью нашей функции batchify\n",
    "val_data = batchify(val_processed_data, eval_batch_size)\n",
    "# батчуем данные тестовой выборки с помощью нашей функции batchify\n",
    "test_data = batchify(test_processed_data, batch_size)"
   ]
  },
  {
   "cell_type": "code",
   "execution_count": null,
   "metadata": {
    "id": "JUX12PKLQHtE",
    "outputId": "ab126d54-13f7-42da-ebc1-36079dc181ea",
    "colab": {
     "base_uri": "https://localhost:8080/"
    },
    "pycharm": {
     "name": "#%%\n"
    }
   },
   "outputs": [
    {
     "output_type": "execute_result",
     "data": {
      "text/plain": [
       "tensor([9894,    8,   35,   20, 1927,  181,    7, 2297,    9,   46, 3414, 1613,\n",
       "           5,  733, 3724, 5724, 2126, 1680,  799,  832])"
      ]
     },
     "metadata": {},
     "execution_count": 53
    }
   ],
   "source": [
    "train_data[0]"
   ]
  },
  {
   "cell_type": "code",
   "execution_count": null,
   "metadata": {
    "id": "PqAVFNQcQHtJ",
    "outputId": "8c56e6ef-131a-45ff-dee3-9d364087c7d5",
    "colab": {
     "base_uri": "https://localhost:8080/"
    },
    "pycharm": {
     "name": "#%%\n"
    }
   },
   "outputs": [
    {
     "output_type": "execute_result",
     "data": {
      "text/plain": [
       "torch.Size([46220, 20])"
      ]
     },
     "metadata": {},
     "execution_count": 54
    }
   ],
   "source": [
    "train_data.shape"
   ]
  },
  {
   "cell_type": "markdown",
   "metadata": {
    "id": "Zui9G644QHtJ",
    "pycharm": {
     "name": "#%% md\n"
    }
   },
   "source": [
    "Теперь мы видим, что у нас есть последовательности данных, неудобные для использования - первая размерность очень большая. Необходимо сделать итерации по первой размерности.\n",
    "\n",
    "\n",
    "Создадим функцию для получения определенного i-го батча данных.\n",
    "\n",
    "При этом введем переменную, содержащую максимальную длину последовательности."
   ]
  },
  {
   "cell_type": "code",
   "execution_count": null,
   "metadata": {
    "id": "VZ7nl0Q1QHtQ",
    "pycharm": {
     "name": "#%%\n"
    }
   },
   "outputs": [],
   "source": [
    "bptt = 35\n",
    "\n",
    "\n",
    "def get_batch(source, i):\n",
    "    \"\"\"\n",
    "    Функция генерирует батч пар входная-выходная последовательности.\n",
    "    Так как последовательности являются длинными,\n",
    "    то мы используем не только размер батча, но и data chunks.\n",
    "\n",
    "    Returns:\n",
    "    - data of dimension (bptt, batch_size)\n",
    "    - targets of dimension (bptt * batch_size)\n",
    "    \"\"\"\n",
    "    # определяем длину последовательности как минимум между bptt и\n",
    "    # длиной всех данных\n",
    "    seq_len = min(bptt, len(source) - 1 - i)\n",
    "    data = source[i : i + seq_len]\n",
    "    target = source[i + 1 : i + 1 + seq_len].reshape(-1)\n",
    "    return data, target"
   ]
  },
  {
   "cell_type": "code",
   "execution_count": null,
   "metadata": {
    "id": "W-2ybdYUQHtT",
    "outputId": "8f1ed046-0aaf-4d8f-9ff7-e0313dd8782f",
    "colab": {
     "base_uri": "https://localhost:8080/"
    },
    "pycharm": {
     "name": "#%%\n"
    }
   },
   "outputs": [
    {
     "output_type": "stream",
     "name": "stdout",
     "text": [
      "torch.Size([35, 20])\n",
      "torch.Size([700])\n"
     ]
    }
   ],
   "source": [
    "data, targets = get_batch(train_data, 0)\n",
    "print(data.shape)\n",
    "print(targets.shape)"
   ]
  },
  {
   "cell_type": "markdown",
   "metadata": {
    "id": "SNSFOfiMQHtU",
    "pycharm": {
     "name": "#%% md\n"
    }
   },
   "source": [
    "## Архитектура модели\n",
    "\n",
    "Данный тюториал предназначен для обучения модели Трансформер с нуля на задаче языкового моделирования.\n",
    "\n",
    "Напомним, что задача языкового моделирования заключается в предсказании распеределения вероятностей заданного токена встретиться сразу после заданной последовательности токенов, то есть по сути, предсказании следующего токена в последовательности.\n",
    "\n",
    "Для языкового моделирования можно использовать модели, состоящие только из энкодера (encoder-only), например модель BERT содержит только энкодер.\n",
    "\n",
    "Итак, будем использовать `torch.nn.TransformerEncoderLayer` и `torch.nn.TransformerEncoder` (который состоит из заданного количества `nn.TransformerEncoderLayer`) в качестве энкодера.\n",
    "\n",
    "Для создания такой модели необходима следующая последовательность действий:\n",
    "1. последовательность токенов (индексов токенов) передается в слой векторных представлений.\n",
    "2. далее последовательность передается в слой позиционных векторных представлений (positional encoding layer), отвечающих за передачу информации о последовательности токенов.\n",
    "3. Полученные векторные представления передаются в линейный слой, размерность которого соответствует размеру словаря. Данный слой предсказывает распределение вероятностей по словарю для следующего токена последовательности.\n",
    "\n",
    "Важной особенностью модели Трансформер является использование masked self-attention, данный метод не позволяет модели смотреть вперед (обращать внимание на токены, которые идут после заданного). Для этого используется специальная маска -- матрица, зануляющая элементы, на которые нельзя обращать внимание.\n",
    "\n",
    "\n",
    "На рисунке ниже представлена схема encoder-only модели. В качестве features  мы получаем скрытые векторные представления входной последовательности, которые пропускаются через линейный слой для получения распределения вероятностей по словарю для следующего токена. Причем таких Encoder block может быть расположено последовательно несколько штук.\n",
    "\n",
    "<img src=\"https://www.researchgate.net/publication/334288604/figure/fig1/AS:778232232148992@1562556431066/The-Transformer-encoder-structure.ppm\">"
   ]
  },
  {
   "cell_type": "markdown",
   "metadata": {
    "id": "fwyDRwg5QHtX",
    "pycharm": {
     "name": "#%% md\n"
    }
   },
   "source": [
    "## Позиционные векторные представления (Positional Encoding)\n",
    "\n",
    "Для передачи модели информации о взаимном расположении токенов необходимо также добавить позиционные векторные представления. Позиционные векторные представленияимеют те же размерности, что и векторные представления токенов самих по себе, что позволяет суммировать их в дальнейшем. В оригианльной работе Attention is All You Need авторы исследуют разные варианты используемых функций для позиционных векторных представлений и приходят к выводу, что используемые функции не играют значительной роли. Наиболее распространенными вариантами являются периодические функции синуса и косинуса.\n"
   ]
  },
  {
   "cell_type": "code",
   "execution_count": null,
   "metadata": {
    "id": "-z2tOFrDQHtZ",
    "pycharm": {
     "name": "#%%\n"
    }
   },
   "outputs": [],
   "source": [
    "import math\n",
    "import torch\n",
    "import torch.nn as nn\n",
    "\n",
    "\n",
    "class PositionalEncoding(nn.Module):\n",
    "\n",
    "    def __init__(self, d_model, dropout=0.1, max_len=5000):\n",
    "        super(PositionalEncoding, self).__init__()\n",
    "\n",
    "        # создадим слой dropout как инстанс nn.Dropout слоя,\n",
    "        # получающего на вход значение dropout\n",
    "        self.dropout = nn.Dropout(p=dropout)\n",
    "        # создадим переменную pe как нулевую матрицу torch.zeros размера (max_len x d_model)\n",
    "        pe = torch.zeros(max_len, d_model) # ВАШ КОД ЗДЕСЬ\n",
    "        # создадим переменную position как вектор torch.arange типа torch.float размера max_len,\n",
    "        # содержащий последовательные значения от 0 до max_len-1\n",
    "        position = torch.arange(max_len, dtype=torch.float)  # ВАШ КОД ЗДЕСЬ\n",
    "        # вытянем position вдоль оси 1 с помощью метода unsqueeze\n",
    "        position = position.unsqueeze(1)  # ВАШ КОД ЗДЕСЬ\n",
    "        # создадим переменную div_term как вектор torch.arange типа torch.float размера d_model / 2,\n",
    "        # содержащий каждое 2-е последовательное значение от 0 до d_model-1\n",
    "        div_term = torch.arange(0, d_model, 2).float()\n",
    "        # домножим каждое значение div_term на специальный коэффициент (-math.log(10000.0) / d_model)\n",
    "        div_term = torch.exp(div_term * (-math.log(10000.0) / d_model))\n",
    "        # итак позиционные эмбеддинги нечетных элементов представляют из себя\n",
    "        # перемноженные position и div_term пропускают через sin\n",
    "        # https://pytorch.org/docs/stable/generated/torch.sin.html\n",
    "        pe[:, 0::2] = torch.sin(position * div_term)\n",
    "        # итак позиционные эмбеддинги четных элементов представляют из себя\n",
    "        # перемноженные position и div_term пропускают через cos\n",
    "        # https://pytorch.org/docs/stable/generated/torch.cos.html\n",
    "        pe[:, 1::2] = torch.cos(position * div_term)\n",
    "        # вытянем pe вдоль оси 0 с помощью метода unsqueeze\n",
    "        pe = pe.unsqueeze(0)\n",
    "        # транспонируем ее с помощью метода transpose\n",
    "        pe = pe.transpose(0, 1)\n",
    "        # добавим pe переменную в буффер модуля\n",
    "        # https://pytorch.org/docs/stable/generated/torch.nn.Module.html\n",
    "        self.register_buffer('pe', pe)\n",
    "\n",
    "    def forward(self, x):\n",
    "        # добавим в исходным веткорным представления pe соответствующего размера\n",
    "        x = x + self.pe[:x.size(0), :]\n",
    "        # пропустим также выход через слой dropout\n",
    "        return self.dropout(x) # ВАШ КОД ЗДЕСЬ"
   ]
  },
  {
   "cell_type": "markdown",
   "metadata": {
    "id": "dPvsgqF6QHta",
    "pycharm": {
     "name": "#%% md\n"
    }
   },
   "source": [
    "**Создадим саму архиектуру модели, использующую наши позиционные векторные представления**."
   ]
  },
  {
   "cell_type": "code",
   "execution_count": null,
   "metadata": {
    "id": "kAsC9TncQHta",
    "pycharm": {
     "name": "#%%\n"
    }
   },
   "outputs": [],
   "source": [
    "import math\n",
    "import torch\n",
    "import torch.nn as nn\n",
    "import torch.nn.functional as F\n",
    "from torch.nn import TransformerEncoder, TransformerEncoderLayer\n",
    "\n",
    "\n",
    "class TransformerModel(nn.Module):\n",
    "\n",
    "    def __init__(self, vocab_size, emb_size, n_heads, hidden_dim, n_blocks, dropout=0.5):\n",
    "        super(TransformerModel, self).__init__()\n",
    "        # сохраним в атрибуты класса размер векторных представлений,\n",
    "        # чтобы он был доступен во всех методах класса\n",
    "        self.emb_size = emb_size\n",
    "\n",
    "        # зададим тип модели как 'Transformer'\n",
    "        self.model_type = 'Transformer'\n",
    "\n",
    "        # создадим слой pos_encoder как инстанс класса PositionalEncoding,\n",
    "        # принимающий на вход размер векторных представлений и дропаут\n",
    "        self.pos_encoder = PositionalEncoding(d_model=emb_size, dropout=dropout, max_len=5000)   # ВАШ КОД ЗДЕСЬ\n",
    "\n",
    "        # создадим слой encoder_layers как инстанс слоя TransformerEncoderLayer,\n",
    "        # принимающий на вход размер векторных представлений, число голов,\n",
    "        # размер скрытого пространства и дропаут\n",
    "        # https://pytorch.org/docs/stable/generated/torch.nn.TransformerEncoderLayer.html\n",
    "        encoder_layers = TransformerEncoderLayer(d_model=emb_size,\n",
    "                                                 nhead=n_heads,\n",
    "                                                 dim_feedforward=hidden_dim,\n",
    "                                                 dropout=dropout )  # ВАШ КОД ЗДЕСЬ\n",
    "\n",
    "        # создадим слой transformer_encoder как инстанс слоя TransformerEncoder,\n",
    "        # принимающий на вход на инстанс encoder_layers и желаемое число блоков энкодера\n",
    "        # https://pytorch.org/docs/stable/generated/torch.nn.TransformerEncoder.html\n",
    "        self.transformer_encoder = TransformerEncoder(encoder_layer=encoder_layers, num_layers=n_blocks)  # ВАШ КОД ЗДЕСЬ\n",
    "\n",
    "        # создадим слой encoder как инстанс слоя nn.Embedding,\n",
    "        # принимающий на вход размер словаря и размер векторных представлений\n",
    "        # https://pytorch.org/docs/stable/generated/torch.nn.Embedding.html\n",
    "        self.encoder = nn.Embedding(num_embeddings=vocab_size, embedding_dim=emb_size )  # ВАШ КОД ЗДЕСЬ\n",
    "\n",
    "        # создадим слой decoder как инстанс слоя nn.Linear,\n",
    "        # который преобразует вектора размерности векторных представлений в размер словаря\n",
    "        # https://pytorch.org/docs/stable/generated/torch.nn.Linear.html\n",
    "        self.decoder = nn.Linear(in_features=emb_size, out_features=vocab_size) # ВАШ КОД ЗДЕСЬ\n",
    "\n",
    "        # инциализируем веса нашей модели с помощью нашего метода init_weights\n",
    "        self.init_weights()\n",
    "\n",
    "    def generate_square_subsequent_mask(self, sz):\n",
    "        \"\"\"\n",
    "        Данный метод создает квадратную маску размера (sz x sz) для self-attention.\n",
    "        \"\"\"\n",
    "        # создадим единичную матрицу torch.ones размера (sz x sz)\n",
    "        mask = torch.ones(sz, sz)\n",
    "        # превратим ее в верхнетреугольную матрицу с помощью torch.triu\n",
    "        # (элементы на диалогнали и выше диалогнали -- единицы, остальные -- нули)\n",
    "        mask = torch.triu(mask)\n",
    "        # транспонируем ее с помощью метода transpose\n",
    "        mask = mask.transpose(0, 1)\n",
    "\n",
    "        # заменим значения, равные нулю, на -inf\n",
    "        mask = mask.masked_fill(mask == 0, float('-inf'))\n",
    "        # заменим значения, равные единице, на 0.0\n",
    "        mask = mask.masked_fill(mask == 1, float(0.0))\n",
    "        return mask\n",
    "\n",
    "    def init_weights(self):\n",
    "        initrange = 0.1\n",
    "        # инициализируем веса энкодера случайными величинами\n",
    "        # из равномерного распределения в диапазоне (-initrange, initrange)\n",
    "        self.encoder.weight.data.uniform_(-initrange, initrange)\n",
    "        # зададим в качестве начальных нулевые bias\n",
    "        self.decoder.bias.data.zero_()\n",
    "        # инициализируем веса декодера (линейного слоя) случайными величинами\n",
    "        # из равномерного распределения в диапазоне (-initrange, initrange)\n",
    "        self.decoder.weight.data.uniform_(-initrange, initrange)\n",
    "\n",
    "    def forward(self, src, src_mask):\n",
    "        # входная последовательность обрабатывается с помощью encoder\n",
    "        src = self.encoder(src)\n",
    "        # полученная последовательность домножается на квадратный корень\n",
    "        # из размера векторных представлений\n",
    "        src = src * math.sqrt(self.emb_size)\n",
    "        # полученная последовательность обрабатывается с помощью pos_encoder\n",
    "        src = self.pos_encoder(src)\n",
    "        # полученная последовательность обрабатывается с помощью transformer_encoder,\n",
    "        # который также принимает на вход маску для self-attention\n",
    "        output = self.transformer_encoder(src, src_mask)\n",
    "        # полученная последовательность обрабатывается с помощью decoder\n",
    "        output = self.decoder(output) # ВАШ КОД ЗДЕСЬ\n",
    "        return output"
   ]
  },
  {
   "cell_type": "code",
   "source": [
    "torch.use_deterministic_algorithms(False)"
   ],
   "metadata": {
    "id": "IvcaoUk6emF2",
    "pycharm": {
     "name": "#%%\n"
    }
   },
   "execution_count": null,
   "outputs": []
  },
  {
   "cell_type": "markdown",
   "metadata": {
    "id": "yv04BKl2QHta",
    "pycharm": {
     "name": "#%% md\n"
    }
   },
   "source": [
    "## Инициализация модели\n",
    "\n",
    "Теперь мы можем инициалировать класс модели. Выберем размер векторных представлений 200, но вы можете изменить на больший размер."
   ]
  },
  {
   "cell_type": "code",
   "execution_count": null,
   "metadata": {
    "id": "EEoDhS7EQHta",
    "outputId": "27610512-517e-4f65-f731-b768ac8b2857",
    "colab": {
     "base_uri": "https://localhost:8080/"
    },
    "pycharm": {
     "name": "#%%\n"
    }
   },
   "outputs": [
    {
     "output_type": "stream",
     "name": "stderr",
     "text": [
      "/usr/local/lib/python3.10/dist-packages/torch/nn/modules/transformer.py:282: UserWarning: enable_nested_tensor is True, but self.use_nested_tensor is False because encoder_layer.self_attn.batch_first was not True(use batch_first for better inference performance)\n",
      "  warnings.warn(f\"enable_nested_tensor is True, but self.use_nested_tensor is False because {why_not_sparsity_fast_path}\")\n"
     ]
    },
    {
     "output_type": "execute_result",
     "data": {
      "text/plain": [
       "TransformerModel(\n",
       "  (pos_encoder): PositionalEncoding(\n",
       "    (dropout): Dropout(p=0.2, inplace=False)\n",
       "  )\n",
       "  (transformer_encoder): TransformerEncoder(\n",
       "    (layers): ModuleList(\n",
       "      (0-1): 2 x TransformerEncoderLayer(\n",
       "        (self_attn): MultiheadAttention(\n",
       "          (out_proj): NonDynamicallyQuantizableLinear(in_features=200, out_features=200, bias=True)\n",
       "        )\n",
       "        (linear1): Linear(in_features=200, out_features=200, bias=True)\n",
       "        (dropout): Dropout(p=0.2, inplace=False)\n",
       "        (linear2): Linear(in_features=200, out_features=200, bias=True)\n",
       "        (norm1): LayerNorm((200,), eps=1e-05, elementwise_affine=True)\n",
       "        (norm2): LayerNorm((200,), eps=1e-05, elementwise_affine=True)\n",
       "        (dropout1): Dropout(p=0.2, inplace=False)\n",
       "        (dropout2): Dropout(p=0.2, inplace=False)\n",
       "      )\n",
       "    )\n",
       "  )\n",
       "  (encoder): Embedding(9924, 200)\n",
       "  (decoder): Linear(in_features=200, out_features=9924, bias=True)\n",
       ")"
      ]
     },
     "metadata": {},
     "execution_count": 60
    }
   ],
   "source": [
    "# размер словаря\n",
    "vocab_size = vocab.__len__()\n",
    "# размер векторных представлений\n",
    "emb_size = 200\n",
    "# размерность скрытого полносвязного слоя в nn.TransformerEncoder\n",
    "hidden_dim = 200\n",
    "# число  nn.TransformerEncoderLayer слоев в nn.TransformerEncoder\n",
    "n_blocks = 2\n",
    "# число голов  в  multiheadattention\n",
    "n_heads = 2\n",
    "# величина dropout\n",
    "dropout = 0.2\n",
    "\n",
    "# инициализируем нашу модель класса TransformerModel,\n",
    "# передав в качестве аргументов:\n",
    "# размер словаря\n",
    "# размер векторных представлений\n",
    "# число голов  в  multiheadattention\n",
    "# размерность скрытого полносвязного слоя в nn.TransformerEncoder\n",
    "# число  nn.TransformerEncoderLayer слоев в nn.TransformerEncoder\n",
    "# величину dropout\n",
    "model = TransformerModel(vocab_size, emb_size, n_heads, hidden_dim, n_blocks, dropout)\n",
    "# перенесем модель на девайс\n",
    "model.to(device)"
   ]
  },
  {
   "cell_type": "markdown",
   "metadata": {
    "id": "m0oh07HXQHtb",
    "pycharm": {
     "name": "#%% md\n"
    }
   },
   "source": [
    "# Обучение модели\n",
    "\n",
    "\n",
    "В качестве лосса используем CrossEntropyLoss, в качестве оптимайзера -- Stochastic Gradient Descent (SGD)."
   ]
  },
  {
   "cell_type": "code",
   "execution_count": null,
   "metadata": {
    "id": "W84myrlJQHtf",
    "pycharm": {
     "name": "#%%\n"
    }
   },
   "outputs": [],
   "source": [
    "import time\n",
    "\n",
    "\n",
    "UNK_TOKEN = \"<unk>\"\n",
    "vocab.set_default_index(vocab[UNK_TOKEN])\n",
    "\n",
    "LOG_INTERVAL = 500\n",
    "EPOCHS = 3 # epoch\n",
    "LR = 5  # learning rate - lr\n",
    "# определим функцию потерь torch.nn.CrossEntropyLoss\n",
    "criterion = torch.nn.CrossEntropyLoss() # ВАШ КОД ЗДЕСЬ\n",
    "# определим оптимизатор torch.optim.SGD с заданным lr,\n",
    "# передав также параметры модели model.parameters()\n",
    "optimizer = torch.optim.SGD(model.parameters(), lr=LR)\n",
    "# определим расписание изменения значения lr torch.optim.lr_scheduler.StepLR\n",
    "# передав в качестве аргументов optimizer,\n",
    "# значение step_size равное 1, и значение gamma 0.95 (коэффициент убывания)\n",
    "scheduler = torch.optim.lr_scheduler.StepLR(optimizer=optimizer, step_size=1, gamma=0.95)   # ВАШ КОД ЗДЕСЬ\n",
    "\n",
    "\n",
    "def train():\n",
    "    # создадим переменную для сохранения лоссов на обучающей выборке\n",
    "    train_losses = []\n",
    "    # обязательно переводим модель в режим обучения с помощью метода train()\n",
    "    model.train()\n",
    "    total_loss = 0.\n",
    "    start_time = time.time()\n",
    "    # используем метод модели generate_square_subsequent_mask для генерации маски,\n",
    "    # передавая в качестве аргумента bptt, а также перенесем результат на девайс\n",
    "    src_mask = model.generate_square_subsequent_mask(bptt).to(device)\n",
    "\n",
    "    # итерируемся батчами по заданному датасету\n",
    "    for batch, i in enumerate(range(0, train_data.size(0) - 1, bptt)):\n",
    "        # получаем данные для батча под номером i\n",
    "        data, targets = get_batch(train_data, i)\n",
    "        # обнуляем градиенты с помощью метода zero_grad\n",
    "        optimizer.zero_grad()  # ВАШ КОД ЗДЕСЬ\n",
    "\n",
    "        if data.size(0) != bptt:\n",
    "            # используем метод модели generate_square_subsequent_mask для генерации маски,\n",
    "            # передавая в качестве аргумента bptt, а также перенесем результат на девайс\n",
    "            src_mask = model.generate_square_subsequent_mask(data.size(0)).to(device)\n",
    "\n",
    "        # передаем в модель data и src_mask\n",
    "        output = model(data, src_mask) # ВАШ КОД ЗДЕСЬ\n",
    "        # получим распределение logits по выходным токенам\n",
    "        output_tokens = output.view(-1, vocab_size)\n",
    "        # подсчитываем лосс с помощью criterion,\n",
    "        # вычисляемого на основе output_tokens и targets\n",
    "        # (напоминаю, targets -- это те же токены, сдвинутые на 1 вперед)\n",
    "        loss = criterion(output_tokens, targets)\n",
    "        # обратное распространение ошибки с помощью метода backward()\n",
    "        loss.backward() # ВАШ КОД ЗДЕСЬ\n",
    "        # ограничиваем норму градиентов с помощью метода\n",
    "        # torch.nn.utils.clip_grad_norm_, в который передаются\n",
    "        # параметры модели model.parameters() и макс. значение нормы 0.5\n",
    "        torch.nn.utils.clip_grad_norm_(model.parameters(), 0.5)\n",
    "        # делаем шаг оптимизатора, то есть обновляем веса модели,\n",
    "        # с помощью метода step()\n",
    "        optimizer.step() # ВАШ КОД ЗДЕСЬ\n",
    "\n",
    "        total_loss += loss.item()\n",
    "        # добавим текущее значение лосса на батче обучающей выборки в наш лист\n",
    "        # train_losses, который потом будем использовать для печати лоссов\n",
    "        train_losses += [loss.item()]\n",
    "\n",
    "        # теперь проверяем, не настоли ли время логгирования скоров на обучающей выборке\n",
    "        if batch % LOG_INTERVAL == 0 and batch > 0:\n",
    "            cur_loss = total_loss / LOG_INTERVAL\n",
    "            elapsed = time.time() - start_time\n",
    "            print('| epoch {:3d} | {:5d}/{:5d} batches | '\n",
    "                  'lr {:02.5f} | ms/batch {:5.2f} | '\n",
    "                  'loss {:5.2f} | ppl {:8.2f}'.format(\n",
    "                    epoch, batch, len(train_data) // bptt, scheduler.get_last_lr()[0],\n",
    "                    elapsed * 1000 / LOG_INTERVAL,\n",
    "                    cur_loss, math.exp(cur_loss)))\n",
    "            total_loss = 0\n",
    "            start_time = time.time()\n",
    "\n",
    "    return train_losses\n",
    "\n",
    "\n",
    "def evaluate(eval_model, data_source):\n",
    "    # обязательно переводим модель в режим инференса (эвалюации)\n",
    "    # с помощью метода eval()\n",
    "    eval_model.eval()\n",
    "\n",
    "    total_loss = 0.\n",
    "    src_mask = model.generate_square_subsequent_mask(bptt).to(device)\n",
    "\n",
    "    # эвалюация не должна обновлять градиенты модели\n",
    "    with torch.no_grad():\n",
    "          # итерируемся батчами по заданному датасету\n",
    "        for i in range(0, data_source.size(0) - 1, bptt):\n",
    "            # получаем данные для батча под номером i\n",
    "            data, targets = get_batch(data_source, i)\n",
    "            if data.size(0) != bptt:\n",
    "                # используем метод модели generate_square_subsequent_mask для генерации маски,\n",
    "                # передавая в качестве аргумента bptt, а также перенесем результат на девайс\n",
    "                src_mask = model.generate_square_subsequent_mask(data.size(0)).to(device)\n",
    "            # передаем в модель data и src_mask\n",
    "            output = eval_model(data, src_mask) # ВАШ КОД ЗДЕСЬ\n",
    "            # получим распределение logits по выходным токенам\n",
    "            output_flat = output.view(-1, vocab_size)\n",
    "            # подсчитываем лосс с помощью criterion,\n",
    "            # вычисляемого на основе output_tokens и targets\n",
    "            # (напоминаю, targets -- это те же токены, сдвинутые на 1 вперед)\n",
    "            valid_loss = criterion(output_flat, targets).item()\n",
    "            total_loss += len(data) * valid_loss\n",
    "\n",
    "    return total_loss / (len(data_source) - 1)"
   ]
  },
  {
   "cell_type": "markdown",
   "metadata": {
    "id": "4BPMW4m9QHti",
    "pycharm": {
     "name": "#%% md\n"
    }
   },
   "source": [
    "Запускаем тренировку и смотрим, как падает лосс."
   ]
  },
  {
   "cell_type": "code",
   "execution_count": null,
   "metadata": {
    "id": "uYLlzbstQHtm",
    "outputId": "146d3ca6-84a8-40ef-f8bf-cbd2bf21becf",
    "colab": {
     "base_uri": "https://localhost:8080/"
    },
    "pycharm": {
     "name": "#%%\n"
    }
   },
   "outputs": [
    {
     "output_type": "stream",
     "name": "stdout",
     "text": [
      "| epoch   1 |   500/ 1320 batches | lr 5.00000 | ms/batch 208.69 | loss  6.40 | ppl   602.74\n",
      "| epoch   1 |  1000/ 1320 batches | lr 5.00000 | ms/batch 199.05 | loss  5.64 | ppl   281.67\n",
      "-----------------------------------------------------------------------------------------\n",
      "| end of epoch   1 | time: 275.35s | valid loss  5.48 | valid ppl   239.42\n",
      "-----------------------------------------------------------------------------------------\n",
      "| epoch   2 |   500/ 1320 batches | lr 4.75000 | ms/batch 197.17 | loss  5.35 | ppl   209.76\n",
      "| epoch   2 |  1000/ 1320 batches | lr 4.75000 | ms/batch 199.51 | loss  5.26 | ppl   191.60\n",
      "-----------------------------------------------------------------------------------------\n",
      "| end of epoch   2 | time: 269.49s | valid loss  5.32 | valid ppl   204.95\n",
      "-----------------------------------------------------------------------------------------\n",
      "| epoch   3 |   500/ 1320 batches | lr 4.51250 | ms/batch 198.48 | loss  5.13 | ppl   168.52\n",
      "| epoch   3 |  1000/ 1320 batches | lr 4.51250 | ms/batch 199.19 | loss  5.08 | ppl   160.58\n",
      "-----------------------------------------------------------------------------------------\n",
      "| end of epoch   3 | time: 270.44s | valid loss  5.26 | valid ppl   192.64\n",
      "-----------------------------------------------------------------------------------------\n"
     ]
    }
   ],
   "source": [
    "best_val_loss = float(\"inf\")\n",
    "best_model = None\n",
    "\n",
    "# зададим переменные для сохранения хначения лоссов\n",
    "# для дальнейшего построения графиков\n",
    "train_losses = []\n",
    "eval_losses = []\n",
    "\n",
    "# подсчитаем значения лосса на валидационной выборке до начала обучения с помощью нашей функции evaluate\n",
    "val_loss = evaluate(model, val_data)\n",
    "# сохраним первое значение лосса на валидационной подвыборке\n",
    "eval_losses += [val_loss]\n",
    "\n",
    "\n",
    "for epoch in range(1, EPOCHS + 1):\n",
    "    epoch_start_time = time.time()\n",
    "    # запускаем обучения на 1 эпоху с помощью нашей функции train\n",
    "    train_losses += train()\n",
    "    # подсчитываем качество на валидационной подвыборке\n",
    "    # с помощью нашей функции evaluate\n",
    "    val_loss = evaluate(model, val_data)\n",
    "    print('-' * 89)\n",
    "    print('| end of epoch {:3d} | time: {:5.2f}s | valid loss {:5.2f} | '\n",
    "          'valid ppl {:8.2f}'.format(epoch, (time.time() - epoch_start_time),\n",
    "                                     val_loss, math.exp(val_loss)))\n",
    "    print('-' * 89)\n",
    "    eval_losses += [val_loss]\n",
    "\n",
    "    if val_loss < best_val_loss:\n",
    "        best_val_loss = val_loss\n",
    "        best_model = model\n",
    "\n",
    "    scheduler.step()\n"
   ]
  },
  {
   "cell_type": "code",
   "execution_count": null,
   "metadata": {
    "id": "GoWkFlbfQHtn",
    "outputId": "8adad5cc-0da8-4919-fb8f-5fae6af2513f",
    "colab": {
     "base_uri": "https://localhost:8080/"
    },
    "pycharm": {
     "name": "#%%\n"
    }
   },
   "outputs": [
    {
     "output_type": "execute_result",
     "data": {
      "text/plain": [
       "(3963, 4, 1321.0)"
      ]
     },
     "metadata": {},
     "execution_count": 63
    }
   ],
   "source": [
    "len(train_losses), len(eval_losses), len(train_losses) / EPOCHS"
   ]
  },
  {
   "cell_type": "markdown",
   "metadata": {
    "id": "usOj4Bg_QHto",
    "pycharm": {
     "name": "#%% md\n"
    }
   },
   "source": [
    "## Построим графики loss значений"
   ]
  },
  {
   "cell_type": "code",
   "execution_count": null,
   "metadata": {
    "id": "-hTC6UfbQHto",
    "outputId": "af05134d-8652-4cc8-97a5-3b9de2b2a06a",
    "colab": {
     "base_uri": "https://localhost:8080/",
     "height": 522
    },
    "pycharm": {
     "name": "#%%\n"
    }
   },
   "outputs": [
    {
     "output_type": "display_data",
     "data": {
      "text/plain": [
       "<Figure size 1200x600 with 1 Axes>"
      ],
      "image/png": "[encoded data removed]"
     },
     "metadata": {}
    }
   ],
   "source": [
    "%matplotlib inline\n",
    "import matplotlib.pyplot as plt\n",
    "import numpy as np\n",
    "\n",
    "#% matplotlib.inline\n",
    "\n",
    "\n",
    "# так как в train_losses хранятся лоссы с каждого батча, то их слишком много\n",
    "# для качественной и наглядной визуализации.\n",
    "# Построим также сглаженное значение train_losses c заданным SMOOTHING_PERIOD\n",
    "SMOOTHING_PERIOD = 500\n",
    "\n",
    "plt.figure(figsize=[12, 6])\n",
    "# строим полученные лоссы с каждого батча обучения\n",
    "plt.plot(train_losses, label=\"train\")\n",
    "\n",
    "# получим сглаженные значения train_losses\n",
    "smoothed = np.convolve(train_losses, np.ones(SMOOTHING_PERIOD)/SMOOTHING_PERIOD)\n",
    "# строим сглаженные лоссы обучения\n",
    "plt.plot(smoothed[SMOOTHING_PERIOD:-SMOOTHING_PERIOD], label=\"train-smoothed\")\n",
    "\n",
    "# строим полученные лоссы с каждой эвалюации\n",
    "plt.plot(len(train_losses) / EPOCHS * np.arange(EPOCHS + 1), eval_losses, label=\"valid\")\n",
    "\n",
    "# добавим легенду для интерпретируемости\n",
    "plt.legend()\n",
    "plt.show()"
   ]
  },
  {
   "cell_type": "code",
   "execution_count": null,
   "metadata": {
    "id": "1JPN5tz-QHto",
    "pycharm": {
     "name": "#%%\n"
    }
   },
   "outputs": [],
   "source": []
  },
  {
   "cell_type": "code",
   "execution_count": null,
   "metadata": {
    "id": "h965sq1nQHto",
    "pycharm": {
     "name": "#%%\n"
    }
   },
   "outputs": [],
   "source": []
  },
  {
   "cell_type": "code",
   "execution_count": null,
   "metadata": {
    "id": "jYC5jyDdQHto",
    "pycharm": {
     "name": "#%%\n"
    }
   },
   "outputs": [],
   "source": []
  }
 ],
 "metadata": {
  "kernelspec": {
   "display_name": "Python 3 (ipykernel)",
   "language": "python",
   "name": "python3"
  },
  "language_info": {
   "codemirror_mode": {
    "name": "ipython",
    "version": 3
   },
   "file_extension": ".py",
   "mimetype": "text/x-python",
   "name": "python",
   "nbconvert_exporter": "python",
   "pygments_lexer": "ipython3",
   "version": "3.9.13"
  },
  "colab": {
   "provenance": []
  }
 },
 "nbformat": 4,
 "nbformat_minor": 0
}